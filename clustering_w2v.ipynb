{
 "cells": [
  {
   "cell_type": "markdown",
   "metadata": {
    "pycharm": {
     "name": "#%% md\n"
    }
   },
   "source": [
    "<div dir=\"rtl\">\n",
    "<center>\n",
    "<span style=\"color:red\"><h1> به نام خدا</h1></span>\n",
    "<h2>تمرین چهارم درس بازیابی اطلاعات</h2>\n",
    "<span style=\"color:blue\"><h3>خوشه بندی آیه‌ها و سوره‌های قرآنی</h3></span>\n",
    "</center>\n",
    "<ul>\n",
    "<h3>اعضا:</h3>\n",
    "<li>دانا افاضلی: 98105592</li>\n",
    "<li>محمد ابول نژادیان: 98103867</li>\n",
    "<li>آرین احدی نیا: 98103878</li>\n",
    "</ul>\n",
    "</div>\n"
   ]
  },
  {
   "cell_type": "markdown",
   "metadata": {
    "pycharm": {
     "name": "#%% md\n"
    }
   },
   "source": [
    "<div dir=\"rtl\">\n",
    "<span style=\"color:red\"><h2>مقدمه</h2></span>\n",
    "\n",
    "\n",
    "در این تمرین قصد داریم تا با استفاده از \n",
    "text embedding\n",
    "آیه‌ها و سوره‌های قرآن را خوشه بندی کنیم. در این تمرین بردارهای تعبیه را با استفاده از \n",
    "w2v\n",
    "میسازیم.\n",
    "برای تنظیم هایپر پارامترهای مدل خود، از مقاله زیر استفاده میکنیم:\n",
    "\n",
    "<a href=\"https://ieeexplore.ieee.org/document/8566605\">Word Embedding in Small Corpora: A Case Study in Quran</a>\n",
    "\n",
    "در این مقاله که البته روی قرآن انگلیسی ترین شده (ما روی قرآن عربی ترین میکنیم) بهترین مدل\n",
    "skipgram\n",
    "ترین شده دارای پنجره ۱۵، طول بردار ۷ و طی ۳۰ تکرار روی کل دیتاست ترین شده است. ما نیز از همین پارامترها استفاده میکنیم.\n",
    "\n",
    "در قسمت اول تمرین، قرآن را بر اساس آیه‌ها خوشه بندی میکنیم و بعد سعی میکنیم که مورد گفته شده در صورت سوال را در مورد آن تست کنیم. سپس در قسمت دوم سوره‌ها را خوشه بندی کرده و روش ارزیابی دوم را که مکی یا مدنی بودن سوره‌ها است تست میکنیم.\n",
    "</div>"
   ]
  },
  {
   "cell_type": "code",
   "execution_count": 1,
   "metadata": {
    "pycharm": {
     "name": "#%%\n"
    }
   },
   "outputs": [],
   "source": [
    "import pickle as pkl\n",
    "import re\n",
    "import requests\n",
    "import numpy as np\n",
    "import pandas as pd\n",
    "from gensim.models import Word2Vec\n",
    "from sklearn.cluster import KMeans\n",
    "from sklearn.manifold import TSNE\n",
    "import matplotlib.pyplot as plt\n",
    "from collections import Counter\n",
    "from sklearn.metrics import silhouette_score"
   ]
  },
  {
   "cell_type": "code",
   "execution_count": 2,
   "metadata": {
    "pycharm": {
     "name": "#%%\n"
    }
   },
   "outputs": [],
   "source": [
    "#Set to show DFs full\n",
    "pd.set_option('display.max_colwidth', None)"
   ]
  },
  {
   "cell_type": "markdown",
   "metadata": {
    "pycharm": {
     "name": "#%% md\n"
    }
   },
   "source": [
    "<div dir=\"rtl\">\n",
    "<span style=\"color:red\"><h2>پیش پردازش</h2></span>\n",
    "</div>"
   ]
  },
  {
   "cell_type": "markdown",
   "metadata": {
    "pycharm": {
     "name": "#%% md\n"
    }
   },
   "source": [
    "<div dir=\"rtl\">\n",
    "دیتاست مورد استفاده همان دیتاستی است که در تمرین ۳ استفاده کرده‌ایم. پیش پردازش انجام شده روی آن به این شکل است که از هر گروه اسمی تنها هسته آنرا برمیداریم و آنرا در صورت امکان ریشه‌یابی یا لمتایز میکنیم.\n",
    "</div>"
   ]
  },
  {
   "cell_type": "code",
   "execution_count": 3,
   "metadata": {
    "pycharm": {
     "name": "#%%\n"
    }
   },
   "outputs": [
    {
     "data": {
      "text/html": [
       "<div>\n",
       "<style scoped>\n",
       "    .dataframe tbody tr th:only-of-type {\n",
       "        vertical-align: middle;\n",
       "    }\n",
       "\n",
       "    .dataframe tbody tr th {\n",
       "        vertical-align: top;\n",
       "    }\n",
       "\n",
       "    .dataframe thead th {\n",
       "        text-align: right;\n",
       "    }\n",
       "</style>\n",
       "<table border=\"1\" class=\"dataframe\">\n",
       "  <thead>\n",
       "    <tr style=\"text-align: right;\">\n",
       "      <th></th>\n",
       "      <th>chapter</th>\n",
       "      <th>verse</th>\n",
       "      <th>word</th>\n",
       "      <th>subword</th>\n",
       "      <th>unicode_diac</th>\n",
       "      <th>unicode_wo_diac</th>\n",
       "      <th>postag</th>\n",
       "      <th>is_stem</th>\n",
       "      <th>unicode_lemm</th>\n",
       "      <th>unicode_root</th>\n",
       "    </tr>\n",
       "  </thead>\n",
       "  <tbody>\n",
       "    <tr>\n",
       "      <th>0</th>\n",
       "      <td>1</td>\n",
       "      <td>1</td>\n",
       "      <td>1</td>\n",
       "      <td>1</td>\n",
       "      <td>بِ</td>\n",
       "      <td>ب</td>\n",
       "      <td>P</td>\n",
       "      <td>False</td>\n",
       "      <td>NaN</td>\n",
       "      <td>NaN</td>\n",
       "    </tr>\n",
       "    <tr>\n",
       "      <th>1</th>\n",
       "      <td>1</td>\n",
       "      <td>1</td>\n",
       "      <td>1</td>\n",
       "      <td>2</td>\n",
       "      <td>سْمِ</td>\n",
       "      <td>سم</td>\n",
       "      <td>N</td>\n",
       "      <td>True</td>\n",
       "      <td>اسم</td>\n",
       "      <td>سمو</td>\n",
       "    </tr>\n",
       "    <tr>\n",
       "      <th>2</th>\n",
       "      <td>1</td>\n",
       "      <td>1</td>\n",
       "      <td>2</td>\n",
       "      <td>1</td>\n",
       "      <td>ٱللَّهِ</td>\n",
       "      <td>الله</td>\n",
       "      <td>PN</td>\n",
       "      <td>True</td>\n",
       "      <td>الله</td>\n",
       "      <td>اله</td>\n",
       "    </tr>\n",
       "    <tr>\n",
       "      <th>3</th>\n",
       "      <td>1</td>\n",
       "      <td>1</td>\n",
       "      <td>3</td>\n",
       "      <td>1</td>\n",
       "      <td>ٱل</td>\n",
       "      <td>ال</td>\n",
       "      <td>DET</td>\n",
       "      <td>False</td>\n",
       "      <td>NaN</td>\n",
       "      <td>NaN</td>\n",
       "    </tr>\n",
       "    <tr>\n",
       "      <th>4</th>\n",
       "      <td>1</td>\n",
       "      <td>1</td>\n",
       "      <td>3</td>\n",
       "      <td>2</td>\n",
       "      <td>رَّحْمَٰنِ</td>\n",
       "      <td>رحمان</td>\n",
       "      <td>ADJ</td>\n",
       "      <td>True</td>\n",
       "      <td>رحمان</td>\n",
       "      <td>رحم</td>\n",
       "    </tr>\n",
       "  </tbody>\n",
       "</table>\n",
       "</div>"
      ],
      "text/plain": [
       "   chapter  verse  word  subword unicode_diac unicode_wo_diac postag  is_stem  \\\n",
       "0        1      1     1        1           بِ               ب      P    False   \n",
       "1        1      1     1        2         سْمِ              سم      N     True   \n",
       "2        1      1     2        1      ٱللَّهِ            الله     PN     True   \n",
       "3        1      1     3        1           ٱل              ال    DET    False   \n",
       "4        1      1     3        2   رَّحْمَٰنِ           رحمان    ADJ     True   \n",
       "\n",
       "  unicode_lemm unicode_root  \n",
       "0          NaN          NaN  \n",
       "1          اسم          سمو  \n",
       "2         الله          اله  \n",
       "3          NaN          NaN  \n",
       "4        رحمان          رحم  "
      ]
     },
     "execution_count": 3,
     "metadata": {},
     "output_type": "execute_result"
    }
   ],
   "source": [
    "df = pd.read_csv('data/dataset_v1.8.csv',\n",
    "    converters={'chapter':eval, 'verse':eval, 'word':eval, 'subword':eval, 'is_stem':eval})\n",
    "df.head()"
   ]
  },
  {
   "cell_type": "code",
   "execution_count": 4,
   "metadata": {
    "pycharm": {
     "name": "#%%\n"
    }
   },
   "outputs": [
    {
     "data": {
      "text/html": [
       "<div>\n",
       "<style scoped>\n",
       "    .dataframe tbody tr th:only-of-type {\n",
       "        vertical-align: middle;\n",
       "    }\n",
       "\n",
       "    .dataframe tbody tr th {\n",
       "        vertical-align: top;\n",
       "    }\n",
       "\n",
       "    .dataframe thead th {\n",
       "        text-align: right;\n",
       "    }\n",
       "</style>\n",
       "<table border=\"1\" class=\"dataframe\">\n",
       "  <thead>\n",
       "    <tr style=\"text-align: right;\">\n",
       "      <th></th>\n",
       "      <th>chapter</th>\n",
       "      <th>verse</th>\n",
       "      <th>word</th>\n",
       "      <th>subword</th>\n",
       "      <th>unicode_diac</th>\n",
       "      <th>unicode_wo_diac</th>\n",
       "      <th>postag</th>\n",
       "      <th>is_stem</th>\n",
       "      <th>unicode_lemm</th>\n",
       "      <th>unicode_root</th>\n",
       "    </tr>\n",
       "  </thead>\n",
       "  <tbody>\n",
       "    <tr>\n",
       "      <th>1</th>\n",
       "      <td>1</td>\n",
       "      <td>1</td>\n",
       "      <td>1</td>\n",
       "      <td>2</td>\n",
       "      <td>سْمِ</td>\n",
       "      <td>سم</td>\n",
       "      <td>N</td>\n",
       "      <td>True</td>\n",
       "      <td>اسم</td>\n",
       "      <td>سمو</td>\n",
       "    </tr>\n",
       "    <tr>\n",
       "      <th>2</th>\n",
       "      <td>1</td>\n",
       "      <td>1</td>\n",
       "      <td>2</td>\n",
       "      <td>1</td>\n",
       "      <td>ٱللَّهِ</td>\n",
       "      <td>الله</td>\n",
       "      <td>PN</td>\n",
       "      <td>True</td>\n",
       "      <td>الله</td>\n",
       "      <td>اله</td>\n",
       "    </tr>\n",
       "    <tr>\n",
       "      <th>4</th>\n",
       "      <td>1</td>\n",
       "      <td>1</td>\n",
       "      <td>3</td>\n",
       "      <td>2</td>\n",
       "      <td>رَّحْمَٰنِ</td>\n",
       "      <td>رحمان</td>\n",
       "      <td>ADJ</td>\n",
       "      <td>True</td>\n",
       "      <td>رحمان</td>\n",
       "      <td>رحم</td>\n",
       "    </tr>\n",
       "    <tr>\n",
       "      <th>6</th>\n",
       "      <td>1</td>\n",
       "      <td>1</td>\n",
       "      <td>4</td>\n",
       "      <td>2</td>\n",
       "      <td>رَّحِيمِ</td>\n",
       "      <td>رحيم</td>\n",
       "      <td>ADJ</td>\n",
       "      <td>True</td>\n",
       "      <td>رحيم</td>\n",
       "      <td>رحم</td>\n",
       "    </tr>\n",
       "    <tr>\n",
       "      <th>8</th>\n",
       "      <td>1</td>\n",
       "      <td>2</td>\n",
       "      <td>1</td>\n",
       "      <td>2</td>\n",
       "      <td>حَمْدُ</td>\n",
       "      <td>حمد</td>\n",
       "      <td>N</td>\n",
       "      <td>True</td>\n",
       "      <td>حمد</td>\n",
       "      <td>حمد</td>\n",
       "    </tr>\n",
       "  </tbody>\n",
       "</table>\n",
       "</div>"
      ],
      "text/plain": [
       "   chapter  verse  word  subword unicode_diac unicode_wo_diac postag  is_stem  \\\n",
       "1        1      1     1        2         سْمِ              سم      N     True   \n",
       "2        1      1     2        1      ٱللَّهِ            الله     PN     True   \n",
       "4        1      1     3        2   رَّحْمَٰنِ           رحمان    ADJ     True   \n",
       "6        1      1     4        2     رَّحِيمِ            رحيم    ADJ     True   \n",
       "8        1      2     1        2       حَمْدُ             حمد      N     True   \n",
       "\n",
       "  unicode_lemm unicode_root  \n",
       "1          اسم          سمو  \n",
       "2         الله          اله  \n",
       "4        رحمان          رحم  \n",
       "6         رحيم          رحم  \n",
       "8          حمد          حمد  "
      ]
     },
     "execution_count": 4,
     "metadata": {},
     "output_type": "execute_result"
    }
   ],
   "source": [
    "# only pick the main word in every group\n",
    "stem_df = df[df.is_stem]\n",
    "stem_df.head()"
   ]
  },
  {
   "cell_type": "markdown",
   "metadata": {
    "pycharm": {
     "name": "#%% md\n"
    }
   },
   "source": [
    "<div dir=\"rtl\">\n",
    "سپس در این قسمت، دیتاست را بر اساس آیه و سوره \n",
    "groupby\n",
    "میکنیم. و کلمات هر جفت سوره و آیه را به صورت لیست\n",
    "aggregate\n",
    "میکنیم.\n",
    "</div>"
   ]
  },
  {
   "cell_type": "code",
   "execution_count": 5,
   "metadata": {
    "pycharm": {
     "name": "#%%\n"
    }
   },
   "outputs": [
    {
     "data": {
      "text/html": [
       "<div>\n",
       "<style scoped>\n",
       "    .dataframe tbody tr th:only-of-type {\n",
       "        vertical-align: middle;\n",
       "    }\n",
       "\n",
       "    .dataframe tbody tr th {\n",
       "        vertical-align: top;\n",
       "    }\n",
       "\n",
       "    .dataframe thead th {\n",
       "        text-align: right;\n",
       "    }\n",
       "</style>\n",
       "<table border=\"1\" class=\"dataframe\">\n",
       "  <thead>\n",
       "    <tr style=\"text-align: right;\">\n",
       "      <th></th>\n",
       "      <th>chapter</th>\n",
       "      <th>verse</th>\n",
       "      <th>content</th>\n",
       "    </tr>\n",
       "  </thead>\n",
       "  <tbody>\n",
       "    <tr>\n",
       "      <th>0</th>\n",
       "      <td>1</td>\n",
       "      <td>1</td>\n",
       "      <td>[سم, الله, رحمان, رحيم]</td>\n",
       "    </tr>\n",
       "    <tr>\n",
       "      <th>1</th>\n",
       "      <td>1</td>\n",
       "      <td>2</td>\n",
       "      <td>[حمد, له, رب, عالمين]</td>\n",
       "    </tr>\n",
       "    <tr>\n",
       "      <th>2</th>\n",
       "      <td>1</td>\n",
       "      <td>3</td>\n",
       "      <td>[رحمان, رحيم]</td>\n",
       "    </tr>\n",
       "    <tr>\n",
       "      <th>3</th>\n",
       "      <td>1</td>\n",
       "      <td>4</td>\n",
       "      <td>[مالك, يوم, دين]</td>\n",
       "    </tr>\n",
       "    <tr>\n",
       "      <th>4</th>\n",
       "      <td>1</td>\n",
       "      <td>5</td>\n",
       "      <td>[اياك, نعبد, اياك, نستعين]</td>\n",
       "    </tr>\n",
       "  </tbody>\n",
       "</table>\n",
       "</div>"
      ],
      "text/plain": [
       "   chapter  verse                     content\n",
       "0        1      1     [سم, الله, رحمان, رحيم]\n",
       "1        1      2       [حمد, له, رب, عالمين]\n",
       "2        1      3               [رحمان, رحيم]\n",
       "3        1      4            [مالك, يوم, دين]\n",
       "4        1      5  [اياك, نعبد, اياك, نستعين]"
      ]
     },
     "execution_count": 5,
     "metadata": {},
     "output_type": "execute_result"
    }
   ],
   "source": [
    "chapter_verse_df = stem_df.groupby(['chapter', 'verse'])['unicode_wo_diac'].apply(list).reset_index()\n",
    "chapter_verse_df.columns = ['chapter', 'verse', 'content']\n",
    "chapter_verse_df.head()"
   ]
  },
  {
   "cell_type": "markdown",
   "metadata": {
    "pycharm": {
     "name": "#%% md\n"
    }
   },
   "source": [
    "<div dir=\"rtl\">\n",
    "<span style=\"color:red\"><h2>vectorize  کلمات</h2></span>\n",
    "</div>"
   ]
  },
  {
   "cell_type": "markdown",
   "metadata": {
    "pycharm": {
     "name": "#%% md\n"
    }
   },
   "source": [
    "<div dir=\"rtl\">\n",
    "حال آماده ایم که مدل زبانی خود را ترین کنیم. همانطور که گفتیم پارامترها از مقاله مذکور برداشته شده و مدل \n",
    "skipgram\n",
    "میباشد.\n",
    "</div>"
   ]
  },
  {
   "cell_type": "code",
   "execution_count": 6,
   "metadata": {
    "pycharm": {
     "name": "#%%\n"
    }
   },
   "outputs": [],
   "source": [
    "dataset = chapter_verse_df.content.tolist()\n",
    "\n",
    "model = Word2Vec(\n",
    "    sentences=dataset,\n",
    "    vector_size=7,\n",
    "    window=15,\n",
    "    min_count=1,\n",
    "    sg=1,\n",
    "    hs=0,\n",
    "    negative=5,\n",
    "    epochs=30,\n",
    "    alpha=0.025,\n",
    "    min_alpha=0.025,\n",
    "    sample=1e-3\n",
    ")\n",
    "\n",
    "# model.save('quran_word2vec_v1.0.model')"
   ]
  },
  {
   "cell_type": "markdown",
   "metadata": {
    "pycharm": {
     "name": "#%% md\n"
    }
   },
   "source": [
    "<div dir=\"rtl\">\n",
    "سپس تمام آیه‌ها را با استفاده از میانگین بین بردار کلمات، به فضای برداری ترین شده میبریم.\n",
    "</div>"
   ]
  },
  {
   "cell_type": "code",
   "execution_count": 7,
   "metadata": {
    "pycharm": {
     "name": "#%%\n"
    }
   },
   "outputs": [
    {
     "data": {
      "text/html": [
       "<div>\n",
       "<style scoped>\n",
       "    .dataframe tbody tr th:only-of-type {\n",
       "        vertical-align: middle;\n",
       "    }\n",
       "\n",
       "    .dataframe tbody tr th {\n",
       "        vertical-align: top;\n",
       "    }\n",
       "\n",
       "    .dataframe thead th {\n",
       "        text-align: right;\n",
       "    }\n",
       "</style>\n",
       "<table border=\"1\" class=\"dataframe\">\n",
       "  <thead>\n",
       "    <tr style=\"text-align: right;\">\n",
       "      <th></th>\n",
       "      <th>chapter</th>\n",
       "      <th>verse</th>\n",
       "      <th>content</th>\n",
       "      <th>embedding</th>\n",
       "    </tr>\n",
       "  </thead>\n",
       "  <tbody>\n",
       "    <tr>\n",
       "      <th>0</th>\n",
       "      <td>1</td>\n",
       "      <td>1</td>\n",
       "      <td>[سم, الله, رحمان, رحيم]</td>\n",
       "      <td>[0.6423886, 0.17132643, -0.12371698, 1.4356027, -0.20559104, -0.5777664, 0.47511175]</td>\n",
       "    </tr>\n",
       "    <tr>\n",
       "      <th>1</th>\n",
       "      <td>1</td>\n",
       "      <td>2</td>\n",
       "      <td>[حمد, له, رب, عالمين]</td>\n",
       "      <td>[0.8310381, 0.19959933, -0.40211138, 0.78858185, -0.43666503, -1.2999007, 0.46245858]</td>\n",
       "    </tr>\n",
       "    <tr>\n",
       "      <th>2</th>\n",
       "      <td>1</td>\n",
       "      <td>3</td>\n",
       "      <td>[رحمان, رحيم]</td>\n",
       "      <td>[0.6293732, 0.21032333, 0.11500615, 1.7350848, -0.19674362, -1.0343305, 0.33114535]</td>\n",
       "    </tr>\n",
       "    <tr>\n",
       "      <th>3</th>\n",
       "      <td>1</td>\n",
       "      <td>4</td>\n",
       "      <td>[مالك, يوم, دين]</td>\n",
       "      <td>[0.26170596, 0.15852211, -0.83815104, 0.81097984, -0.20677567, -0.83939844, 0.7138362]</td>\n",
       "    </tr>\n",
       "    <tr>\n",
       "      <th>4</th>\n",
       "      <td>1</td>\n",
       "      <td>5</td>\n",
       "      <td>[اياك, نعبد, اياك, نستعين]</td>\n",
       "      <td>[-0.48033628, -0.72533417, -0.3262913, 0.3263467, 0.24414799, -1.6241238, 0.5404324]</td>\n",
       "    </tr>\n",
       "  </tbody>\n",
       "</table>\n",
       "</div>"
      ],
      "text/plain": [
       "   chapter  verse                     content  \\\n",
       "0        1      1     [سم, الله, رحمان, رحيم]   \n",
       "1        1      2       [حمد, له, رب, عالمين]   \n",
       "2        1      3               [رحمان, رحيم]   \n",
       "3        1      4            [مالك, يوم, دين]   \n",
       "4        1      5  [اياك, نعبد, اياك, نستعين]   \n",
       "\n",
       "                                                                                embedding  \n",
       "0    [0.6423886, 0.17132643, -0.12371698, 1.4356027, -0.20559104, -0.5777664, 0.47511175]  \n",
       "1   [0.8310381, 0.19959933, -0.40211138, 0.78858185, -0.43666503, -1.2999007, 0.46245858]  \n",
       "2     [0.6293732, 0.21032333, 0.11500615, 1.7350848, -0.19674362, -1.0343305, 0.33114535]  \n",
       "3  [0.26170596, 0.15852211, -0.83815104, 0.81097984, -0.20677567, -0.83939844, 0.7138362]  \n",
       "4    [-0.48033628, -0.72533417, -0.3262913, 0.3263467, 0.24414799, -1.6241238, 0.5404324]  "
      ]
     },
     "execution_count": 7,
     "metadata": {},
     "output_type": "execute_result"
    }
   ],
   "source": [
    "def get_w2v_embedding(words):\n",
    "    return sum(model.wv[words]) / len(words)\n",
    "\n",
    "chapter_verse_df['embedding'] = chapter_verse_df.content.apply(get_w2v_embedding)\n",
    "chapter_verse_df.head()"
   ]
  },
  {
   "cell_type": "markdown",
   "metadata": {
    "pycharm": {
     "name": "#%% md\n"
    }
   },
   "source": [
    "<div dir=\"rtl\">\n",
    "<span style=\"color:orange\"><h3>۱- خوشه بندی آیات براساس بخش های چهارگانه</h3></span>\n",
    "</div>"
   ]
  },
  {
   "cell_type": "markdown",
   "metadata": {
    "pycharm": {
     "name": "#%% md\n"
    }
   },
   "source": [
    "<div dir=\"rtl\">\n",
    "سپس همانطور که خواسته شده از مدل \n",
    "K-means\n",
    "برای خوشه بندی آیه‌ها استفاده میکنیم. دقت کنید که به دلیل موضوعی که در داخل داک تمرین آورده شده، تعداد خوشه‌ها را برابر ۴ میگذاریم.\n",
    "</div>"
   ]
  },
  {
   "cell_type": "code",
   "execution_count": 8,
   "metadata": {
    "pycharm": {
     "name": "#%%\n"
    }
   },
   "outputs": [
    {
     "data": {
      "text/plain": [
       "array([3, 3, 3, ..., 2, 3, 2], dtype=int32)"
      ]
     },
     "execution_count": 8,
     "metadata": {},
     "output_type": "execute_result"
    }
   ],
   "source": [
    "datapoints = np.array(chapter_verse_df.embedding.tolist())\n",
    "\n",
    "clustering_model = KMeans(n_clusters=4)\n",
    "cluster_labels = clustering_model.fit_predict(datapoints)\n",
    "\n",
    "with open('verse_clusters/clustering_model', 'wb') as f:\n",
    "    pkl.dump(clustering_model, f)\n",
    "    \n",
    "cluster_labels"
   ]
  },
  {
   "cell_type": "code",
   "execution_count": 9,
   "metadata": {
    "pycharm": {
     "name": "#%%\n"
    }
   },
   "outputs": [
    {
     "data": {
      "text/html": [
       "<div>\n",
       "<style scoped>\n",
       "    .dataframe tbody tr th:only-of-type {\n",
       "        vertical-align: middle;\n",
       "    }\n",
       "\n",
       "    .dataframe tbody tr th {\n",
       "        vertical-align: top;\n",
       "    }\n",
       "\n",
       "    .dataframe thead th {\n",
       "        text-align: right;\n",
       "    }\n",
       "</style>\n",
       "<table border=\"1\" class=\"dataframe\">\n",
       "  <thead>\n",
       "    <tr style=\"text-align: right;\">\n",
       "      <th></th>\n",
       "      <th>chapter</th>\n",
       "      <th>verse</th>\n",
       "      <th>content</th>\n",
       "      <th>embedding</th>\n",
       "      <th>cluster</th>\n",
       "    </tr>\n",
       "  </thead>\n",
       "  <tbody>\n",
       "    <tr>\n",
       "      <th>0</th>\n",
       "      <td>1</td>\n",
       "      <td>1</td>\n",
       "      <td>[سم, الله, رحمان, رحيم]</td>\n",
       "      <td>[0.6423886, 0.17132643, -0.12371698, 1.4356027, -0.20559104, -0.5777664, 0.47511175]</td>\n",
       "      <td>3</td>\n",
       "    </tr>\n",
       "    <tr>\n",
       "      <th>1</th>\n",
       "      <td>1</td>\n",
       "      <td>2</td>\n",
       "      <td>[حمد, له, رب, عالمين]</td>\n",
       "      <td>[0.8310381, 0.19959933, -0.40211138, 0.78858185, -0.43666503, -1.2999007, 0.46245858]</td>\n",
       "      <td>3</td>\n",
       "    </tr>\n",
       "    <tr>\n",
       "      <th>2</th>\n",
       "      <td>1</td>\n",
       "      <td>3</td>\n",
       "      <td>[رحمان, رحيم]</td>\n",
       "      <td>[0.6293732, 0.21032333, 0.11500615, 1.7350848, -0.19674362, -1.0343305, 0.33114535]</td>\n",
       "      <td>3</td>\n",
       "    </tr>\n",
       "    <tr>\n",
       "      <th>3</th>\n",
       "      <td>1</td>\n",
       "      <td>4</td>\n",
       "      <td>[مالك, يوم, دين]</td>\n",
       "      <td>[0.26170596, 0.15852211, -0.83815104, 0.81097984, -0.20677567, -0.83939844, 0.7138362]</td>\n",
       "      <td>3</td>\n",
       "    </tr>\n",
       "    <tr>\n",
       "      <th>4</th>\n",
       "      <td>1</td>\n",
       "      <td>5</td>\n",
       "      <td>[اياك, نعبد, اياك, نستعين]</td>\n",
       "      <td>[-0.48033628, -0.72533417, -0.3262913, 0.3263467, 0.24414799, -1.6241238, 0.5404324]</td>\n",
       "      <td>1</td>\n",
       "    </tr>\n",
       "  </tbody>\n",
       "</table>\n",
       "</div>"
      ],
      "text/plain": [
       "   chapter  verse                     content  \\\n",
       "0        1      1     [سم, الله, رحمان, رحيم]   \n",
       "1        1      2       [حمد, له, رب, عالمين]   \n",
       "2        1      3               [رحمان, رحيم]   \n",
       "3        1      4            [مالك, يوم, دين]   \n",
       "4        1      5  [اياك, نعبد, اياك, نستعين]   \n",
       "\n",
       "                                                                                embedding  \\\n",
       "0    [0.6423886, 0.17132643, -0.12371698, 1.4356027, -0.20559104, -0.5777664, 0.47511175]   \n",
       "1   [0.8310381, 0.19959933, -0.40211138, 0.78858185, -0.43666503, -1.2999007, 0.46245858]   \n",
       "2     [0.6293732, 0.21032333, 0.11500615, 1.7350848, -0.19674362, -1.0343305, 0.33114535]   \n",
       "3  [0.26170596, 0.15852211, -0.83815104, 0.81097984, -0.20677567, -0.83939844, 0.7138362]   \n",
       "4    [-0.48033628, -0.72533417, -0.3262913, 0.3263467, 0.24414799, -1.6241238, 0.5404324]   \n",
       "\n",
       "   cluster  \n",
       "0        3  \n",
       "1        3  \n",
       "2        3  \n",
       "3        3  \n",
       "4        1  "
      ]
     },
     "execution_count": 9,
     "metadata": {},
     "output_type": "execute_result"
    }
   ],
   "source": [
    "chapter_verse_df['cluster'] = pd.Series(cluster_labels)\n",
    "chapter_verse_df.head()"
   ]
  },
  {
   "cell_type": "markdown",
   "metadata": {
    "pycharm": {
     "name": "#%% md\n"
    }
   },
   "source": [
    "<div dir=\"rtl\">\n",
    "در این قسمت با استفاده از روش \n",
    "TSNE\n",
    "قصد داریم که خوشه بندی انجام شده را به نمایش بگذاریم. در این روش که برای تصویرسازی فضاهای برداری بعد بالا میباشد، مپینگی از فضای اولیه به فضای قابل تصویرسازی پیدا میشود. ما نیز فضای ۷ بعدی اولیه را به ۲ بعد میبریم و به تصویر میکشیم:\n",
    "</div>"
   ]
  },
  {
   "cell_type": "code",
   "execution_count": 10,
   "metadata": {
    "pycharm": {
     "name": "#%%\n"
    }
   },
   "outputs": [
    {
     "data": {
      "text/plain": [
       "array([[ 26.08901  ,  42.559273 ],\n",
       "       [-15.296247 ,  58.086536 ],\n",
       "       [ -5.18829  ,  61.324535 ],\n",
       "       ...,\n",
       "       [-52.156708 ,   1.3855093],\n",
       "       [-20.42604  ,  28.02187  ],\n",
       "       [ 14.949569 ,   5.554615 ]], dtype=float32)"
      ]
     },
     "execution_count": 10,
     "metadata": {},
     "output_type": "execute_result"
    }
   ],
   "source": [
    "projected_datapoints = TSNE(n_components=2, learning_rate='auto', init='random').fit_transform(datapoints)\n",
    "projected_datapoints"
   ]
  },
  {
   "cell_type": "code",
   "execution_count": 11,
   "metadata": {
    "pycharm": {
     "name": "#%%\n"
    }
   },
   "outputs": [
    {
     "data": {
      "text/html": [
       "<div>\n",
       "<style scoped>\n",
       "    .dataframe tbody tr th:only-of-type {\n",
       "        vertical-align: middle;\n",
       "    }\n",
       "\n",
       "    .dataframe tbody tr th {\n",
       "        vertical-align: top;\n",
       "    }\n",
       "\n",
       "    .dataframe thead th {\n",
       "        text-align: right;\n",
       "    }\n",
       "</style>\n",
       "<table border=\"1\" class=\"dataframe\">\n",
       "  <thead>\n",
       "    <tr style=\"text-align: right;\">\n",
       "      <th></th>\n",
       "      <th>chapter</th>\n",
       "      <th>verse</th>\n",
       "      <th>content</th>\n",
       "      <th>embedding</th>\n",
       "      <th>cluster</th>\n",
       "      <th>projected_embedding</th>\n",
       "    </tr>\n",
       "  </thead>\n",
       "  <tbody>\n",
       "    <tr>\n",
       "      <th>0</th>\n",
       "      <td>1</td>\n",
       "      <td>1</td>\n",
       "      <td>[سم, الله, رحمان, رحيم]</td>\n",
       "      <td>[0.6423886, 0.17132643, -0.12371698, 1.4356027, -0.20559104, -0.5777664, 0.47511175]</td>\n",
       "      <td>3</td>\n",
       "      <td>[26.08901023864746, 42.55927276611328]</td>\n",
       "    </tr>\n",
       "    <tr>\n",
       "      <th>1</th>\n",
       "      <td>1</td>\n",
       "      <td>2</td>\n",
       "      <td>[حمد, له, رب, عالمين]</td>\n",
       "      <td>[0.8310381, 0.19959933, -0.40211138, 0.78858185, -0.43666503, -1.2999007, 0.46245858]</td>\n",
       "      <td>3</td>\n",
       "      <td>[-15.296246528625488, 58.0865364074707]</td>\n",
       "    </tr>\n",
       "    <tr>\n",
       "      <th>2</th>\n",
       "      <td>1</td>\n",
       "      <td>3</td>\n",
       "      <td>[رحمان, رحيم]</td>\n",
       "      <td>[0.6293732, 0.21032333, 0.11500615, 1.7350848, -0.19674362, -1.0343305, 0.33114535]</td>\n",
       "      <td>3</td>\n",
       "      <td>[-5.188290119171143, 61.32453536987305]</td>\n",
       "    </tr>\n",
       "    <tr>\n",
       "      <th>3</th>\n",
       "      <td>1</td>\n",
       "      <td>4</td>\n",
       "      <td>[مالك, يوم, دين]</td>\n",
       "      <td>[0.26170596, 0.15852211, -0.83815104, 0.81097984, -0.20677567, -0.83939844, 0.7138362]</td>\n",
       "      <td>3</td>\n",
       "      <td>[-18.94627571105957, 39.3284912109375]</td>\n",
       "    </tr>\n",
       "    <tr>\n",
       "      <th>4</th>\n",
       "      <td>1</td>\n",
       "      <td>5</td>\n",
       "      <td>[اياك, نعبد, اياك, نستعين]</td>\n",
       "      <td>[-0.48033628, -0.72533417, -0.3262913, 0.3263467, 0.24414799, -1.6241238, 0.5404324]</td>\n",
       "      <td>1</td>\n",
       "      <td>[-51.63877868652344, -44.358482360839844]</td>\n",
       "    </tr>\n",
       "  </tbody>\n",
       "</table>\n",
       "</div>"
      ],
      "text/plain": [
       "   chapter  verse                     content  \\\n",
       "0        1      1     [سم, الله, رحمان, رحيم]   \n",
       "1        1      2       [حمد, له, رب, عالمين]   \n",
       "2        1      3               [رحمان, رحيم]   \n",
       "3        1      4            [مالك, يوم, دين]   \n",
       "4        1      5  [اياك, نعبد, اياك, نستعين]   \n",
       "\n",
       "                                                                                embedding  \\\n",
       "0    [0.6423886, 0.17132643, -0.12371698, 1.4356027, -0.20559104, -0.5777664, 0.47511175]   \n",
       "1   [0.8310381, 0.19959933, -0.40211138, 0.78858185, -0.43666503, -1.2999007, 0.46245858]   \n",
       "2     [0.6293732, 0.21032333, 0.11500615, 1.7350848, -0.19674362, -1.0343305, 0.33114535]   \n",
       "3  [0.26170596, 0.15852211, -0.83815104, 0.81097984, -0.20677567, -0.83939844, 0.7138362]   \n",
       "4    [-0.48033628, -0.72533417, -0.3262913, 0.3263467, 0.24414799, -1.6241238, 0.5404324]   \n",
       "\n",
       "   cluster                        projected_embedding  \n",
       "0        3     [26.08901023864746, 42.55927276611328]  \n",
       "1        3    [-15.296246528625488, 58.0865364074707]  \n",
       "2        3    [-5.188290119171143, 61.32453536987305]  \n",
       "3        3     [-18.94627571105957, 39.3284912109375]  \n",
       "4        1  [-51.63877868652344, -44.358482360839844]  "
      ]
     },
     "execution_count": 11,
     "metadata": {},
     "output_type": "execute_result"
    }
   ],
   "source": [
    "chapter_verse_df['projected_embedding'] = pd.Series(projected_datapoints.tolist())\n",
    "chapter_verse_df.head()"
   ]
  },
  {
   "cell_type": "code",
   "execution_count": 12,
   "metadata": {
    "pycharm": {
     "name": "#%%\n"
    }
   },
   "outputs": [
    {
     "data": {
      "image/png": "[encoded data removed]",
      "text/plain": [
       "<Figure size 432x288 with 1 Axes>"
      ]
     },
     "metadata": {
      "needs_background": "light"
     },
     "output_type": "display_data"
    }
   ],
   "source": [
    "for clstr, clr in [(0, 'blue'), (1, 'red'), (2, 'orange'), (3, 'green')]:\n",
    "    cluster_points = chapter_verse_df[chapter_verse_df.cluster == clstr].projected_embedding.tolist()\n",
    "    x, y = zip(*cluster_points)\n",
    "    plt.scatter(x, y, color=clr)\n",
    "\n",
    "plt.show()"
   ]
  },
  {
   "cell_type": "markdown",
   "metadata": {
    "pycharm": {
     "name": "#%% md\n"
    }
   },
   "source": [
    "<div dir=\"rtl\">\n",
    "همانطور که میتوانید ببینید، با توجه به فضای کلی بردارها، نمیتوان با قطعیت گفت که آیه‌های تعبیه شده دارای خوشه بندی ذاتی هستند. بیشتر به نظر میاید که توزیع بردارها حالت نرمال دارد و خیلی \n",
    "trend\n",
    "خاصی دیده نمیشود.\n",
    "\n",
    "در ادامه دیتاست بدون پیش پردازش قرآن را لود کرده و خوشه هر آیه تمیز شده را به همراه شماره سوره و آیه آن در یک دیتاست نهایی ذخیره میکنیم.\n",
    "</div>"
   ]
  },
  {
   "cell_type": "code",
   "execution_count": 13,
   "metadata": {
    "pycharm": {
     "name": "#%%\n"
    }
   },
   "outputs": [
    {
     "data": {
      "text/html": [
       "<div>\n",
       "<style scoped>\n",
       "    .dataframe tbody tr th:only-of-type {\n",
       "        vertical-align: middle;\n",
       "    }\n",
       "\n",
       "    .dataframe tbody tr th {\n",
       "        vertical-align: top;\n",
       "    }\n",
       "\n",
       "    .dataframe thead th {\n",
       "        text-align: right;\n",
       "    }\n",
       "</style>\n",
       "<table border=\"1\" class=\"dataframe\">\n",
       "  <thead>\n",
       "    <tr style=\"text-align: right;\">\n",
       "      <th></th>\n",
       "      <th>chapter</th>\n",
       "      <th>verse</th>\n",
       "      <th>text</th>\n",
       "    </tr>\n",
       "  </thead>\n",
       "  <tbody>\n",
       "    <tr>\n",
       "      <th>0</th>\n",
       "      <td>1</td>\n",
       "      <td>1</td>\n",
       "      <td>بِسْمِ اللَّهِ الرَّحْمَـٰنِ الرَّحِيمِ</td>\n",
       "    </tr>\n",
       "    <tr>\n",
       "      <th>1</th>\n",
       "      <td>1</td>\n",
       "      <td>2</td>\n",
       "      <td>الْحَمْدُ لِلَّهِ رَبِّ الْعَالَمِينَ</td>\n",
       "    </tr>\n",
       "    <tr>\n",
       "      <th>2</th>\n",
       "      <td>1</td>\n",
       "      <td>3</td>\n",
       "      <td>الرَّحْمَـٰنِ الرَّحِيمِ</td>\n",
       "    </tr>\n",
       "    <tr>\n",
       "      <th>3</th>\n",
       "      <td>1</td>\n",
       "      <td>4</td>\n",
       "      <td>مَالِكِ يَوْمِ الدِّينِ</td>\n",
       "    </tr>\n",
       "    <tr>\n",
       "      <th>4</th>\n",
       "      <td>1</td>\n",
       "      <td>5</td>\n",
       "      <td>إِيَّاكَ نَعْبُدُ وَإِيَّاكَ نَسْتَعِينُ</td>\n",
       "    </tr>\n",
       "  </tbody>\n",
       "</table>\n",
       "</div>"
      ],
      "text/plain": [
       "   chapter  verse                                      text\n",
       "0        1      1   بِسْمِ اللَّهِ الرَّحْمَـٰنِ الرَّحِيمِ\n",
       "1        1      2     الْحَمْدُ لِلَّهِ رَبِّ الْعَالَمِينَ\n",
       "2        1      3                  الرَّحْمَـٰنِ الرَّحِيمِ\n",
       "3        1      4                   مَالِكِ يَوْمِ الدِّينِ\n",
       "4        1      5  إِيَّاكَ نَعْبُدُ وَإِيَّاكَ نَسْتَعِينُ"
      ]
     },
     "execution_count": 13,
     "metadata": {},
     "output_type": "execute_result"
    }
   ],
   "source": [
    "simple_df = pd.read_csv('data/quran-simple.txt', delimiter='|')\n",
    "simple_df.head()"
   ]
  },
  {
   "cell_type": "code",
   "execution_count": 14,
   "metadata": {
    "pycharm": {
     "name": "#%%\n"
    }
   },
   "outputs": [
    {
     "data": {
      "text/html": [
       "<div>\n",
       "<style scoped>\n",
       "    .dataframe tbody tr th:only-of-type {\n",
       "        vertical-align: middle;\n",
       "    }\n",
       "\n",
       "    .dataframe tbody tr th {\n",
       "        vertical-align: top;\n",
       "    }\n",
       "\n",
       "    .dataframe thead th {\n",
       "        text-align: right;\n",
       "    }\n",
       "</style>\n",
       "<table border=\"1\" class=\"dataframe\">\n",
       "  <thead>\n",
       "    <tr style=\"text-align: right;\">\n",
       "      <th></th>\n",
       "      <th>chapter</th>\n",
       "      <th>verse</th>\n",
       "      <th>content</th>\n",
       "      <th>embedding</th>\n",
       "      <th>cluster</th>\n",
       "      <th>projected_embedding</th>\n",
       "      <th>text</th>\n",
       "    </tr>\n",
       "  </thead>\n",
       "  <tbody>\n",
       "    <tr>\n",
       "      <th>0</th>\n",
       "      <td>1</td>\n",
       "      <td>1</td>\n",
       "      <td>[سم, الله, رحمان, رحيم]</td>\n",
       "      <td>[0.6423886, 0.17132643, -0.12371698, 1.4356027, -0.20559104, -0.5777664, 0.47511175]</td>\n",
       "      <td>3</td>\n",
       "      <td>[26.08901023864746, 42.55927276611328]</td>\n",
       "      <td>بِسْمِ اللَّهِ الرَّحْمَـٰنِ الرَّحِيمِ</td>\n",
       "    </tr>\n",
       "    <tr>\n",
       "      <th>1</th>\n",
       "      <td>1</td>\n",
       "      <td>2</td>\n",
       "      <td>[حمد, له, رب, عالمين]</td>\n",
       "      <td>[0.8310381, 0.19959933, -0.40211138, 0.78858185, -0.43666503, -1.2999007, 0.46245858]</td>\n",
       "      <td>3</td>\n",
       "      <td>[-15.296246528625488, 58.0865364074707]</td>\n",
       "      <td>الْحَمْدُ لِلَّهِ رَبِّ الْعَالَمِينَ</td>\n",
       "    </tr>\n",
       "    <tr>\n",
       "      <th>2</th>\n",
       "      <td>1</td>\n",
       "      <td>3</td>\n",
       "      <td>[رحمان, رحيم]</td>\n",
       "      <td>[0.6293732, 0.21032333, 0.11500615, 1.7350848, -0.19674362, -1.0343305, 0.33114535]</td>\n",
       "      <td>3</td>\n",
       "      <td>[-5.188290119171143, 61.32453536987305]</td>\n",
       "      <td>الرَّحْمَـٰنِ الرَّحِيمِ</td>\n",
       "    </tr>\n",
       "    <tr>\n",
       "      <th>3</th>\n",
       "      <td>1</td>\n",
       "      <td>4</td>\n",
       "      <td>[مالك, يوم, دين]</td>\n",
       "      <td>[0.26170596, 0.15852211, -0.83815104, 0.81097984, -0.20677567, -0.83939844, 0.7138362]</td>\n",
       "      <td>3</td>\n",
       "      <td>[-18.94627571105957, 39.3284912109375]</td>\n",
       "      <td>مَالِكِ يَوْمِ الدِّينِ</td>\n",
       "    </tr>\n",
       "    <tr>\n",
       "      <th>4</th>\n",
       "      <td>1</td>\n",
       "      <td>5</td>\n",
       "      <td>[اياك, نعبد, اياك, نستعين]</td>\n",
       "      <td>[-0.48033628, -0.72533417, -0.3262913, 0.3263467, 0.24414799, -1.6241238, 0.5404324]</td>\n",
       "      <td>1</td>\n",
       "      <td>[-51.63877868652344, -44.358482360839844]</td>\n",
       "      <td>إِيَّاكَ نَعْبُدُ وَإِيَّاكَ نَسْتَعِينُ</td>\n",
       "    </tr>\n",
       "  </tbody>\n",
       "</table>\n",
       "</div>"
      ],
      "text/plain": [
       "   chapter  verse                     content  \\\n",
       "0        1      1     [سم, الله, رحمان, رحيم]   \n",
       "1        1      2       [حمد, له, رب, عالمين]   \n",
       "2        1      3               [رحمان, رحيم]   \n",
       "3        1      4            [مالك, يوم, دين]   \n",
       "4        1      5  [اياك, نعبد, اياك, نستعين]   \n",
       "\n",
       "                                                                                embedding  \\\n",
       "0    [0.6423886, 0.17132643, -0.12371698, 1.4356027, -0.20559104, -0.5777664, 0.47511175]   \n",
       "1   [0.8310381, 0.19959933, -0.40211138, 0.78858185, -0.43666503, -1.2999007, 0.46245858]   \n",
       "2     [0.6293732, 0.21032333, 0.11500615, 1.7350848, -0.19674362, -1.0343305, 0.33114535]   \n",
       "3  [0.26170596, 0.15852211, -0.83815104, 0.81097984, -0.20677567, -0.83939844, 0.7138362]   \n",
       "4    [-0.48033628, -0.72533417, -0.3262913, 0.3263467, 0.24414799, -1.6241238, 0.5404324]   \n",
       "\n",
       "   cluster                        projected_embedding  \\\n",
       "0        3     [26.08901023864746, 42.55927276611328]   \n",
       "1        3    [-15.296246528625488, 58.0865364074707]   \n",
       "2        3    [-5.188290119171143, 61.32453536987305]   \n",
       "3        3     [-18.94627571105957, 39.3284912109375]   \n",
       "4        1  [-51.63877868652344, -44.358482360839844]   \n",
       "\n",
       "                                       text  \n",
       "0   بِسْمِ اللَّهِ الرَّحْمَـٰنِ الرَّحِيمِ  \n",
       "1     الْحَمْدُ لِلَّهِ رَبِّ الْعَالَمِينَ  \n",
       "2                  الرَّحْمَـٰنِ الرَّحِيمِ  \n",
       "3                   مَالِكِ يَوْمِ الدِّينِ  \n",
       "4  إِيَّاكَ نَعْبُدُ وَإِيَّاكَ نَسْتَعِينُ  "
      ]
     },
     "execution_count": 14,
     "metadata": {},
     "output_type": "execute_result"
    }
   ],
   "source": [
    "final_df = pd.merge(chapter_verse_df, simple_df)\n",
    "final_df.head()"
   ]
  },
  {
   "cell_type": "code",
   "execution_count": 15,
   "metadata": {
    "pycharm": {
     "name": "#%%\n"
    }
   },
   "outputs": [],
   "source": [
    "clusters = []\n",
    "for i in range(4):\n",
    "    c_df = final_df[final_df.cluster==i]\n",
    "    clusters.append(c_df)\n",
    "    c_df[['chapter', 'verse', 'text']].to_csv(f'verse_clusters/cluster_{i}.csv', index=False)"
   ]
  },
  {
   "cell_type": "markdown",
   "metadata": {
    "pycharm": {
     "name": "#%% md\n"
    }
   },
   "source": [
    "<div dir=\"rtl\">\n",
    "<span style=\"color:red\"><h2>ارزیابی خوشه بندی</h2></span>\n",
    "در نهایت برای تست خوشه بندی‌ها و اینکه ایا خواسته مسئله را دارند یا نه، پس از حذف تعدادی \n",
    "stopword،\n",
    "کلمات پر تکرار هر خوشه را چاپ میکنیم تا برسی کنیم ایا ارتباط معناداری وجود دارد یا نه. سپس معیار\n",
    "RSS و silhouette score\n",
    "را برای خوشه بندی حساب و گزارش میکنیم.\n",
    "</div>"
   ]
  },
  {
   "cell_type": "code",
   "execution_count": 16,
   "metadata": {
    "pycharm": {
     "name": "#%%\n"
    }
   },
   "outputs": [],
   "source": [
    "# stopwords_file = open(\"data/arabic-stopwords.txt\", \"r\")\n",
    "stopwords_file = open(\"data/Quranic_stopwords.txt\", \"r\")\n",
    "stopwords = stopwords_file.read().split(\"\\n\")"
   ]
  },
  {
   "cell_type": "code",
   "execution_count": 17,
   "metadata": {
    "pycharm": {
     "name": "#%%\n"
    }
   },
   "outputs": [],
   "source": [
    "def analyze_cluster(clstr, topn_wrds=20):\n",
    "    word_counter = Counter()\n",
    "    for verse in clstr.content.tolist():\n",
    "        word_counter.update(verse)\n",
    "\n",
    "    for stpwrd in stopwords:\n",
    "        del word_counter[stpwrd]\n",
    "        \n",
    "    print(f'top {topn_wrds} frequent words in cluster:')\n",
    "    words, cnt = zip(*word_counter.most_common(topn_wrds))\n",
    "    print(' . '.join(words))\n",
    "        "
   ]
  },
  {
   "cell_type": "code",
   "execution_count": 18,
   "metadata": {
    "pycharm": {
     "name": "#%%\n"
    }
   },
   "outputs": [
    {
     "name": "stdout",
     "output_type": "stream",
     "text": [
      "top 100 frequent words in cluster:\n",
      "من . ان . فى . ما . الله . ارض . في . اذا . كل . علي . جعل . سماء . خلق . كم . لا . لم . ثم . ذالك . علىا . كان . الذى . يل . ماء . او . ءايات . رب . هو . نهار . هم . سماوات . قوم . انزل . لعل . على . الى . الىا . يوم . هۦ . جبال . قال . شمس . هۥ . الا . قد . قمر . شىء . بين . قدر . كيف . انسان . ءاية . ناس . امر . جنات . م . سخر . فلك . هى . تر . ذات . لو . بحر . ه . عن . ير . اخرج . يخرج . ها . انعام . موت . قل . رزق . تشكر . تاكل . بيوت . مثل . سبع . تجرى . كن . حتىا . فوق . نار . غير . يرسل . ملايكة . نطفة . يجعل . ابصار . بعد . انهار . التى . الذين . نفخ . حين . ترى . يقول . فاكهة . لما . ثمرات . انتم\n"
     ]
    }
   ],
   "source": [
    "analyze_cluster(clusters[0], topn_wrds=100)"
   ]
  },
  {
   "cell_type": "code",
   "execution_count": 19,
   "metadata": {
    "pycharm": {
     "name": "#%%\n"
    }
   },
   "outputs": [
    {
     "name": "stdout",
     "output_type": "stream",
     "text": [
      "top 100 frequent words in cluster:\n",
      "من . ان . قال . ما . رب . لا . الله . فى . قد . الا . علي . قوم . كان . اذ . هاذا . هم . الذين . اذا . قبل . الىا . جاء . لما . موسىا . كن . الي . علىا . كتاب . حق . ارسل . هۦ . لم . ك . ءايات . عن . قل . فرعون . يوم . ذالك . في . كذب . اهل . مبين . عذاب . او . نحن . مع . يقول . كفر . ام . كم . بل . ى . كل . ءاتي . ارض . على . بعد . انزل . ثم . منۢ . ها . هو . بنى . انتم . حتىا . اخذ . يومن . رسول . الذى . لعل . بين . رسل . لو . بعض . لولا . ناس . اى . تكذب . جعل . امر . اسراءيل . انت . ـايات . مثل . اتبع . م . جي . بينات . الى . هل . ءالاء . ءامن . عالمين . هۥ . ين . كيف . ابراهيم . ذكر . جاءت . يعلم\n"
     ]
    }
   ],
   "source": [
    "analyze_cluster(clusters[1], topn_wrds=100)"
   ]
  },
  {
   "cell_type": "code",
   "execution_count": 20,
   "metadata": {
    "pycharm": {
     "name": "#%%\n"
    }
   },
   "outputs": [
    {
     "name": "stdout",
     "output_type": "stream",
     "text": [
      "top 100 frequent words in cluster:\n",
      "من . ان . الله . الذين . هم . ما . لا . فى . كان . عن . عذاب . او۟لايك . ءامن . يوم . في . كفر . الا . ذالك . رب . علي . لم . ثم . نار . قال . دنيا . اذا . ءاخرة . عمل . لو . عند . رسول . جهنم . على . سبيل . علىا . انفس . كم . هۦ . اصحاب . او . قد . يقول . صالحات . كذب . كافرين . قبل . قلوب . ارض . قل . حيواة . لن . جنة . قوم . هو . ـايات . يعلم . يوميذ . جنات . بين . هۥ . لذين . ايها . ناس . حق . كن . حتىا . مع . ظالمين . يعمل . دون . بعد . قيامة . بل . اليم . خالدين . عظيم . يومن . تحت . اموال . مومنين . كتاب . م . ظلم . الى . الذى . الىا . منۢ . كل . ها . عذابا . تجرى . انهار . اما . غير . بيس . الي . ك . ايمان . خير . ذكر\n"
     ]
    }
   ],
   "source": [
    "analyze_cluster(clusters[2], topn_wrds=100)"
   ]
  },
  {
   "cell_type": "code",
   "execution_count": 21,
   "metadata": {
    "pycharm": {
     "name": "#%%\n"
    }
   },
   "outputs": [
    {
     "name": "stdout",
     "output_type": "stream",
     "text": [
      "top 100 frequent words in cluster:\n",
      "من . الله . ان . ما . لا . فى . رب . هو . الا . الذين . علي . ارض . قل . علىا . كم . كان . كل . هم . الذى . بين . هۥ . سماوات . ذالك . شىء . على . الي . قال . ناس . يعلم . ثم . له . اذا . هۦ . او . ءامن . كتاب . في . كن . قد . حق . بعد . يوم . م . عليم . عن . يشاء . رسول . عند . رحيم . منۢ . خلق . لم . الىا . خير . ايها . امر . علم . الى . مومنين . نفس . انزل . عزيز . حكيم . دون . جعل . غير . بعض . لو . يقول . الاه . اعلم . لاكن . غفور . فضل . عباد . انتم . اتق . تعمل . ام . دين . مع . قوم . صلواة . تعلم . انفس . لعل . سبيل . ملك . قبل . اذ . ليس . ا . رزق . يكون . اتبع . يومن . حتىا . جاء . غيب . قول\n"
     ]
    }
   ],
   "source": [
    "analyze_cluster(clusters[3], topn_wrds=100)"
   ]
  },
  {
   "cell_type": "markdown",
   "metadata": {
    "pycharm": {
     "name": "#%% md\n"
    }
   },
   "source": [
    "<div dir=\"rtl\">\n",
    "با اینکه میتوان بعضی\n",
    "trend\n",
    "ها را در خوشه‌ها دید، به عنوان مثال یکی از خوشه ها بیشتر درباره کافران، ظالمین و عذاب الهی میباشد و خوشه ای دیگر به نظر کلمات مربوط به حضرت موسی (ع) و قوم بنی اسرائیل را در خود زیاد دارد، اما خواسته مسئله را بنظر میاید که این خوشه بندی متوجه نشده است. ممکن است با تکرار این روند و خوشه بندی‌های مختلف، به جواب بهتری رسید.\n",
    "<br/>\n",
    "<br/>\n",
    " با توجه به محتوای کلی آیات قرآن میتوان اینگونه نیز برداشت کرد که:\n",
    "<ul>\n",
    "<li>اهل بیت (ع):</li>\n",
    "در خوشه ای که نام \n",
    "<b>رسول</b>\n",
    " و سبیل و خیر مومنین آمده، میتوان نتیجه گرفت که خوشه به سمت این موضوع متمایل شده است.\n",
    "<li>دشمنان آنها:</li>\n",
    "در خوشه ای که نام \n",
    "<b>فرعون و موسی</b>\n",
    " و \n",
    " <b>ظلم و استکبر و مجرمین</b>\n",
    " آمده، میتوان برداشت کرد که به دشمنان اهل بیت با اشاره به دشمنان سرشناس پیامبران گذشته اشاره شده است.\n",
    " <li>فرایض و احکام</li>\n",
    " در آیاتی که\n",
    " <b>كتاب و علیم و آیات</b>\n",
    "  آمده اند، میتوان گفت که احکام با توجه به حکمت و آیات خداوند اشاره شده اند.\n",
    " <li>حلال و حرام</li>\n",
    " در آیاتی که به \n",
    " <b>ثمرات و فاکهة و نار و اعناب</b>\n",
    " هستند، میتوان نتیجه گرفت به موضوع حلال و حرام و مصداق های آن پرداخته شده است.\n",
    "</ul>\n",
    "<br/>\n",
    "<b>***توجه شود که چون کلاستر ها در هر بار اجرای دفترچه، ممکن است جابجا شوند (از نظر اندیسی)، به جای اشاره به شماره کلاستر، به ویژگی ها و کلمات بارز هر کلاستر در دسته بندی و تحلیل استفاده کردیم.***</b>\n",
    "\n",
    "حال معیارهای موردنظر را حساب میکنیم.\n",
    "</div>\n"
   ]
  },
  {
   "cell_type": "code",
   "execution_count": 22,
   "metadata": {
    "pycharm": {
     "name": "#%%\n"
    }
   },
   "outputs": [
    {
     "name": "stdout",
     "output_type": "stream",
     "text": [
      "The RSS score is 3712.482 and the silhouette score is 0.124\n"
     ]
    }
   ],
   "source": [
    "# RSS score is just the inertia_ attribute of the model\n",
    "rss_score = clustering_model.inertia_\n",
    "\n",
    "sil_score = silhouette_score(np.array(final_df.embedding.to_list()), np.array(final_df.cluster.to_list()))\n",
    "\n",
    "print('The RSS score is {:.3f} and the silhouette score is {:.3f}'.format(rss_score, sil_score))"
   ]
  },
  {
   "cell_type": "markdown",
   "metadata": {
    "pycharm": {
     "name": "#%% md\n"
    }
   },
   "source": [
    "<div dir=\"rtl\">\n",
    "<span style=\"color:orange\"><h3>۲- خوشه بندی سوره ها بر اساس مکی و مدنی بودن</h3></span>\n",
    "</div>"
   ]
  },
  {
   "cell_type": "markdown",
   "metadata": {
    "pycharm": {
     "name": "#%% md\n"
    }
   },
   "source": [
    "\n",
    "<div dir=\"rtl\">\n",
    "در ادامه سوال دوم که درباره خوشه بندی سوره‌ها و فهمیدن مکی مدنی بودن آنهاست را برسی میکنیم. بخش اول پروسه مشابه بوده. اول دیتاست سوره ها را ساخته و محتوای هر سوره را به  صورت لیست در میاوریم.\n",
    "</div>"
   ]
  },
  {
   "cell_type": "code",
   "execution_count": 23,
   "metadata": {
    "pycharm": {
     "name": "#%%\n"
    }
   },
   "outputs": [
    {
     "data": {
      "text/html": [
       "<div>\n",
       "<style scoped>\n",
       "    .dataframe tbody tr th:only-of-type {\n",
       "        vertical-align: middle;\n",
       "    }\n",
       "\n",
       "    .dataframe tbody tr th {\n",
       "        vertical-align: top;\n",
       "    }\n",
       "\n",
       "    .dataframe thead th {\n",
       "        text-align: right;\n",
       "    }\n",
       "</style>\n",
       "<table border=\"1\" class=\"dataframe\">\n",
       "  <thead>\n",
       "    <tr style=\"text-align: right;\">\n",
       "      <th></th>\n",
       "      <th>chapter</th>\n",
       "      <th>content</th>\n",
       "    </tr>\n",
       "  </thead>\n",
       "  <tbody>\n",
       "    <tr>\n",
       "      <th>0</th>\n",
       "      <td>1</td>\n",
       "      <td>[سم, الله, رحمان, رحيم, حمد, له, رب, عالمين, رحمان, رحيم, مالك, يوم, دين, اياك, نعبد, اياك, نستعين, اهد, صراط, مستقيم, صراط, الذين, انعم, علي, غير, مغضوب, علي, لا, ضالين]</td>\n",
       "    </tr>\n",
       "    <tr>\n",
       "      <th>1</th>\n",
       "      <td>2</td>\n",
       "      <td>[الم, ذالك, كتاب, لا, ريب, في, هدى, متقين, الذين, يومن, غيب, يقيم, صلواة, م, ما, رزق, ينفق, الذين, يومن, ما, انزل, الي, ما, انزل, من, قبل, ءاخرة, هم, يوقن, او۟لايك, علىا, هدى, من, رب, او۟لايك, هم, مفلحون, ان, الذين, كفر, سواء, علي, انذر, ام, لم, تنذر, لا, يومن, ختم, الله, علىا, قلوب, علىا, سمع, علىا, ابصار, غشاوة, هم, عذاب, عظيم, من, ناس, من, يقول, ءام, الله, يوم, ءاخر, ما, هم, مومنين, يخادع, الله, الذين, ءامن, ما, يخدع, الا, انفس, ما, يشعر, فى, قلوب, مرض, زاد, الله, مرضا, هم, عذاب, اليمۢ, ما, كان, يكذب, اذا, قيل, هم, لا, تفسد, فى, ارض, ...]</td>\n",
       "    </tr>\n",
       "    <tr>\n",
       "      <th>2</th>\n",
       "      <td>3</td>\n",
       "      <td>[الم, الله, لا, الاه, الا, هو, حى, قيوم, نزل, علي, كتاب, حق, مصدقا, ما, بين, يدي, انزل, تورىاة, انجيل, من, قبل, هدى, ناس, انزل, فرقان, ان, الذين, كفر, ـايات, الله, هم, عذاب, شديد, الله, عزيز, ذو, انتقام, ان, الله, لا, يخفىا, علي, شىء, فى, ارض, لا, فى, سماء, هو, الذى, يصور, فى, ارحام, كيف, يشاء, لا, الاه, الا, هو, عزيز, حكيم, هو, الذى, انزل, علي, كتاب, من, ءايات, محكمات, هن, ام, كتاب, اخر, متشابهات, اما, الذين, فى, قلوب, زيغ, يتبع, ما, تشابه, من, ابتغاء, فتنة, ابتغاء, تاويل, ما, يعلم, تاويل, الا, الله, راسخون, فى, علم, يقول, ءام, هۦ, كل, من, ...]</td>\n",
       "    </tr>\n",
       "    <tr>\n",
       "      <th>3</th>\n",
       "      <td>4</td>\n",
       "      <td>[ايها, ناس, اتق, رب, الذى, خلق, من, نفس, واحدة, خلق, من, زوج, بث, من, رجالا, كثيرا, نساء, اتق, الله, الذى, تساءل, هۦ, ارحام, ان, الله, كان, علي, رقيبا, ءات, يتامىا, اموال, لا, تتبدل, خبيث, طيب, لا, تاكل, اموال, الىا, اموال, ان, كان, حوبا, كبيرا, ان, خف, ا, لا, تقسط, فى, يتامىا, انكح, ما, طاب, كم, من, نساء, مثنىا, ثلاث, رباع, ان, خف, ا, لا, تعدل, واحدة, او, ما, ملكت, ايمان, ذالك, ادنىا, ا, لا, تعول, ءات, نساء, صدقات, نحلة, ان, طب, كم, عن, شىء, من, نفسا, كل, هنيـا, مريـا, لا, توت, سفهاء, اموال, التى, جعل, الله, كم, قياما, ارزق, في, ...]</td>\n",
       "    </tr>\n",
       "    <tr>\n",
       "      <th>4</th>\n",
       "      <td>5</td>\n",
       "      <td>[ايها, الذين, ءامن, اوف, عقود, احلت, كم, بهيمة, انعام, الا, ما, يتلىا, علي, غير, محلى, صيد, انتم, حرم, ان, الله, يحكم, ما, يريد, ايها, الذين, ءامن, لا, تحل, شعاير, الله, لا, شهر, حرام, لا, هدى, لا, قلايد, لا, ءامين, بيت, حرام, يبتغ, فضلا, من, رب, رضوانا, اذا, حلل, اصطاد, لا, يجرم, شنـان, قوم, ان, صد, عن, مسجد, حرام, ان, تعتد, تعاون, على, بر, تقوىا, لا, تعاون, على, اثم, عدوان, اتق, الله, ان, الله, شديد, عقاب, حرمت, علي, ميتة, دم, لحم, خنزير, ما, اهل, غير, الله, هۦ, منخنقة, موقوذة, متردية, نطيحة, ما, اكل, سبع, الا, ما, ذكي, ما, ذبح, على, نصب, ...]</td>\n",
       "    </tr>\n",
       "  </tbody>\n",
       "</table>\n",
       "</div>"
      ],
      "text/plain": [
       "   chapter  \\\n",
       "0        1   \n",
       "1        2   \n",
       "2        3   \n",
       "3        4   \n",
       "4        5   \n",
       "\n",
       "                                                                                                                                                                                                                                                                                                                                                                                                                                                                                                                                                                   content  \n",
       "0                                                                                                                                                                                                                                                                                                                                                                                               [سم, الله, رحمان, رحيم, حمد, له, رب, عالمين, رحمان, رحيم, مالك, يوم, دين, اياك, نعبد, اياك, نستعين, اهد, صراط, مستقيم, صراط, الذين, انعم, علي, غير, مغضوب, علي, لا, ضالين]  \n",
       "1      [الم, ذالك, كتاب, لا, ريب, في, هدى, متقين, الذين, يومن, غيب, يقيم, صلواة, م, ما, رزق, ينفق, الذين, يومن, ما, انزل, الي, ما, انزل, من, قبل, ءاخرة, هم, يوقن, او۟لايك, علىا, هدى, من, رب, او۟لايك, هم, مفلحون, ان, الذين, كفر, سواء, علي, انذر, ام, لم, تنذر, لا, يومن, ختم, الله, علىا, قلوب, علىا, سمع, علىا, ابصار, غشاوة, هم, عذاب, عظيم, من, ناس, من, يقول, ءام, الله, يوم, ءاخر, ما, هم, مومنين, يخادع, الله, الذين, ءامن, ما, يخدع, الا, انفس, ما, يشعر, فى, قلوب, مرض, زاد, الله, مرضا, هم, عذاب, اليمۢ, ما, كان, يكذب, اذا, قيل, هم, لا, تفسد, فى, ارض, ...]  \n",
       "2  [الم, الله, لا, الاه, الا, هو, حى, قيوم, نزل, علي, كتاب, حق, مصدقا, ما, بين, يدي, انزل, تورىاة, انجيل, من, قبل, هدى, ناس, انزل, فرقان, ان, الذين, كفر, ـايات, الله, هم, عذاب, شديد, الله, عزيز, ذو, انتقام, ان, الله, لا, يخفىا, علي, شىء, فى, ارض, لا, فى, سماء, هو, الذى, يصور, فى, ارحام, كيف, يشاء, لا, الاه, الا, هو, عزيز, حكيم, هو, الذى, انزل, علي, كتاب, من, ءايات, محكمات, هن, ام, كتاب, اخر, متشابهات, اما, الذين, فى, قلوب, زيغ, يتبع, ما, تشابه, من, ابتغاء, فتنة, ابتغاء, تاويل, ما, يعلم, تاويل, الا, الله, راسخون, فى, علم, يقول, ءام, هۦ, كل, من, ...]  \n",
       "3             [ايها, ناس, اتق, رب, الذى, خلق, من, نفس, واحدة, خلق, من, زوج, بث, من, رجالا, كثيرا, نساء, اتق, الله, الذى, تساءل, هۦ, ارحام, ان, الله, كان, علي, رقيبا, ءات, يتامىا, اموال, لا, تتبدل, خبيث, طيب, لا, تاكل, اموال, الىا, اموال, ان, كان, حوبا, كبيرا, ان, خف, ا, لا, تقسط, فى, يتامىا, انكح, ما, طاب, كم, من, نساء, مثنىا, ثلاث, رباع, ان, خف, ا, لا, تعدل, واحدة, او, ما, ملكت, ايمان, ذالك, ادنىا, ا, لا, تعول, ءات, نساء, صدقات, نحلة, ان, طب, كم, عن, شىء, من, نفسا, كل, هنيـا, مريـا, لا, توت, سفهاء, اموال, التى, جعل, الله, كم, قياما, ارزق, في, ...]  \n",
       "4  [ايها, الذين, ءامن, اوف, عقود, احلت, كم, بهيمة, انعام, الا, ما, يتلىا, علي, غير, محلى, صيد, انتم, حرم, ان, الله, يحكم, ما, يريد, ايها, الذين, ءامن, لا, تحل, شعاير, الله, لا, شهر, حرام, لا, هدى, لا, قلايد, لا, ءامين, بيت, حرام, يبتغ, فضلا, من, رب, رضوانا, اذا, حلل, اصطاد, لا, يجرم, شنـان, قوم, ان, صد, عن, مسجد, حرام, ان, تعتد, تعاون, على, بر, تقوىا, لا, تعاون, على, اثم, عدوان, اتق, الله, ان, الله, شديد, عقاب, حرمت, علي, ميتة, دم, لحم, خنزير, ما, اهل, غير, الله, هۦ, منخنقة, موقوذة, متردية, نطيحة, ما, اكل, سبع, الا, ما, ذكي, ما, ذبح, على, نصب, ...]  "
      ]
     },
     "execution_count": 23,
     "metadata": {},
     "output_type": "execute_result"
    }
   ],
   "source": [
    "chapter_df = stem_df.groupby('chapter')['unicode_wo_diac'].apply(list).reset_index()\n",
    "chapter_df.columns = ['chapter', 'content']\n",
    "chapter_df.head()"
   ]
  },
  {
   "cell_type": "markdown",
   "metadata": {
    "pycharm": {
     "name": "#%% md\n"
    }
   },
   "source": [
    "<div dir=\"rtl\">\n",
    "سپس مانند قبل با همان مدل قبلی بردارهای تعبیه را میسازیم.\n",
    "</div>"
   ]
  },
  {
   "cell_type": "code",
   "execution_count": 24,
   "metadata": {
    "pycharm": {
     "name": "#%%\n"
    }
   },
   "outputs": [
    {
     "data": {
      "text/html": [
       "<div>\n",
       "<style scoped>\n",
       "    .dataframe tbody tr th:only-of-type {\n",
       "        vertical-align: middle;\n",
       "    }\n",
       "\n",
       "    .dataframe tbody tr th {\n",
       "        vertical-align: top;\n",
       "    }\n",
       "\n",
       "    .dataframe thead th {\n",
       "        text-align: right;\n",
       "    }\n",
       "</style>\n",
       "<table border=\"1\" class=\"dataframe\">\n",
       "  <thead>\n",
       "    <tr style=\"text-align: right;\">\n",
       "      <th></th>\n",
       "      <th>chapter</th>\n",
       "      <th>content</th>\n",
       "      <th>embedding</th>\n",
       "    </tr>\n",
       "  </thead>\n",
       "  <tbody>\n",
       "    <tr>\n",
       "      <th>0</th>\n",
       "      <td>1</td>\n",
       "      <td>[سم, الله, رحمان, رحيم, حمد, له, رب, عالمين, رحمان, رحيم, مالك, يوم, دين, اياك, نعبد, اياك, نستعين, اهد, صراط, مستقيم, صراط, الذين, انعم, علي, غير, مغضوب, علي, لا, ضالين]</td>\n",
       "      <td>[0.5425285, -0.13494344, -0.28725043, 0.72397983, -0.06351497, -1.0107628, 0.7122974]</td>\n",
       "    </tr>\n",
       "    <tr>\n",
       "      <th>1</th>\n",
       "      <td>2</td>\n",
       "      <td>[الم, ذالك, كتاب, لا, ريب, في, هدى, متقين, الذين, يومن, غيب, يقيم, صلواة, م, ما, رزق, ينفق, الذين, يومن, ما, انزل, الي, ما, انزل, من, قبل, ءاخرة, هم, يوقن, او۟لايك, علىا, هدى, من, رب, او۟لايك, هم, مفلحون, ان, الذين, كفر, سواء, علي, انذر, ام, لم, تنذر, لا, يومن, ختم, الله, علىا, قلوب, علىا, سمع, علىا, ابصار, غشاوة, هم, عذاب, عظيم, من, ناس, من, يقول, ءام, الله, يوم, ءاخر, ما, هم, مومنين, يخادع, الله, الذين, ءامن, ما, يخدع, الا, انفس, ما, يشعر, فى, قلوب, مرض, زاد, الله, مرضا, هم, عذاب, اليمۢ, ما, كان, يكذب, اذا, قيل, هم, لا, تفسد, فى, ارض, ...]</td>\n",
       "      <td>[0.4927549, -0.16703272, -0.41970292, 0.8598129, 0.15568848, -0.46054664, 0.67191744]</td>\n",
       "    </tr>\n",
       "    <tr>\n",
       "      <th>2</th>\n",
       "      <td>3</td>\n",
       "      <td>[الم, الله, لا, الاه, الا, هو, حى, قيوم, نزل, علي, كتاب, حق, مصدقا, ما, بين, يدي, انزل, تورىاة, انجيل, من, قبل, هدى, ناس, انزل, فرقان, ان, الذين, كفر, ـايات, الله, هم, عذاب, شديد, الله, عزيز, ذو, انتقام, ان, الله, لا, يخفىا, علي, شىء, فى, ارض, لا, فى, سماء, هو, الذى, يصور, فى, ارحام, كيف, يشاء, لا, الاه, الا, هو, عزيز, حكيم, هو, الذى, انزل, علي, كتاب, من, ءايات, محكمات, هن, ام, كتاب, اخر, متشابهات, اما, الذين, فى, قلوب, زيغ, يتبع, ما, تشابه, من, ابتغاء, فتنة, ابتغاء, تاويل, ما, يعلم, تاويل, الا, الله, راسخون, فى, علم, يقول, ءام, هۦ, كل, من, ...]</td>\n",
       "      <td>[0.5474993, -0.26122734, -0.40153262, 0.87964803, 0.056816604, -0.42270672, 0.66017026]</td>\n",
       "    </tr>\n",
       "    <tr>\n",
       "      <th>3</th>\n",
       "      <td>4</td>\n",
       "      <td>[ايها, ناس, اتق, رب, الذى, خلق, من, نفس, واحدة, خلق, من, زوج, بث, من, رجالا, كثيرا, نساء, اتق, الله, الذى, تساءل, هۦ, ارحام, ان, الله, كان, علي, رقيبا, ءات, يتامىا, اموال, لا, تتبدل, خبيث, طيب, لا, تاكل, اموال, الىا, اموال, ان, كان, حوبا, كبيرا, ان, خف, ا, لا, تقسط, فى, يتامىا, انكح, ما, طاب, كم, من, نساء, مثنىا, ثلاث, رباع, ان, خف, ا, لا, تعدل, واحدة, او, ما, ملكت, ايمان, ذالك, ادنىا, ا, لا, تعول, ءات, نساء, صدقات, نحلة, ان, طب, كم, عن, شىء, من, نفسا, كل, هنيـا, مريـا, لا, توت, سفهاء, اموال, التى, جعل, الله, كم, قياما, ارزق, في, ...]</td>\n",
       "      <td>[0.4045318, -0.20670432, -0.37987158, 0.9627613, 0.23366275, -0.34808078, 0.7029082]</td>\n",
       "    </tr>\n",
       "    <tr>\n",
       "      <th>4</th>\n",
       "      <td>5</td>\n",
       "      <td>[ايها, الذين, ءامن, اوف, عقود, احلت, كم, بهيمة, انعام, الا, ما, يتلىا, علي, غير, محلى, صيد, انتم, حرم, ان, الله, يحكم, ما, يريد, ايها, الذين, ءامن, لا, تحل, شعاير, الله, لا, شهر, حرام, لا, هدى, لا, قلايد, لا, ءامين, بيت, حرام, يبتغ, فضلا, من, رب, رضوانا, اذا, حلل, اصطاد, لا, يجرم, شنـان, قوم, ان, صد, عن, مسجد, حرام, ان, تعتد, تعاون, على, بر, تقوىا, لا, تعاون, على, اثم, عدوان, اتق, الله, ان, الله, شديد, عقاب, حرمت, علي, ميتة, دم, لحم, خنزير, ما, اهل, غير, الله, هۦ, منخنقة, موقوذة, متردية, نطيحة, ما, اكل, سبع, الا, ما, ذكي, ما, ذبح, على, نصب, ...]</td>\n",
       "      <td>[0.5721107, -0.27762634, -0.35565338, 0.8727915, 0.18216681, -0.41313905, 0.655421]</td>\n",
       "    </tr>\n",
       "  </tbody>\n",
       "</table>\n",
       "</div>"
      ],
      "text/plain": [
       "   chapter  \\\n",
       "0        1   \n",
       "1        2   \n",
       "2        3   \n",
       "3        4   \n",
       "4        5   \n",
       "\n",
       "                                                                                                                                                                                                                                                                                                                                                                                                                                                                                                                                                                   content  \\\n",
       "0                                                                                                                                                                                                                                                                                                                                                                                               [سم, الله, رحمان, رحيم, حمد, له, رب, عالمين, رحمان, رحيم, مالك, يوم, دين, اياك, نعبد, اياك, نستعين, اهد, صراط, مستقيم, صراط, الذين, انعم, علي, غير, مغضوب, علي, لا, ضالين]   \n",
       "1      [الم, ذالك, كتاب, لا, ريب, في, هدى, متقين, الذين, يومن, غيب, يقيم, صلواة, م, ما, رزق, ينفق, الذين, يومن, ما, انزل, الي, ما, انزل, من, قبل, ءاخرة, هم, يوقن, او۟لايك, علىا, هدى, من, رب, او۟لايك, هم, مفلحون, ان, الذين, كفر, سواء, علي, انذر, ام, لم, تنذر, لا, يومن, ختم, الله, علىا, قلوب, علىا, سمع, علىا, ابصار, غشاوة, هم, عذاب, عظيم, من, ناس, من, يقول, ءام, الله, يوم, ءاخر, ما, هم, مومنين, يخادع, الله, الذين, ءامن, ما, يخدع, الا, انفس, ما, يشعر, فى, قلوب, مرض, زاد, الله, مرضا, هم, عذاب, اليمۢ, ما, كان, يكذب, اذا, قيل, هم, لا, تفسد, فى, ارض, ...]   \n",
       "2  [الم, الله, لا, الاه, الا, هو, حى, قيوم, نزل, علي, كتاب, حق, مصدقا, ما, بين, يدي, انزل, تورىاة, انجيل, من, قبل, هدى, ناس, انزل, فرقان, ان, الذين, كفر, ـايات, الله, هم, عذاب, شديد, الله, عزيز, ذو, انتقام, ان, الله, لا, يخفىا, علي, شىء, فى, ارض, لا, فى, سماء, هو, الذى, يصور, فى, ارحام, كيف, يشاء, لا, الاه, الا, هو, عزيز, حكيم, هو, الذى, انزل, علي, كتاب, من, ءايات, محكمات, هن, ام, كتاب, اخر, متشابهات, اما, الذين, فى, قلوب, زيغ, يتبع, ما, تشابه, من, ابتغاء, فتنة, ابتغاء, تاويل, ما, يعلم, تاويل, الا, الله, راسخون, فى, علم, يقول, ءام, هۦ, كل, من, ...]   \n",
       "3             [ايها, ناس, اتق, رب, الذى, خلق, من, نفس, واحدة, خلق, من, زوج, بث, من, رجالا, كثيرا, نساء, اتق, الله, الذى, تساءل, هۦ, ارحام, ان, الله, كان, علي, رقيبا, ءات, يتامىا, اموال, لا, تتبدل, خبيث, طيب, لا, تاكل, اموال, الىا, اموال, ان, كان, حوبا, كبيرا, ان, خف, ا, لا, تقسط, فى, يتامىا, انكح, ما, طاب, كم, من, نساء, مثنىا, ثلاث, رباع, ان, خف, ا, لا, تعدل, واحدة, او, ما, ملكت, ايمان, ذالك, ادنىا, ا, لا, تعول, ءات, نساء, صدقات, نحلة, ان, طب, كم, عن, شىء, من, نفسا, كل, هنيـا, مريـا, لا, توت, سفهاء, اموال, التى, جعل, الله, كم, قياما, ارزق, في, ...]   \n",
       "4  [ايها, الذين, ءامن, اوف, عقود, احلت, كم, بهيمة, انعام, الا, ما, يتلىا, علي, غير, محلى, صيد, انتم, حرم, ان, الله, يحكم, ما, يريد, ايها, الذين, ءامن, لا, تحل, شعاير, الله, لا, شهر, حرام, لا, هدى, لا, قلايد, لا, ءامين, بيت, حرام, يبتغ, فضلا, من, رب, رضوانا, اذا, حلل, اصطاد, لا, يجرم, شنـان, قوم, ان, صد, عن, مسجد, حرام, ان, تعتد, تعاون, على, بر, تقوىا, لا, تعاون, على, اثم, عدوان, اتق, الله, ان, الله, شديد, عقاب, حرمت, علي, ميتة, دم, لحم, خنزير, ما, اهل, غير, الله, هۦ, منخنقة, موقوذة, متردية, نطيحة, ما, اكل, سبع, الا, ما, ذكي, ما, ذبح, على, نصب, ...]   \n",
       "\n",
       "                                                                                 embedding  \n",
       "0    [0.5425285, -0.13494344, -0.28725043, 0.72397983, -0.06351497, -1.0107628, 0.7122974]  \n",
       "1    [0.4927549, -0.16703272, -0.41970292, 0.8598129, 0.15568848, -0.46054664, 0.67191744]  \n",
       "2  [0.5474993, -0.26122734, -0.40153262, 0.87964803, 0.056816604, -0.42270672, 0.66017026]  \n",
       "3     [0.4045318, -0.20670432, -0.37987158, 0.9627613, 0.23366275, -0.34808078, 0.7029082]  \n",
       "4      [0.5721107, -0.27762634, -0.35565338, 0.8727915, 0.18216681, -0.41313905, 0.655421]  "
      ]
     },
     "execution_count": 24,
     "metadata": {},
     "output_type": "execute_result"
    }
   ],
   "source": [
    "chapter_df['embedding'] = chapter_df.content.apply(get_w2v_embedding)\n",
    "chapter_df.head()"
   ]
  },
  {
   "cell_type": "markdown",
   "metadata": {
    "pycharm": {
     "name": "#%% md\n"
    }
   },
   "source": [
    "<div dir=\"rtl\">\n",
    "سپس خوشه بندی را انجام میدهیم. با توجه به خواسته مسئله باید به ۲ دسته خوشه بندی کنیم.\n",
    "</div>"
   ]
  },
  {
   "cell_type": "code",
   "execution_count": 25,
   "metadata": {
    "pycharm": {
     "name": "#%%\n"
    }
   },
   "outputs": [
    {
     "data": {
      "text/plain": [
       "array([1, 0, 0, 0, 0, 1, 1, 0, 0, 1, 1, 1, 1, 1, 1, 1, 1, 1, 1, 1, 1, 0,\n",
       "       1, 0, 1, 1, 1, 1, 1, 1, 1, 1, 0, 1, 1, 1, 1, 1, 1, 1, 1, 0, 1, 1,\n",
       "       1, 1, 0, 0, 0, 1, 1, 1, 1, 1, 1, 1, 0, 0, 0, 0, 0, 0, 0, 0, 0, 0,\n",
       "       1, 1, 1, 1, 1, 1, 1, 1, 1, 1, 1, 1, 1, 1, 1, 1, 1, 1, 0, 1, 1, 1,\n",
       "       1, 1, 1, 1, 1, 1, 0, 1, 1, 0, 1, 1, 1, 1, 0, 1, 1, 1, 0, 1, 0, 1,\n",
       "       1, 1, 1, 1], dtype=int32)"
      ]
     },
     "execution_count": 25,
     "metadata": {},
     "output_type": "execute_result"
    }
   ],
   "source": [
    "datapoints = np.array(chapter_df.embedding.tolist())\n",
    "\n",
    "clustering_model = KMeans(n_clusters=2)\n",
    "cluster_labels = clustering_model.fit_predict(datapoints)\n",
    "\n",
    "with open('chapter_clusters/clustering_model', 'wb') as f:\n",
    "    pkl.dump(clustering_model, f)\n",
    "    \n",
    "cluster_labels"
   ]
  },
  {
   "cell_type": "code",
   "execution_count": 26,
   "metadata": {
    "pycharm": {
     "name": "#%%\n"
    }
   },
   "outputs": [
    {
     "data": {
      "text/html": [
       "<div>\n",
       "<style scoped>\n",
       "    .dataframe tbody tr th:only-of-type {\n",
       "        vertical-align: middle;\n",
       "    }\n",
       "\n",
       "    .dataframe tbody tr th {\n",
       "        vertical-align: top;\n",
       "    }\n",
       "\n",
       "    .dataframe thead th {\n",
       "        text-align: right;\n",
       "    }\n",
       "</style>\n",
       "<table border=\"1\" class=\"dataframe\">\n",
       "  <thead>\n",
       "    <tr style=\"text-align: right;\">\n",
       "      <th></th>\n",
       "      <th>chapter</th>\n",
       "      <th>content</th>\n",
       "      <th>embedding</th>\n",
       "      <th>cluster</th>\n",
       "    </tr>\n",
       "  </thead>\n",
       "  <tbody>\n",
       "    <tr>\n",
       "      <th>0</th>\n",
       "      <td>1</td>\n",
       "      <td>[سم, الله, رحمان, رحيم, حمد, له, رب, عالمين, رحمان, رحيم, مالك, يوم, دين, اياك, نعبد, اياك, نستعين, اهد, صراط, مستقيم, صراط, الذين, انعم, علي, غير, مغضوب, علي, لا, ضالين]</td>\n",
       "      <td>[0.5425285, -0.13494344, -0.28725043, 0.72397983, -0.06351497, -1.0107628, 0.7122974]</td>\n",
       "      <td>1</td>\n",
       "    </tr>\n",
       "    <tr>\n",
       "      <th>1</th>\n",
       "      <td>2</td>\n",
       "      <td>[الم, ذالك, كتاب, لا, ريب, في, هدى, متقين, الذين, يومن, غيب, يقيم, صلواة, م, ما, رزق, ينفق, الذين, يومن, ما, انزل, الي, ما, انزل, من, قبل, ءاخرة, هم, يوقن, او۟لايك, علىا, هدى, من, رب, او۟لايك, هم, مفلحون, ان, الذين, كفر, سواء, علي, انذر, ام, لم, تنذر, لا, يومن, ختم, الله, علىا, قلوب, علىا, سمع, علىا, ابصار, غشاوة, هم, عذاب, عظيم, من, ناس, من, يقول, ءام, الله, يوم, ءاخر, ما, هم, مومنين, يخادع, الله, الذين, ءامن, ما, يخدع, الا, انفس, ما, يشعر, فى, قلوب, مرض, زاد, الله, مرضا, هم, عذاب, اليمۢ, ما, كان, يكذب, اذا, قيل, هم, لا, تفسد, فى, ارض, ...]</td>\n",
       "      <td>[0.4927549, -0.16703272, -0.41970292, 0.8598129, 0.15568848, -0.46054664, 0.67191744]</td>\n",
       "      <td>0</td>\n",
       "    </tr>\n",
       "    <tr>\n",
       "      <th>2</th>\n",
       "      <td>3</td>\n",
       "      <td>[الم, الله, لا, الاه, الا, هو, حى, قيوم, نزل, علي, كتاب, حق, مصدقا, ما, بين, يدي, انزل, تورىاة, انجيل, من, قبل, هدى, ناس, انزل, فرقان, ان, الذين, كفر, ـايات, الله, هم, عذاب, شديد, الله, عزيز, ذو, انتقام, ان, الله, لا, يخفىا, علي, شىء, فى, ارض, لا, فى, سماء, هو, الذى, يصور, فى, ارحام, كيف, يشاء, لا, الاه, الا, هو, عزيز, حكيم, هو, الذى, انزل, علي, كتاب, من, ءايات, محكمات, هن, ام, كتاب, اخر, متشابهات, اما, الذين, فى, قلوب, زيغ, يتبع, ما, تشابه, من, ابتغاء, فتنة, ابتغاء, تاويل, ما, يعلم, تاويل, الا, الله, راسخون, فى, علم, يقول, ءام, هۦ, كل, من, ...]</td>\n",
       "      <td>[0.5474993, -0.26122734, -0.40153262, 0.87964803, 0.056816604, -0.42270672, 0.66017026]</td>\n",
       "      <td>0</td>\n",
       "    </tr>\n",
       "    <tr>\n",
       "      <th>3</th>\n",
       "      <td>4</td>\n",
       "      <td>[ايها, ناس, اتق, رب, الذى, خلق, من, نفس, واحدة, خلق, من, زوج, بث, من, رجالا, كثيرا, نساء, اتق, الله, الذى, تساءل, هۦ, ارحام, ان, الله, كان, علي, رقيبا, ءات, يتامىا, اموال, لا, تتبدل, خبيث, طيب, لا, تاكل, اموال, الىا, اموال, ان, كان, حوبا, كبيرا, ان, خف, ا, لا, تقسط, فى, يتامىا, انكح, ما, طاب, كم, من, نساء, مثنىا, ثلاث, رباع, ان, خف, ا, لا, تعدل, واحدة, او, ما, ملكت, ايمان, ذالك, ادنىا, ا, لا, تعول, ءات, نساء, صدقات, نحلة, ان, طب, كم, عن, شىء, من, نفسا, كل, هنيـا, مريـا, لا, توت, سفهاء, اموال, التى, جعل, الله, كم, قياما, ارزق, في, ...]</td>\n",
       "      <td>[0.4045318, -0.20670432, -0.37987158, 0.9627613, 0.23366275, -0.34808078, 0.7029082]</td>\n",
       "      <td>0</td>\n",
       "    </tr>\n",
       "    <tr>\n",
       "      <th>4</th>\n",
       "      <td>5</td>\n",
       "      <td>[ايها, الذين, ءامن, اوف, عقود, احلت, كم, بهيمة, انعام, الا, ما, يتلىا, علي, غير, محلى, صيد, انتم, حرم, ان, الله, يحكم, ما, يريد, ايها, الذين, ءامن, لا, تحل, شعاير, الله, لا, شهر, حرام, لا, هدى, لا, قلايد, لا, ءامين, بيت, حرام, يبتغ, فضلا, من, رب, رضوانا, اذا, حلل, اصطاد, لا, يجرم, شنـان, قوم, ان, صد, عن, مسجد, حرام, ان, تعتد, تعاون, على, بر, تقوىا, لا, تعاون, على, اثم, عدوان, اتق, الله, ان, الله, شديد, عقاب, حرمت, علي, ميتة, دم, لحم, خنزير, ما, اهل, غير, الله, هۦ, منخنقة, موقوذة, متردية, نطيحة, ما, اكل, سبع, الا, ما, ذكي, ما, ذبح, على, نصب, ...]</td>\n",
       "      <td>[0.5721107, -0.27762634, -0.35565338, 0.8727915, 0.18216681, -0.41313905, 0.655421]</td>\n",
       "      <td>0</td>\n",
       "    </tr>\n",
       "  </tbody>\n",
       "</table>\n",
       "</div>"
      ],
      "text/plain": [
       "   chapter  \\\n",
       "0        1   \n",
       "1        2   \n",
       "2        3   \n",
       "3        4   \n",
       "4        5   \n",
       "\n",
       "                                                                                                                                                                                                                                                                                                                                                                                                                                                                                                                                                                   content  \\\n",
       "0                                                                                                                                                                                                                                                                                                                                                                                               [سم, الله, رحمان, رحيم, حمد, له, رب, عالمين, رحمان, رحيم, مالك, يوم, دين, اياك, نعبد, اياك, نستعين, اهد, صراط, مستقيم, صراط, الذين, انعم, علي, غير, مغضوب, علي, لا, ضالين]   \n",
       "1      [الم, ذالك, كتاب, لا, ريب, في, هدى, متقين, الذين, يومن, غيب, يقيم, صلواة, م, ما, رزق, ينفق, الذين, يومن, ما, انزل, الي, ما, انزل, من, قبل, ءاخرة, هم, يوقن, او۟لايك, علىا, هدى, من, رب, او۟لايك, هم, مفلحون, ان, الذين, كفر, سواء, علي, انذر, ام, لم, تنذر, لا, يومن, ختم, الله, علىا, قلوب, علىا, سمع, علىا, ابصار, غشاوة, هم, عذاب, عظيم, من, ناس, من, يقول, ءام, الله, يوم, ءاخر, ما, هم, مومنين, يخادع, الله, الذين, ءامن, ما, يخدع, الا, انفس, ما, يشعر, فى, قلوب, مرض, زاد, الله, مرضا, هم, عذاب, اليمۢ, ما, كان, يكذب, اذا, قيل, هم, لا, تفسد, فى, ارض, ...]   \n",
       "2  [الم, الله, لا, الاه, الا, هو, حى, قيوم, نزل, علي, كتاب, حق, مصدقا, ما, بين, يدي, انزل, تورىاة, انجيل, من, قبل, هدى, ناس, انزل, فرقان, ان, الذين, كفر, ـايات, الله, هم, عذاب, شديد, الله, عزيز, ذو, انتقام, ان, الله, لا, يخفىا, علي, شىء, فى, ارض, لا, فى, سماء, هو, الذى, يصور, فى, ارحام, كيف, يشاء, لا, الاه, الا, هو, عزيز, حكيم, هو, الذى, انزل, علي, كتاب, من, ءايات, محكمات, هن, ام, كتاب, اخر, متشابهات, اما, الذين, فى, قلوب, زيغ, يتبع, ما, تشابه, من, ابتغاء, فتنة, ابتغاء, تاويل, ما, يعلم, تاويل, الا, الله, راسخون, فى, علم, يقول, ءام, هۦ, كل, من, ...]   \n",
       "3             [ايها, ناس, اتق, رب, الذى, خلق, من, نفس, واحدة, خلق, من, زوج, بث, من, رجالا, كثيرا, نساء, اتق, الله, الذى, تساءل, هۦ, ارحام, ان, الله, كان, علي, رقيبا, ءات, يتامىا, اموال, لا, تتبدل, خبيث, طيب, لا, تاكل, اموال, الىا, اموال, ان, كان, حوبا, كبيرا, ان, خف, ا, لا, تقسط, فى, يتامىا, انكح, ما, طاب, كم, من, نساء, مثنىا, ثلاث, رباع, ان, خف, ا, لا, تعدل, واحدة, او, ما, ملكت, ايمان, ذالك, ادنىا, ا, لا, تعول, ءات, نساء, صدقات, نحلة, ان, طب, كم, عن, شىء, من, نفسا, كل, هنيـا, مريـا, لا, توت, سفهاء, اموال, التى, جعل, الله, كم, قياما, ارزق, في, ...]   \n",
       "4  [ايها, الذين, ءامن, اوف, عقود, احلت, كم, بهيمة, انعام, الا, ما, يتلىا, علي, غير, محلى, صيد, انتم, حرم, ان, الله, يحكم, ما, يريد, ايها, الذين, ءامن, لا, تحل, شعاير, الله, لا, شهر, حرام, لا, هدى, لا, قلايد, لا, ءامين, بيت, حرام, يبتغ, فضلا, من, رب, رضوانا, اذا, حلل, اصطاد, لا, يجرم, شنـان, قوم, ان, صد, عن, مسجد, حرام, ان, تعتد, تعاون, على, بر, تقوىا, لا, تعاون, على, اثم, عدوان, اتق, الله, ان, الله, شديد, عقاب, حرمت, علي, ميتة, دم, لحم, خنزير, ما, اهل, غير, الله, هۦ, منخنقة, موقوذة, متردية, نطيحة, ما, اكل, سبع, الا, ما, ذكي, ما, ذبح, على, نصب, ...]   \n",
       "\n",
       "                                                                                 embedding  \\\n",
       "0    [0.5425285, -0.13494344, -0.28725043, 0.72397983, -0.06351497, -1.0107628, 0.7122974]   \n",
       "1    [0.4927549, -0.16703272, -0.41970292, 0.8598129, 0.15568848, -0.46054664, 0.67191744]   \n",
       "2  [0.5474993, -0.26122734, -0.40153262, 0.87964803, 0.056816604, -0.42270672, 0.66017026]   \n",
       "3     [0.4045318, -0.20670432, -0.37987158, 0.9627613, 0.23366275, -0.34808078, 0.7029082]   \n",
       "4      [0.5721107, -0.27762634, -0.35565338, 0.8727915, 0.18216681, -0.41313905, 0.655421]   \n",
       "\n",
       "   cluster  \n",
       "0        1  \n",
       "1        0  \n",
       "2        0  \n",
       "3        0  \n",
       "4        0  "
      ]
     },
     "execution_count": 26,
     "metadata": {},
     "output_type": "execute_result"
    }
   ],
   "source": [
    "chapter_df['cluster'] = pd.Series(cluster_labels)\n",
    "chapter_df.head()"
   ]
  },
  {
   "cell_type": "markdown",
   "metadata": {
    "pycharm": {
     "name": "#%% md\n"
    }
   },
   "source": [
    "<div dir=\"rtl\">\n",
    "در ادامه با استفاده از \n",
    "TSNE\n",
    "یک پلات از خوشه بندی ارائه میدهیم:\n",
    "</div>"
   ]
  },
  {
   "cell_type": "code",
   "execution_count": 27,
   "metadata": {
    "pycharm": {
     "name": "#%%\n"
    }
   },
   "outputs": [
    {
     "data": {
      "text/plain": [
       "array([[-6.977336  , -0.61495346],\n",
       "       [-4.3261642 ,  3.9173462 ],\n",
       "       [-4.0135956 ,  3.9747992 ],\n",
       "       [-5.0293922 ,  4.7908454 ],\n",
       "       [-4.380289  ,  4.5505915 ]], dtype=float32)"
      ]
     },
     "execution_count": 27,
     "metadata": {},
     "output_type": "execute_result"
    }
   ],
   "source": [
    "projected_datapoints = TSNE(n_components=2, learning_rate='auto', init='random').fit_transform(datapoints)\n",
    "projected_datapoints[:5]"
   ]
  },
  {
   "cell_type": "code",
   "execution_count": 28,
   "metadata": {
    "pycharm": {
     "name": "#%%\n"
    }
   },
   "outputs": [
    {
     "data": {
      "text/html": [
       "<div>\n",
       "<style scoped>\n",
       "    .dataframe tbody tr th:only-of-type {\n",
       "        vertical-align: middle;\n",
       "    }\n",
       "\n",
       "    .dataframe tbody tr th {\n",
       "        vertical-align: top;\n",
       "    }\n",
       "\n",
       "    .dataframe thead th {\n",
       "        text-align: right;\n",
       "    }\n",
       "</style>\n",
       "<table border=\"1\" class=\"dataframe\">\n",
       "  <thead>\n",
       "    <tr style=\"text-align: right;\">\n",
       "      <th></th>\n",
       "      <th>chapter</th>\n",
       "      <th>content</th>\n",
       "      <th>embedding</th>\n",
       "      <th>cluster</th>\n",
       "      <th>projected_embedding</th>\n",
       "    </tr>\n",
       "  </thead>\n",
       "  <tbody>\n",
       "    <tr>\n",
       "      <th>0</th>\n",
       "      <td>1</td>\n",
       "      <td>[سم, الله, رحمان, رحيم, حمد, له, رب, عالمين, رحمان, رحيم, مالك, يوم, دين, اياك, نعبد, اياك, نستعين, اهد, صراط, مستقيم, صراط, الذين, انعم, علي, غير, مغضوب, علي, لا, ضالين]</td>\n",
       "      <td>[0.5425285, -0.13494344, -0.28725043, 0.72397983, -0.06351497, -1.0107628, 0.7122974]</td>\n",
       "      <td>1</td>\n",
       "      <td>[-6.9773359298706055, -0.6149534583091736]</td>\n",
       "    </tr>\n",
       "    <tr>\n",
       "      <th>1</th>\n",
       "      <td>2</td>\n",
       "      <td>[الم, ذالك, كتاب, لا, ريب, في, هدى, متقين, الذين, يومن, غيب, يقيم, صلواة, م, ما, رزق, ينفق, الذين, يومن, ما, انزل, الي, ما, انزل, من, قبل, ءاخرة, هم, يوقن, او۟لايك, علىا, هدى, من, رب, او۟لايك, هم, مفلحون, ان, الذين, كفر, سواء, علي, انذر, ام, لم, تنذر, لا, يومن, ختم, الله, علىا, قلوب, علىا, سمع, علىا, ابصار, غشاوة, هم, عذاب, عظيم, من, ناس, من, يقول, ءام, الله, يوم, ءاخر, ما, هم, مومنين, يخادع, الله, الذين, ءامن, ما, يخدع, الا, انفس, ما, يشعر, فى, قلوب, مرض, زاد, الله, مرضا, هم, عذاب, اليمۢ, ما, كان, يكذب, اذا, قيل, هم, لا, تفسد, فى, ارض, ...]</td>\n",
       "      <td>[0.4927549, -0.16703272, -0.41970292, 0.8598129, 0.15568848, -0.46054664, 0.67191744]</td>\n",
       "      <td>0</td>\n",
       "      <td>[-4.326164245605469, 3.917346239089966]</td>\n",
       "    </tr>\n",
       "    <tr>\n",
       "      <th>2</th>\n",
       "      <td>3</td>\n",
       "      <td>[الم, الله, لا, الاه, الا, هو, حى, قيوم, نزل, علي, كتاب, حق, مصدقا, ما, بين, يدي, انزل, تورىاة, انجيل, من, قبل, هدى, ناس, انزل, فرقان, ان, الذين, كفر, ـايات, الله, هم, عذاب, شديد, الله, عزيز, ذو, انتقام, ان, الله, لا, يخفىا, علي, شىء, فى, ارض, لا, فى, سماء, هو, الذى, يصور, فى, ارحام, كيف, يشاء, لا, الاه, الا, هو, عزيز, حكيم, هو, الذى, انزل, علي, كتاب, من, ءايات, محكمات, هن, ام, كتاب, اخر, متشابهات, اما, الذين, فى, قلوب, زيغ, يتبع, ما, تشابه, من, ابتغاء, فتنة, ابتغاء, تاويل, ما, يعلم, تاويل, الا, الله, راسخون, فى, علم, يقول, ءام, هۦ, كل, من, ...]</td>\n",
       "      <td>[0.5474993, -0.26122734, -0.40153262, 0.87964803, 0.056816604, -0.42270672, 0.66017026]</td>\n",
       "      <td>0</td>\n",
       "      <td>[-4.0135955810546875, 3.974799156188965]</td>\n",
       "    </tr>\n",
       "    <tr>\n",
       "      <th>3</th>\n",
       "      <td>4</td>\n",
       "      <td>[ايها, ناس, اتق, رب, الذى, خلق, من, نفس, واحدة, خلق, من, زوج, بث, من, رجالا, كثيرا, نساء, اتق, الله, الذى, تساءل, هۦ, ارحام, ان, الله, كان, علي, رقيبا, ءات, يتامىا, اموال, لا, تتبدل, خبيث, طيب, لا, تاكل, اموال, الىا, اموال, ان, كان, حوبا, كبيرا, ان, خف, ا, لا, تقسط, فى, يتامىا, انكح, ما, طاب, كم, من, نساء, مثنىا, ثلاث, رباع, ان, خف, ا, لا, تعدل, واحدة, او, ما, ملكت, ايمان, ذالك, ادنىا, ا, لا, تعول, ءات, نساء, صدقات, نحلة, ان, طب, كم, عن, شىء, من, نفسا, كل, هنيـا, مريـا, لا, توت, سفهاء, اموال, التى, جعل, الله, كم, قياما, ارزق, في, ...]</td>\n",
       "      <td>[0.4045318, -0.20670432, -0.37987158, 0.9627613, 0.23366275, -0.34808078, 0.7029082]</td>\n",
       "      <td>0</td>\n",
       "      <td>[-5.029392242431641, 4.7908453941345215]</td>\n",
       "    </tr>\n",
       "    <tr>\n",
       "      <th>4</th>\n",
       "      <td>5</td>\n",
       "      <td>[ايها, الذين, ءامن, اوف, عقود, احلت, كم, بهيمة, انعام, الا, ما, يتلىا, علي, غير, محلى, صيد, انتم, حرم, ان, الله, يحكم, ما, يريد, ايها, الذين, ءامن, لا, تحل, شعاير, الله, لا, شهر, حرام, لا, هدى, لا, قلايد, لا, ءامين, بيت, حرام, يبتغ, فضلا, من, رب, رضوانا, اذا, حلل, اصطاد, لا, يجرم, شنـان, قوم, ان, صد, عن, مسجد, حرام, ان, تعتد, تعاون, على, بر, تقوىا, لا, تعاون, على, اثم, عدوان, اتق, الله, ان, الله, شديد, عقاب, حرمت, علي, ميتة, دم, لحم, خنزير, ما, اهل, غير, الله, هۦ, منخنقة, موقوذة, متردية, نطيحة, ما, اكل, سبع, الا, ما, ذكي, ما, ذبح, على, نصب, ...]</td>\n",
       "      <td>[0.5721107, -0.27762634, -0.35565338, 0.8727915, 0.18216681, -0.41313905, 0.655421]</td>\n",
       "      <td>0</td>\n",
       "      <td>[-4.380289077758789, 4.550591468811035]</td>\n",
       "    </tr>\n",
       "  </tbody>\n",
       "</table>\n",
       "</div>"
      ],
      "text/plain": [
       "   chapter  \\\n",
       "0        1   \n",
       "1        2   \n",
       "2        3   \n",
       "3        4   \n",
       "4        5   \n",
       "\n",
       "                                                                                                                                                                                                                                                                                                                                                                                                                                                                                                                                                                   content  \\\n",
       "0                                                                                                                                                                                                                                                                                                                                                                                               [سم, الله, رحمان, رحيم, حمد, له, رب, عالمين, رحمان, رحيم, مالك, يوم, دين, اياك, نعبد, اياك, نستعين, اهد, صراط, مستقيم, صراط, الذين, انعم, علي, غير, مغضوب, علي, لا, ضالين]   \n",
       "1      [الم, ذالك, كتاب, لا, ريب, في, هدى, متقين, الذين, يومن, غيب, يقيم, صلواة, م, ما, رزق, ينفق, الذين, يومن, ما, انزل, الي, ما, انزل, من, قبل, ءاخرة, هم, يوقن, او۟لايك, علىا, هدى, من, رب, او۟لايك, هم, مفلحون, ان, الذين, كفر, سواء, علي, انذر, ام, لم, تنذر, لا, يومن, ختم, الله, علىا, قلوب, علىا, سمع, علىا, ابصار, غشاوة, هم, عذاب, عظيم, من, ناس, من, يقول, ءام, الله, يوم, ءاخر, ما, هم, مومنين, يخادع, الله, الذين, ءامن, ما, يخدع, الا, انفس, ما, يشعر, فى, قلوب, مرض, زاد, الله, مرضا, هم, عذاب, اليمۢ, ما, كان, يكذب, اذا, قيل, هم, لا, تفسد, فى, ارض, ...]   \n",
       "2  [الم, الله, لا, الاه, الا, هو, حى, قيوم, نزل, علي, كتاب, حق, مصدقا, ما, بين, يدي, انزل, تورىاة, انجيل, من, قبل, هدى, ناس, انزل, فرقان, ان, الذين, كفر, ـايات, الله, هم, عذاب, شديد, الله, عزيز, ذو, انتقام, ان, الله, لا, يخفىا, علي, شىء, فى, ارض, لا, فى, سماء, هو, الذى, يصور, فى, ارحام, كيف, يشاء, لا, الاه, الا, هو, عزيز, حكيم, هو, الذى, انزل, علي, كتاب, من, ءايات, محكمات, هن, ام, كتاب, اخر, متشابهات, اما, الذين, فى, قلوب, زيغ, يتبع, ما, تشابه, من, ابتغاء, فتنة, ابتغاء, تاويل, ما, يعلم, تاويل, الا, الله, راسخون, فى, علم, يقول, ءام, هۦ, كل, من, ...]   \n",
       "3             [ايها, ناس, اتق, رب, الذى, خلق, من, نفس, واحدة, خلق, من, زوج, بث, من, رجالا, كثيرا, نساء, اتق, الله, الذى, تساءل, هۦ, ارحام, ان, الله, كان, علي, رقيبا, ءات, يتامىا, اموال, لا, تتبدل, خبيث, طيب, لا, تاكل, اموال, الىا, اموال, ان, كان, حوبا, كبيرا, ان, خف, ا, لا, تقسط, فى, يتامىا, انكح, ما, طاب, كم, من, نساء, مثنىا, ثلاث, رباع, ان, خف, ا, لا, تعدل, واحدة, او, ما, ملكت, ايمان, ذالك, ادنىا, ا, لا, تعول, ءات, نساء, صدقات, نحلة, ان, طب, كم, عن, شىء, من, نفسا, كل, هنيـا, مريـا, لا, توت, سفهاء, اموال, التى, جعل, الله, كم, قياما, ارزق, في, ...]   \n",
       "4  [ايها, الذين, ءامن, اوف, عقود, احلت, كم, بهيمة, انعام, الا, ما, يتلىا, علي, غير, محلى, صيد, انتم, حرم, ان, الله, يحكم, ما, يريد, ايها, الذين, ءامن, لا, تحل, شعاير, الله, لا, شهر, حرام, لا, هدى, لا, قلايد, لا, ءامين, بيت, حرام, يبتغ, فضلا, من, رب, رضوانا, اذا, حلل, اصطاد, لا, يجرم, شنـان, قوم, ان, صد, عن, مسجد, حرام, ان, تعتد, تعاون, على, بر, تقوىا, لا, تعاون, على, اثم, عدوان, اتق, الله, ان, الله, شديد, عقاب, حرمت, علي, ميتة, دم, لحم, خنزير, ما, اهل, غير, الله, هۦ, منخنقة, موقوذة, متردية, نطيحة, ما, اكل, سبع, الا, ما, ذكي, ما, ذبح, على, نصب, ...]   \n",
       "\n",
       "                                                                                 embedding  \\\n",
       "0    [0.5425285, -0.13494344, -0.28725043, 0.72397983, -0.06351497, -1.0107628, 0.7122974]   \n",
       "1    [0.4927549, -0.16703272, -0.41970292, 0.8598129, 0.15568848, -0.46054664, 0.67191744]   \n",
       "2  [0.5474993, -0.26122734, -0.40153262, 0.87964803, 0.056816604, -0.42270672, 0.66017026]   \n",
       "3     [0.4045318, -0.20670432, -0.37987158, 0.9627613, 0.23366275, -0.34808078, 0.7029082]   \n",
       "4      [0.5721107, -0.27762634, -0.35565338, 0.8727915, 0.18216681, -0.41313905, 0.655421]   \n",
       "\n",
       "   cluster                         projected_embedding  \n",
       "0        1  [-6.9773359298706055, -0.6149534583091736]  \n",
       "1        0     [-4.326164245605469, 3.917346239089966]  \n",
       "2        0    [-4.0135955810546875, 3.974799156188965]  \n",
       "3        0    [-5.029392242431641, 4.7908453941345215]  \n",
       "4        0     [-4.380289077758789, 4.550591468811035]  "
      ]
     },
     "execution_count": 28,
     "metadata": {},
     "output_type": "execute_result"
    }
   ],
   "source": [
    "chapter_df['projected_embedding'] = pd.Series(projected_datapoints.tolist())\n",
    "chapter_df.head()"
   ]
  },
  {
   "cell_type": "code",
   "execution_count": 29,
   "metadata": {
    "pycharm": {
     "name": "#%%\n"
    }
   },
   "outputs": [
    {
     "data": {
      "image/png": "[encoded data removed]",
      "text/plain": [
       "<Figure size 432x288 with 1 Axes>"
      ]
     },
     "metadata": {
      "needs_background": "light"
     },
     "output_type": "display_data"
    }
   ],
   "source": [
    "for clstr, clr in [(0, 'blue'), (1, 'red')]:\n",
    "    cluster_points = chapter_df[chapter_df.cluster == clstr].projected_embedding.tolist()\n",
    "    x, y = zip(*cluster_points)\n",
    "    plt.scatter(x, y, color=clr)\n",
    "\n",
    "plt.show()"
   ]
  },
  {
   "cell_type": "markdown",
   "metadata": {
    "pycharm": {
     "name": "#%% md\n"
    }
   },
   "source": [
    "<div dir=\"rtl\">\n",
    "همانند قبل خیلی نمیتوان خوشه بندی ساختار مندی در خود دیتاست دید. اما کیفیت خوشه بندی انجام شده بد نیست و تا حدی نقاط را از هم جدا کرده.\n",
    "\n",
    "در ادامه همانند قبل هر سوره را به صورت تمیز شده و با لیبل خوشه بندی در یک دیتاست نهایی ذخیره میکنیم.\n",
    "</div>"
   ]
  },
  {
   "cell_type": "code",
   "execution_count": 30,
   "metadata": {
    "pycharm": {
     "name": "#%%\n"
    }
   },
   "outputs": [],
   "source": [
    "pd.set_option('display.max_colwidth', 500)"
   ]
  },
  {
   "cell_type": "code",
   "execution_count": 31,
   "metadata": {
    "pycharm": {
     "name": "#%%\n"
    }
   },
   "outputs": [
    {
     "data": {
      "text/html": [
       "<div>\n",
       "<style scoped>\n",
       "    .dataframe tbody tr th:only-of-type {\n",
       "        vertical-align: middle;\n",
       "    }\n",
       "\n",
       "    .dataframe tbody tr th {\n",
       "        vertical-align: top;\n",
       "    }\n",
       "\n",
       "    .dataframe thead th {\n",
       "        text-align: right;\n",
       "    }\n",
       "</style>\n",
       "<table border=\"1\" class=\"dataframe\">\n",
       "  <thead>\n",
       "    <tr style=\"text-align: right;\">\n",
       "      <th></th>\n",
       "      <th>chapter</th>\n",
       "      <th>text</th>\n",
       "    </tr>\n",
       "  </thead>\n",
       "  <tbody>\n",
       "    <tr>\n",
       "      <th>0</th>\n",
       "      <td>1</td>\n",
       "      <td>بِسْمِ اللَّهِ الرَّحْمَـٰنِ الرَّحِيمِ الْحَمْدُ لِلَّهِ رَبِّ الْعَالَمِينَ الرَّحْمَـٰنِ الرَّحِيمِ مَالِكِ يَوْمِ الدِّينِ إِيَّاكَ نَعْبُدُ وَإِيَّاكَ نَسْتَعِينُ اهْدِنَا الصِّرَاطَ الْمُسْتَقِيمَ صِرَاطَ الَّذِينَ أَنْعَمْتَ عَلَيْهِمْ غَيْرِ الْمَغْضُوبِ عَلَيْهِمْ وَلَا الضَّالِّينَ</td>\n",
       "    </tr>\n",
       "    <tr>\n",
       "      <th>1</th>\n",
       "      <td>2</td>\n",
       "      <td>بِسْمِ اللَّهِ الرَّحْمَـٰنِ الرَّحِيمِ الم ذَٰلِكَ الْكِتَابُ لَا رَيْبَ فِيهِ هُدًى لِّلْمُتَّقِينَ الَّذِينَ يُؤْمِنُونَ بِالْغَيْبِ وَيُقِيمُونَ الصَّلَاةَ وَمِمَّا رَزَقْنَاهُمْ يُنفِقُونَ وَالَّذِينَ يُؤْمِنُونَ بِمَا أُنزِلَ إِلَيْكَ وَمَا أُنزِلَ مِن قَبْلِكَ وَبِالْآخِرَةِ هُمْ يُوقِنُونَ أُولَـٰئِكَ عَلَىٰ هُدًى مِّن رَّبِّهِمْ وَأُولَـٰئِكَ هُمُ الْمُفْلِحُونَ إِنَّ الَّذِينَ كَفَرُوا سَوَاءٌ عَلَيْهِمْ أَأَنذَرْتَهُمْ أَمْ لَمْ تُنذِرْهُمْ لَا يُؤْمِنُونَ خَتَمَ اللَّهُ عَلَىٰ قُ...</td>\n",
       "    </tr>\n",
       "    <tr>\n",
       "      <th>2</th>\n",
       "      <td>3</td>\n",
       "      <td>بِسْمِ اللَّهِ الرَّحْمَـٰنِ الرَّحِيمِ الم اللَّهُ لَا إِلَـٰهَ إِلَّا هُوَ الْحَيُّ الْقَيُّومُ نَزَّلَ عَلَيْكَ الْكِتَابَ بِالْحَقِّ مُصَدِّقًا لِّمَا بَيْنَ يَدَيْهِ وَأَنزَلَ التَّوْرَاةَ وَالْإِنجِيلَ مِن قَبْلُ هُدًى لِّلنَّاسِ وَأَنزَلَ الْفُرْقَانَ إِنَّ الَّذِينَ كَفَرُوا بِآيَاتِ اللَّهِ لَهُمْ عَذَابٌ شَدِيدٌ وَاللَّهُ عَزِيزٌ ذُو انتِقَامٍ إِنَّ اللَّهَ لَا يَخْفَىٰ عَلَيْهِ شَيْءٌ فِي الْأَرْضِ وَلَا فِي السَّمَاءِ هُوَ الَّذِي يُصَوِّرُكُمْ فِي الْأَرْحَامِ كَيْفَ يَشَاءُ لَا...</td>\n",
       "    </tr>\n",
       "    <tr>\n",
       "      <th>3</th>\n",
       "      <td>4</td>\n",
       "      <td>بِسْمِ اللَّهِ الرَّحْمَـٰنِ الرَّحِيمِ يَا أَيُّهَا النَّاسُ اتَّقُوا رَبَّكُمُ الَّذِي خَلَقَكُم مِّن نَّفْسٍ وَاحِدَةٍ وَخَلَقَ مِنْهَا زَوْجَهَا وَبَثَّ مِنْهُمَا رِجَالًا كَثِيرًا وَنِسَاءً وَاتَّقُوا اللَّهَ الَّذِي تَسَاءَلُونَ بِهِ وَالْأَرْحَامَ إِنَّ اللَّهَ كَانَ عَلَيْكُمْ رَقِيبًا وَآتُوا الْيَتَامَىٰ أَمْوَالَهُمْ وَلَا تَتَبَدَّلُوا الْخَبِيثَ بِالطَّيِّبِ وَلَا تَأْكُلُوا أَمْوَالَهُمْ إِلَىٰ أَمْوَالِكُمْ إِنَّهُ كَانَ حُوبًا كَبِيرًا وَإِنْ خِفْتُمْ أَلَّا تُقْسِطُوا فِي ال...</td>\n",
       "    </tr>\n",
       "    <tr>\n",
       "      <th>4</th>\n",
       "      <td>5</td>\n",
       "      <td>بِسْمِ اللَّهِ الرَّحْمَـٰنِ الرَّحِيمِ يَا أَيُّهَا الَّذِينَ آمَنُوا أَوْفُوا بِالْعُقُودِ أُحِلَّتْ لَكُم بَهِيمَةُ الْأَنْعَامِ إِلَّا مَا يُتْلَىٰ عَلَيْكُمْ غَيْرَ مُحِلِّي الصَّيْدِ وَأَنتُمْ حُرُمٌ إِنَّ اللَّهَ يَحْكُمُ مَا يُرِيدُ يَا أَيُّهَا الَّذِينَ آمَنُوا لَا تُحِلُّوا شَعَائِرَ اللَّهِ وَلَا الشَّهْرَ الْحَرَامَ وَلَا الْهَدْيَ وَلَا الْقَلَائِدَ وَلَا آمِّينَ الْبَيْتَ الْحَرَامَ يَبْتَغُونَ فَضْلًا مِّن رَّبِّهِمْ وَرِضْوَانًا وَإِذَا حَلَلْتُمْ فَاصْطَادُوا وَلَا يَجْرِمَ...</td>\n",
       "    </tr>\n",
       "  </tbody>\n",
       "</table>\n",
       "</div>"
      ],
      "text/plain": [
       "   chapter  \\\n",
       "0        1   \n",
       "1        2   \n",
       "2        3   \n",
       "3        4   \n",
       "4        5   \n",
       "\n",
       "                                                                                                                                                                                                                                                                                                                                                                                                                                                                                                                  text  \n",
       "0                                                                                                                                                                                                                 بِسْمِ اللَّهِ الرَّحْمَـٰنِ الرَّحِيمِ الْحَمْدُ لِلَّهِ رَبِّ الْعَالَمِينَ الرَّحْمَـٰنِ الرَّحِيمِ مَالِكِ يَوْمِ الدِّينِ إِيَّاكَ نَعْبُدُ وَإِيَّاكَ نَسْتَعِينُ اهْدِنَا الصِّرَاطَ الْمُسْتَقِيمَ صِرَاطَ الَّذِينَ أَنْعَمْتَ عَلَيْهِمْ غَيْرِ الْمَغْضُوبِ عَلَيْهِمْ وَلَا الضَّالِّينَ  \n",
       "1  بِسْمِ اللَّهِ الرَّحْمَـٰنِ الرَّحِيمِ الم ذَٰلِكَ الْكِتَابُ لَا رَيْبَ فِيهِ هُدًى لِّلْمُتَّقِينَ الَّذِينَ يُؤْمِنُونَ بِالْغَيْبِ وَيُقِيمُونَ الصَّلَاةَ وَمِمَّا رَزَقْنَاهُمْ يُنفِقُونَ وَالَّذِينَ يُؤْمِنُونَ بِمَا أُنزِلَ إِلَيْكَ وَمَا أُنزِلَ مِن قَبْلِكَ وَبِالْآخِرَةِ هُمْ يُوقِنُونَ أُولَـٰئِكَ عَلَىٰ هُدًى مِّن رَّبِّهِمْ وَأُولَـٰئِكَ هُمُ الْمُفْلِحُونَ إِنَّ الَّذِينَ كَفَرُوا سَوَاءٌ عَلَيْهِمْ أَأَنذَرْتَهُمْ أَمْ لَمْ تُنذِرْهُمْ لَا يُؤْمِنُونَ خَتَمَ اللَّهُ عَلَىٰ قُ...  \n",
       "2  بِسْمِ اللَّهِ الرَّحْمَـٰنِ الرَّحِيمِ الم اللَّهُ لَا إِلَـٰهَ إِلَّا هُوَ الْحَيُّ الْقَيُّومُ نَزَّلَ عَلَيْكَ الْكِتَابَ بِالْحَقِّ مُصَدِّقًا لِّمَا بَيْنَ يَدَيْهِ وَأَنزَلَ التَّوْرَاةَ وَالْإِنجِيلَ مِن قَبْلُ هُدًى لِّلنَّاسِ وَأَنزَلَ الْفُرْقَانَ إِنَّ الَّذِينَ كَفَرُوا بِآيَاتِ اللَّهِ لَهُمْ عَذَابٌ شَدِيدٌ وَاللَّهُ عَزِيزٌ ذُو انتِقَامٍ إِنَّ اللَّهَ لَا يَخْفَىٰ عَلَيْهِ شَيْءٌ فِي الْأَرْضِ وَلَا فِي السَّمَاءِ هُوَ الَّذِي يُصَوِّرُكُمْ فِي الْأَرْحَامِ كَيْفَ يَشَاءُ لَا...  \n",
       "3  بِسْمِ اللَّهِ الرَّحْمَـٰنِ الرَّحِيمِ يَا أَيُّهَا النَّاسُ اتَّقُوا رَبَّكُمُ الَّذِي خَلَقَكُم مِّن نَّفْسٍ وَاحِدَةٍ وَخَلَقَ مِنْهَا زَوْجَهَا وَبَثَّ مِنْهُمَا رِجَالًا كَثِيرًا وَنِسَاءً وَاتَّقُوا اللَّهَ الَّذِي تَسَاءَلُونَ بِهِ وَالْأَرْحَامَ إِنَّ اللَّهَ كَانَ عَلَيْكُمْ رَقِيبًا وَآتُوا الْيَتَامَىٰ أَمْوَالَهُمْ وَلَا تَتَبَدَّلُوا الْخَبِيثَ بِالطَّيِّبِ وَلَا تَأْكُلُوا أَمْوَالَهُمْ إِلَىٰ أَمْوَالِكُمْ إِنَّهُ كَانَ حُوبًا كَبِيرًا وَإِنْ خِفْتُمْ أَلَّا تُقْسِطُوا فِي ال...  \n",
       "4  بِسْمِ اللَّهِ الرَّحْمَـٰنِ الرَّحِيمِ يَا أَيُّهَا الَّذِينَ آمَنُوا أَوْفُوا بِالْعُقُودِ أُحِلَّتْ لَكُم بَهِيمَةُ الْأَنْعَامِ إِلَّا مَا يُتْلَىٰ عَلَيْكُمْ غَيْرَ مُحِلِّي الصَّيْدِ وَأَنتُمْ حُرُمٌ إِنَّ اللَّهَ يَحْكُمُ مَا يُرِيدُ يَا أَيُّهَا الَّذِينَ آمَنُوا لَا تُحِلُّوا شَعَائِرَ اللَّهِ وَلَا الشَّهْرَ الْحَرَامَ وَلَا الْهَدْيَ وَلَا الْقَلَائِدَ وَلَا آمِّينَ الْبَيْتَ الْحَرَامَ يَبْتَغُونَ فَضْلًا مِّن رَّبِّهِمْ وَرِضْوَانًا وَإِذَا حَلَلْتُمْ فَاصْطَادُوا وَلَا يَجْرِمَ...  "
      ]
     },
     "execution_count": 31,
     "metadata": {},
     "output_type": "execute_result"
    }
   ],
   "source": [
    "simple_df = pd.read_csv('data/quran-simple.txt', delimiter='|')\n",
    "simple_chapter_df = simple_df.groupby('chapter')['text'].apply(' '.join).reset_index()\n",
    "simple_chapter_df.head()"
   ]
  },
  {
   "cell_type": "code",
   "execution_count": 32,
   "metadata": {
    "pycharm": {
     "name": "#%%\n"
    }
   },
   "outputs": [
    {
     "data": {
      "text/html": [
       "<div>\n",
       "<style scoped>\n",
       "    .dataframe tbody tr th:only-of-type {\n",
       "        vertical-align: middle;\n",
       "    }\n",
       "\n",
       "    .dataframe tbody tr th {\n",
       "        vertical-align: top;\n",
       "    }\n",
       "\n",
       "    .dataframe thead th {\n",
       "        text-align: right;\n",
       "    }\n",
       "</style>\n",
       "<table border=\"1\" class=\"dataframe\">\n",
       "  <thead>\n",
       "    <tr style=\"text-align: right;\">\n",
       "      <th></th>\n",
       "      <th>chapter</th>\n",
       "      <th>content</th>\n",
       "      <th>embedding</th>\n",
       "      <th>cluster</th>\n",
       "      <th>projected_embedding</th>\n",
       "      <th>text</th>\n",
       "    </tr>\n",
       "  </thead>\n",
       "  <tbody>\n",
       "    <tr>\n",
       "      <th>0</th>\n",
       "      <td>1</td>\n",
       "      <td>[سم, الله, رحمان, رحيم, حمد, له, رب, عالمين, رحمان, رحيم, مالك, يوم, دين, اياك, نعبد, اياك, نستعين, اهد, صراط, مستقيم, صراط, الذين, انعم, علي, غير, مغضوب, علي, لا, ضالين]</td>\n",
       "      <td>[0.5425285, -0.13494344, -0.28725043, 0.72397983, -0.06351497, -1.0107628, 0.7122974]</td>\n",
       "      <td>1</td>\n",
       "      <td>[-6.9773359298706055, -0.6149534583091736]</td>\n",
       "      <td>بِسْمِ اللَّهِ الرَّحْمَـٰنِ الرَّحِيمِ الْحَمْدُ لِلَّهِ رَبِّ الْعَالَمِينَ الرَّحْمَـٰنِ الرَّحِيمِ مَالِكِ يَوْمِ الدِّينِ إِيَّاكَ نَعْبُدُ وَإِيَّاكَ نَسْتَعِينُ اهْدِنَا الصِّرَاطَ الْمُسْتَقِيمَ صِرَاطَ الَّذِينَ أَنْعَمْتَ عَلَيْهِمْ غَيْرِ الْمَغْضُوبِ عَلَيْهِمْ وَلَا الضَّالِّينَ</td>\n",
       "    </tr>\n",
       "    <tr>\n",
       "      <th>1</th>\n",
       "      <td>2</td>\n",
       "      <td>[الم, ذالك, كتاب, لا, ريب, في, هدى, متقين, الذين, يومن, غيب, يقيم, صلواة, م, ما, رزق, ينفق, الذين, يومن, ما, انزل, الي, ما, انزل, من, قبل, ءاخرة, هم, يوقن, او۟لايك, علىا, هدى, من, رب, او۟لايك, هم, مفلحون, ان, الذين, كفر, سواء, علي, انذر, ام, لم, تنذر, لا, يومن, ختم, الله, علىا, قلوب, علىا, سمع, علىا, ابصار, غشاوة, هم, عذاب, عظيم, من, ناس, من, يقول, ءام, الله, يوم, ءاخر, ما, هم, مومنين, يخادع, الله, الذين, ءامن, ما, يخدع, الا, انفس, ما, يشعر, فى, قلوب, مرض, زاد, الله, مرضا, هم, عذاب, اليمۢ, م...</td>\n",
       "      <td>[0.4927549, -0.16703272, -0.41970292, 0.8598129, 0.15568848, -0.46054664, 0.67191744]</td>\n",
       "      <td>0</td>\n",
       "      <td>[-4.326164245605469, 3.917346239089966]</td>\n",
       "      <td>بِسْمِ اللَّهِ الرَّحْمَـٰنِ الرَّحِيمِ الم ذَٰلِكَ الْكِتَابُ لَا رَيْبَ فِيهِ هُدًى لِّلْمُتَّقِينَ الَّذِينَ يُؤْمِنُونَ بِالْغَيْبِ وَيُقِيمُونَ الصَّلَاةَ وَمِمَّا رَزَقْنَاهُمْ يُنفِقُونَ وَالَّذِينَ يُؤْمِنُونَ بِمَا أُنزِلَ إِلَيْكَ وَمَا أُنزِلَ مِن قَبْلِكَ وَبِالْآخِرَةِ هُمْ يُوقِنُونَ أُولَـٰئِكَ عَلَىٰ هُدًى مِّن رَّبِّهِمْ وَأُولَـٰئِكَ هُمُ الْمُفْلِحُونَ إِنَّ الَّذِينَ كَفَرُوا سَوَاءٌ عَلَيْهِمْ أَأَنذَرْتَهُمْ أَمْ لَمْ تُنذِرْهُمْ لَا يُؤْمِنُونَ خَتَمَ اللَّهُ عَلَىٰ قُ...</td>\n",
       "    </tr>\n",
       "    <tr>\n",
       "      <th>2</th>\n",
       "      <td>3</td>\n",
       "      <td>[الم, الله, لا, الاه, الا, هو, حى, قيوم, نزل, علي, كتاب, حق, مصدقا, ما, بين, يدي, انزل, تورىاة, انجيل, من, قبل, هدى, ناس, انزل, فرقان, ان, الذين, كفر, ـايات, الله, هم, عذاب, شديد, الله, عزيز, ذو, انتقام, ان, الله, لا, يخفىا, علي, شىء, فى, ارض, لا, فى, سماء, هو, الذى, يصور, فى, ارحام, كيف, يشاء, لا, الاه, الا, هو, عزيز, حكيم, هو, الذى, انزل, علي, كتاب, من, ءايات, محكمات, هن, ام, كتاب, اخر, متشابهات, اما, الذين, فى, قلوب, زيغ, يتبع, ما, تشابه, من, ابتغاء, فتنة, ابتغاء, تاويل, ما, يعلم, تاويل, ...</td>\n",
       "      <td>[0.5474993, -0.26122734, -0.40153262, 0.87964803, 0.056816604, -0.42270672, 0.66017026]</td>\n",
       "      <td>0</td>\n",
       "      <td>[-4.0135955810546875, 3.974799156188965]</td>\n",
       "      <td>بِسْمِ اللَّهِ الرَّحْمَـٰنِ الرَّحِيمِ الم اللَّهُ لَا إِلَـٰهَ إِلَّا هُوَ الْحَيُّ الْقَيُّومُ نَزَّلَ عَلَيْكَ الْكِتَابَ بِالْحَقِّ مُصَدِّقًا لِّمَا بَيْنَ يَدَيْهِ وَأَنزَلَ التَّوْرَاةَ وَالْإِنجِيلَ مِن قَبْلُ هُدًى لِّلنَّاسِ وَأَنزَلَ الْفُرْقَانَ إِنَّ الَّذِينَ كَفَرُوا بِآيَاتِ اللَّهِ لَهُمْ عَذَابٌ شَدِيدٌ وَاللَّهُ عَزِيزٌ ذُو انتِقَامٍ إِنَّ اللَّهَ لَا يَخْفَىٰ عَلَيْهِ شَيْءٌ فِي الْأَرْضِ وَلَا فِي السَّمَاءِ هُوَ الَّذِي يُصَوِّرُكُمْ فِي الْأَرْحَامِ كَيْفَ يَشَاءُ لَا...</td>\n",
       "    </tr>\n",
       "    <tr>\n",
       "      <th>3</th>\n",
       "      <td>4</td>\n",
       "      <td>[ايها, ناس, اتق, رب, الذى, خلق, من, نفس, واحدة, خلق, من, زوج, بث, من, رجالا, كثيرا, نساء, اتق, الله, الذى, تساءل, هۦ, ارحام, ان, الله, كان, علي, رقيبا, ءات, يتامىا, اموال, لا, تتبدل, خبيث, طيب, لا, تاكل, اموال, الىا, اموال, ان, كان, حوبا, كبيرا, ان, خف, ا, لا, تقسط, فى, يتامىا, انكح, ما, طاب, كم, من, نساء, مثنىا, ثلاث, رباع, ان, خف, ا, لا, تعدل, واحدة, او, ما, ملكت, ايمان, ذالك, ادنىا, ا, لا, تعول, ءات, نساء, صدقات, نحلة, ان, طب, كم, عن, شىء, من, نفسا, كل, هنيـا, مريـا, لا, توت, سفهاء, اموال...</td>\n",
       "      <td>[0.4045318, -0.20670432, -0.37987158, 0.9627613, 0.23366275, -0.34808078, 0.7029082]</td>\n",
       "      <td>0</td>\n",
       "      <td>[-5.029392242431641, 4.7908453941345215]</td>\n",
       "      <td>بِسْمِ اللَّهِ الرَّحْمَـٰنِ الرَّحِيمِ يَا أَيُّهَا النَّاسُ اتَّقُوا رَبَّكُمُ الَّذِي خَلَقَكُم مِّن نَّفْسٍ وَاحِدَةٍ وَخَلَقَ مِنْهَا زَوْجَهَا وَبَثَّ مِنْهُمَا رِجَالًا كَثِيرًا وَنِسَاءً وَاتَّقُوا اللَّهَ الَّذِي تَسَاءَلُونَ بِهِ وَالْأَرْحَامَ إِنَّ اللَّهَ كَانَ عَلَيْكُمْ رَقِيبًا وَآتُوا الْيَتَامَىٰ أَمْوَالَهُمْ وَلَا تَتَبَدَّلُوا الْخَبِيثَ بِالطَّيِّبِ وَلَا تَأْكُلُوا أَمْوَالَهُمْ إِلَىٰ أَمْوَالِكُمْ إِنَّهُ كَانَ حُوبًا كَبِيرًا وَإِنْ خِفْتُمْ أَلَّا تُقْسِطُوا فِي ال...</td>\n",
       "    </tr>\n",
       "    <tr>\n",
       "      <th>4</th>\n",
       "      <td>5</td>\n",
       "      <td>[ايها, الذين, ءامن, اوف, عقود, احلت, كم, بهيمة, انعام, الا, ما, يتلىا, علي, غير, محلى, صيد, انتم, حرم, ان, الله, يحكم, ما, يريد, ايها, الذين, ءامن, لا, تحل, شعاير, الله, لا, شهر, حرام, لا, هدى, لا, قلايد, لا, ءامين, بيت, حرام, يبتغ, فضلا, من, رب, رضوانا, اذا, حلل, اصطاد, لا, يجرم, شنـان, قوم, ان, صد, عن, مسجد, حرام, ان, تعتد, تعاون, على, بر, تقوىا, لا, تعاون, على, اثم, عدوان, اتق, الله, ان, الله, شديد, عقاب, حرمت, علي, ميتة, دم, لحم, خنزير, ما, اهل, غير, الله, هۦ, منخنقة, موقوذة, متردية, نطي...</td>\n",
       "      <td>[0.5721107, -0.27762634, -0.35565338, 0.8727915, 0.18216681, -0.41313905, 0.655421]</td>\n",
       "      <td>0</td>\n",
       "      <td>[-4.380289077758789, 4.550591468811035]</td>\n",
       "      <td>بِسْمِ اللَّهِ الرَّحْمَـٰنِ الرَّحِيمِ يَا أَيُّهَا الَّذِينَ آمَنُوا أَوْفُوا بِالْعُقُودِ أُحِلَّتْ لَكُم بَهِيمَةُ الْأَنْعَامِ إِلَّا مَا يُتْلَىٰ عَلَيْكُمْ غَيْرَ مُحِلِّي الصَّيْدِ وَأَنتُمْ حُرُمٌ إِنَّ اللَّهَ يَحْكُمُ مَا يُرِيدُ يَا أَيُّهَا الَّذِينَ آمَنُوا لَا تُحِلُّوا شَعَائِرَ اللَّهِ وَلَا الشَّهْرَ الْحَرَامَ وَلَا الْهَدْيَ وَلَا الْقَلَائِدَ وَلَا آمِّينَ الْبَيْتَ الْحَرَامَ يَبْتَغُونَ فَضْلًا مِّن رَّبِّهِمْ وَرِضْوَانًا وَإِذَا حَلَلْتُمْ فَاصْطَادُوا وَلَا يَجْرِمَ...</td>\n",
       "    </tr>\n",
       "  </tbody>\n",
       "</table>\n",
       "</div>"
      ],
      "text/plain": [
       "   chapter  \\\n",
       "0        1   \n",
       "1        2   \n",
       "2        3   \n",
       "3        4   \n",
       "4        5   \n",
       "\n",
       "                                                                                                                                                                                                                                                                                                                                                                                                                                                                                                               content  \\\n",
       "0                                                                                                                                                                                                                                                                                                                                           [سم, الله, رحمان, رحيم, حمد, له, رب, عالمين, رحمان, رحيم, مالك, يوم, دين, اياك, نعبد, اياك, نستعين, اهد, صراط, مستقيم, صراط, الذين, انعم, علي, غير, مغضوب, علي, لا, ضالين]   \n",
       "1  [الم, ذالك, كتاب, لا, ريب, في, هدى, متقين, الذين, يومن, غيب, يقيم, صلواة, م, ما, رزق, ينفق, الذين, يومن, ما, انزل, الي, ما, انزل, من, قبل, ءاخرة, هم, يوقن, او۟لايك, علىا, هدى, من, رب, او۟لايك, هم, مفلحون, ان, الذين, كفر, سواء, علي, انذر, ام, لم, تنذر, لا, يومن, ختم, الله, علىا, قلوب, علىا, سمع, علىا, ابصار, غشاوة, هم, عذاب, عظيم, من, ناس, من, يقول, ءام, الله, يوم, ءاخر, ما, هم, مومنين, يخادع, الله, الذين, ءامن, ما, يخدع, الا, انفس, ما, يشعر, فى, قلوب, مرض, زاد, الله, مرضا, هم, عذاب, اليمۢ, م...   \n",
       "2  [الم, الله, لا, الاه, الا, هو, حى, قيوم, نزل, علي, كتاب, حق, مصدقا, ما, بين, يدي, انزل, تورىاة, انجيل, من, قبل, هدى, ناس, انزل, فرقان, ان, الذين, كفر, ـايات, الله, هم, عذاب, شديد, الله, عزيز, ذو, انتقام, ان, الله, لا, يخفىا, علي, شىء, فى, ارض, لا, فى, سماء, هو, الذى, يصور, فى, ارحام, كيف, يشاء, لا, الاه, الا, هو, عزيز, حكيم, هو, الذى, انزل, علي, كتاب, من, ءايات, محكمات, هن, ام, كتاب, اخر, متشابهات, اما, الذين, فى, قلوب, زيغ, يتبع, ما, تشابه, من, ابتغاء, فتنة, ابتغاء, تاويل, ما, يعلم, تاويل, ...   \n",
       "3  [ايها, ناس, اتق, رب, الذى, خلق, من, نفس, واحدة, خلق, من, زوج, بث, من, رجالا, كثيرا, نساء, اتق, الله, الذى, تساءل, هۦ, ارحام, ان, الله, كان, علي, رقيبا, ءات, يتامىا, اموال, لا, تتبدل, خبيث, طيب, لا, تاكل, اموال, الىا, اموال, ان, كان, حوبا, كبيرا, ان, خف, ا, لا, تقسط, فى, يتامىا, انكح, ما, طاب, كم, من, نساء, مثنىا, ثلاث, رباع, ان, خف, ا, لا, تعدل, واحدة, او, ما, ملكت, ايمان, ذالك, ادنىا, ا, لا, تعول, ءات, نساء, صدقات, نحلة, ان, طب, كم, عن, شىء, من, نفسا, كل, هنيـا, مريـا, لا, توت, سفهاء, اموال...   \n",
       "4  [ايها, الذين, ءامن, اوف, عقود, احلت, كم, بهيمة, انعام, الا, ما, يتلىا, علي, غير, محلى, صيد, انتم, حرم, ان, الله, يحكم, ما, يريد, ايها, الذين, ءامن, لا, تحل, شعاير, الله, لا, شهر, حرام, لا, هدى, لا, قلايد, لا, ءامين, بيت, حرام, يبتغ, فضلا, من, رب, رضوانا, اذا, حلل, اصطاد, لا, يجرم, شنـان, قوم, ان, صد, عن, مسجد, حرام, ان, تعتد, تعاون, على, بر, تقوىا, لا, تعاون, على, اثم, عدوان, اتق, الله, ان, الله, شديد, عقاب, حرمت, علي, ميتة, دم, لحم, خنزير, ما, اهل, غير, الله, هۦ, منخنقة, موقوذة, متردية, نطي...   \n",
       "\n",
       "                                                                                 embedding  \\\n",
       "0    [0.5425285, -0.13494344, -0.28725043, 0.72397983, -0.06351497, -1.0107628, 0.7122974]   \n",
       "1    [0.4927549, -0.16703272, -0.41970292, 0.8598129, 0.15568848, -0.46054664, 0.67191744]   \n",
       "2  [0.5474993, -0.26122734, -0.40153262, 0.87964803, 0.056816604, -0.42270672, 0.66017026]   \n",
       "3     [0.4045318, -0.20670432, -0.37987158, 0.9627613, 0.23366275, -0.34808078, 0.7029082]   \n",
       "4      [0.5721107, -0.27762634, -0.35565338, 0.8727915, 0.18216681, -0.41313905, 0.655421]   \n",
       "\n",
       "   cluster                         projected_embedding  \\\n",
       "0        1  [-6.9773359298706055, -0.6149534583091736]   \n",
       "1        0     [-4.326164245605469, 3.917346239089966]   \n",
       "2        0    [-4.0135955810546875, 3.974799156188965]   \n",
       "3        0    [-5.029392242431641, 4.7908453941345215]   \n",
       "4        0     [-4.380289077758789, 4.550591468811035]   \n",
       "\n",
       "                                                                                                                                                                                                                                                                                                                                                                                                                                                                                                                  text  \n",
       "0                                                                                                                                                                                                                 بِسْمِ اللَّهِ الرَّحْمَـٰنِ الرَّحِيمِ الْحَمْدُ لِلَّهِ رَبِّ الْعَالَمِينَ الرَّحْمَـٰنِ الرَّحِيمِ مَالِكِ يَوْمِ الدِّينِ إِيَّاكَ نَعْبُدُ وَإِيَّاكَ نَسْتَعِينُ اهْدِنَا الصِّرَاطَ الْمُسْتَقِيمَ صِرَاطَ الَّذِينَ أَنْعَمْتَ عَلَيْهِمْ غَيْرِ الْمَغْضُوبِ عَلَيْهِمْ وَلَا الضَّالِّينَ  \n",
       "1  بِسْمِ اللَّهِ الرَّحْمَـٰنِ الرَّحِيمِ الم ذَٰلِكَ الْكِتَابُ لَا رَيْبَ فِيهِ هُدًى لِّلْمُتَّقِينَ الَّذِينَ يُؤْمِنُونَ بِالْغَيْبِ وَيُقِيمُونَ الصَّلَاةَ وَمِمَّا رَزَقْنَاهُمْ يُنفِقُونَ وَالَّذِينَ يُؤْمِنُونَ بِمَا أُنزِلَ إِلَيْكَ وَمَا أُنزِلَ مِن قَبْلِكَ وَبِالْآخِرَةِ هُمْ يُوقِنُونَ أُولَـٰئِكَ عَلَىٰ هُدًى مِّن رَّبِّهِمْ وَأُولَـٰئِكَ هُمُ الْمُفْلِحُونَ إِنَّ الَّذِينَ كَفَرُوا سَوَاءٌ عَلَيْهِمْ أَأَنذَرْتَهُمْ أَمْ لَمْ تُنذِرْهُمْ لَا يُؤْمِنُونَ خَتَمَ اللَّهُ عَلَىٰ قُ...  \n",
       "2  بِسْمِ اللَّهِ الرَّحْمَـٰنِ الرَّحِيمِ الم اللَّهُ لَا إِلَـٰهَ إِلَّا هُوَ الْحَيُّ الْقَيُّومُ نَزَّلَ عَلَيْكَ الْكِتَابَ بِالْحَقِّ مُصَدِّقًا لِّمَا بَيْنَ يَدَيْهِ وَأَنزَلَ التَّوْرَاةَ وَالْإِنجِيلَ مِن قَبْلُ هُدًى لِّلنَّاسِ وَأَنزَلَ الْفُرْقَانَ إِنَّ الَّذِينَ كَفَرُوا بِآيَاتِ اللَّهِ لَهُمْ عَذَابٌ شَدِيدٌ وَاللَّهُ عَزِيزٌ ذُو انتِقَامٍ إِنَّ اللَّهَ لَا يَخْفَىٰ عَلَيْهِ شَيْءٌ فِي الْأَرْضِ وَلَا فِي السَّمَاءِ هُوَ الَّذِي يُصَوِّرُكُمْ فِي الْأَرْحَامِ كَيْفَ يَشَاءُ لَا...  \n",
       "3  بِسْمِ اللَّهِ الرَّحْمَـٰنِ الرَّحِيمِ يَا أَيُّهَا النَّاسُ اتَّقُوا رَبَّكُمُ الَّذِي خَلَقَكُم مِّن نَّفْسٍ وَاحِدَةٍ وَخَلَقَ مِنْهَا زَوْجَهَا وَبَثَّ مِنْهُمَا رِجَالًا كَثِيرًا وَنِسَاءً وَاتَّقُوا اللَّهَ الَّذِي تَسَاءَلُونَ بِهِ وَالْأَرْحَامَ إِنَّ اللَّهَ كَانَ عَلَيْكُمْ رَقِيبًا وَآتُوا الْيَتَامَىٰ أَمْوَالَهُمْ وَلَا تَتَبَدَّلُوا الْخَبِيثَ بِالطَّيِّبِ وَلَا تَأْكُلُوا أَمْوَالَهُمْ إِلَىٰ أَمْوَالِكُمْ إِنَّهُ كَانَ حُوبًا كَبِيرًا وَإِنْ خِفْتُمْ أَلَّا تُقْسِطُوا فِي ال...  \n",
       "4  بِسْمِ اللَّهِ الرَّحْمَـٰنِ الرَّحِيمِ يَا أَيُّهَا الَّذِينَ آمَنُوا أَوْفُوا بِالْعُقُودِ أُحِلَّتْ لَكُم بَهِيمَةُ الْأَنْعَامِ إِلَّا مَا يُتْلَىٰ عَلَيْكُمْ غَيْرَ مُحِلِّي الصَّيْدِ وَأَنتُمْ حُرُمٌ إِنَّ اللَّهَ يَحْكُمُ مَا يُرِيدُ يَا أَيُّهَا الَّذِينَ آمَنُوا لَا تُحِلُّوا شَعَائِرَ اللَّهِ وَلَا الشَّهْرَ الْحَرَامَ وَلَا الْهَدْيَ وَلَا الْقَلَائِدَ وَلَا آمِّينَ الْبَيْتَ الْحَرَامَ يَبْتَغُونَ فَضْلًا مِّن رَّبِّهِمْ وَرِضْوَانًا وَإِذَا حَلَلْتُمْ فَاصْطَادُوا وَلَا يَجْرِمَ...  "
      ]
     },
     "execution_count": 32,
     "metadata": {},
     "output_type": "execute_result"
    }
   ],
   "source": [
    "final_df = pd.merge(chapter_df, simple_chapter_df)\n",
    "final_df.head()"
   ]
  },
  {
   "cell_type": "code",
   "execution_count": 33,
   "metadata": {
    "pycharm": {
     "name": "#%%\n"
    }
   },
   "outputs": [],
   "source": [
    "clusters = []\n",
    "for i in range(2):\n",
    "    c_df = final_df[final_df.cluster==i]\n",
    "    clusters.append(c_df)\n",
    "    c_df[['chapter', 'text']].to_csv(f'chapter_clusters/cluster_{i}.csv', index=False)"
   ]
  },
  {
   "cell_type": "markdown",
   "metadata": {
    "pycharm": {
     "name": "#%% md\n"
    }
   },
   "source": [
    "<div dir=\"rtl\">\n",
    "<span style=\"color:red\"><h2>ارزیابی خوشه بندی</h2></span>\n",
    "در ادامه برای ارزیابی خوشه بندی میتوانیم از لیبل استفاده کنیم. برای بدست اوردن اینکه هر سوره مکی است یا مدنی میتوانیم جدول موجود در \n",
    "<a href=\"https://www.prayertimenyc.com/number-makki-madani-surah-in-quran/\"> این </a>\n",
    "را استخراج و پردازش کنیم.\n",
    "\n",
    "همچنین معیارهای\n",
    "RSS\n",
    "و \n",
    "silhouette score\n",
    "را گزارش میکنیم.\n",
    "</div>"
   ]
  },
  {
   "cell_type": "code",
   "execution_count": 34,
   "metadata": {
    "pycharm": {
     "name": "#%%\n"
    }
   },
   "outputs": [],
   "source": [
    "url = 'https://www.prayertimenyc.com/number-makki-madani-surah-in-quran/'\n",
    "html = requests.get(url).content\n",
    "df_list = pd.read_html(html)"
   ]
  },
  {
   "cell_type": "code",
   "execution_count": 35,
   "metadata": {
    "pycharm": {
     "name": "#%%\n"
    }
   },
   "outputs": [
    {
     "data": {
      "text/html": [
       "<div>\n",
       "<style scoped>\n",
       "    .dataframe tbody tr th:only-of-type {\n",
       "        vertical-align: middle;\n",
       "    }\n",
       "\n",
       "    .dataframe tbody tr th {\n",
       "        vertical-align: top;\n",
       "    }\n",
       "\n",
       "    .dataframe thead th {\n",
       "        text-align: right;\n",
       "    }\n",
       "</style>\n",
       "<table border=\"1\" class=\"dataframe\">\n",
       "  <thead>\n",
       "    <tr style=\"text-align: right;\">\n",
       "      <th></th>\n",
       "      <th>chapter</th>\n",
       "      <th>content</th>\n",
       "      <th>embedding</th>\n",
       "      <th>cluster</th>\n",
       "      <th>projected_embedding</th>\n",
       "      <th>text</th>\n",
       "      <th>label</th>\n",
       "    </tr>\n",
       "  </thead>\n",
       "  <tbody>\n",
       "    <tr>\n",
       "      <th>0</th>\n",
       "      <td>1</td>\n",
       "      <td>[سم, الله, رحمان, رحيم, حمد, له, رب, عالمين, رحمان, رحيم, مالك, يوم, دين, اياك, نعبد, اياك, نستعين, اهد, صراط, مستقيم, صراط, الذين, انعم, علي, غير, مغضوب, علي, لا, ضالين]</td>\n",
       "      <td>[0.5425285, -0.13494344, -0.28725043, 0.72397983, -0.06351497, -1.0107628, 0.7122974]</td>\n",
       "      <td>1</td>\n",
       "      <td>[-6.9773359298706055, -0.6149534583091736]</td>\n",
       "      <td>بِسْمِ اللَّهِ الرَّحْمَـٰنِ الرَّحِيمِ الْحَمْدُ لِلَّهِ رَبِّ الْعَالَمِينَ الرَّحْمَـٰنِ الرَّحِيمِ مَالِكِ يَوْمِ الدِّينِ إِيَّاكَ نَعْبُدُ وَإِيَّاكَ نَسْتَعِينُ اهْدِنَا الصِّرَاطَ الْمُسْتَقِيمَ صِرَاطَ الَّذِينَ أَنْعَمْتَ عَلَيْهِمْ غَيْرِ الْمَغْضُوبِ عَلَيْهِمْ وَلَا الضَّالِّينَ</td>\n",
       "      <td>Makki</td>\n",
       "    </tr>\n",
       "    <tr>\n",
       "      <th>1</th>\n",
       "      <td>2</td>\n",
       "      <td>[الم, ذالك, كتاب, لا, ريب, في, هدى, متقين, الذين, يومن, غيب, يقيم, صلواة, م, ما, رزق, ينفق, الذين, يومن, ما, انزل, الي, ما, انزل, من, قبل, ءاخرة, هم, يوقن, او۟لايك, علىا, هدى, من, رب, او۟لايك, هم, مفلحون, ان, الذين, كفر, سواء, علي, انذر, ام, لم, تنذر, لا, يومن, ختم, الله, علىا, قلوب, علىا, سمع, علىا, ابصار, غشاوة, هم, عذاب, عظيم, من, ناس, من, يقول, ءام, الله, يوم, ءاخر, ما, هم, مومنين, يخادع, الله, الذين, ءامن, ما, يخدع, الا, انفس, ما, يشعر, فى, قلوب, مرض, زاد, الله, مرضا, هم, عذاب, اليمۢ, م...</td>\n",
       "      <td>[0.4927549, -0.16703272, -0.41970292, 0.8598129, 0.15568848, -0.46054664, 0.67191744]</td>\n",
       "      <td>0</td>\n",
       "      <td>[-4.326164245605469, 3.917346239089966]</td>\n",
       "      <td>بِسْمِ اللَّهِ الرَّحْمَـٰنِ الرَّحِيمِ الم ذَٰلِكَ الْكِتَابُ لَا رَيْبَ فِيهِ هُدًى لِّلْمُتَّقِينَ الَّذِينَ يُؤْمِنُونَ بِالْغَيْبِ وَيُقِيمُونَ الصَّلَاةَ وَمِمَّا رَزَقْنَاهُمْ يُنفِقُونَ وَالَّذِينَ يُؤْمِنُونَ بِمَا أُنزِلَ إِلَيْكَ وَمَا أُنزِلَ مِن قَبْلِكَ وَبِالْآخِرَةِ هُمْ يُوقِنُونَ أُولَـٰئِكَ عَلَىٰ هُدًى مِّن رَّبِّهِمْ وَأُولَـٰئِكَ هُمُ الْمُفْلِحُونَ إِنَّ الَّذِينَ كَفَرُوا سَوَاءٌ عَلَيْهِمْ أَأَنذَرْتَهُمْ أَمْ لَمْ تُنذِرْهُمْ لَا يُؤْمِنُونَ خَتَمَ اللَّهُ عَلَىٰ قُ...</td>\n",
       "      <td>Madni</td>\n",
       "    </tr>\n",
       "    <tr>\n",
       "      <th>2</th>\n",
       "      <td>3</td>\n",
       "      <td>[الم, الله, لا, الاه, الا, هو, حى, قيوم, نزل, علي, كتاب, حق, مصدقا, ما, بين, يدي, انزل, تورىاة, انجيل, من, قبل, هدى, ناس, انزل, فرقان, ان, الذين, كفر, ـايات, الله, هم, عذاب, شديد, الله, عزيز, ذو, انتقام, ان, الله, لا, يخفىا, علي, شىء, فى, ارض, لا, فى, سماء, هو, الذى, يصور, فى, ارحام, كيف, يشاء, لا, الاه, الا, هو, عزيز, حكيم, هو, الذى, انزل, علي, كتاب, من, ءايات, محكمات, هن, ام, كتاب, اخر, متشابهات, اما, الذين, فى, قلوب, زيغ, يتبع, ما, تشابه, من, ابتغاء, فتنة, ابتغاء, تاويل, ما, يعلم, تاويل, ...</td>\n",
       "      <td>[0.5474993, -0.26122734, -0.40153262, 0.87964803, 0.056816604, -0.42270672, 0.66017026]</td>\n",
       "      <td>0</td>\n",
       "      <td>[-4.0135955810546875, 3.974799156188965]</td>\n",
       "      <td>بِسْمِ اللَّهِ الرَّحْمَـٰنِ الرَّحِيمِ الم اللَّهُ لَا إِلَـٰهَ إِلَّا هُوَ الْحَيُّ الْقَيُّومُ نَزَّلَ عَلَيْكَ الْكِتَابَ بِالْحَقِّ مُصَدِّقًا لِّمَا بَيْنَ يَدَيْهِ وَأَنزَلَ التَّوْرَاةَ وَالْإِنجِيلَ مِن قَبْلُ هُدًى لِّلنَّاسِ وَأَنزَلَ الْفُرْقَانَ إِنَّ الَّذِينَ كَفَرُوا بِآيَاتِ اللَّهِ لَهُمْ عَذَابٌ شَدِيدٌ وَاللَّهُ عَزِيزٌ ذُو انتِقَامٍ إِنَّ اللَّهَ لَا يَخْفَىٰ عَلَيْهِ شَيْءٌ فِي الْأَرْضِ وَلَا فِي السَّمَاءِ هُوَ الَّذِي يُصَوِّرُكُمْ فِي الْأَرْحَامِ كَيْفَ يَشَاءُ لَا...</td>\n",
       "      <td>Madni</td>\n",
       "    </tr>\n",
       "    <tr>\n",
       "      <th>3</th>\n",
       "      <td>4</td>\n",
       "      <td>[ايها, ناس, اتق, رب, الذى, خلق, من, نفس, واحدة, خلق, من, زوج, بث, من, رجالا, كثيرا, نساء, اتق, الله, الذى, تساءل, هۦ, ارحام, ان, الله, كان, علي, رقيبا, ءات, يتامىا, اموال, لا, تتبدل, خبيث, طيب, لا, تاكل, اموال, الىا, اموال, ان, كان, حوبا, كبيرا, ان, خف, ا, لا, تقسط, فى, يتامىا, انكح, ما, طاب, كم, من, نساء, مثنىا, ثلاث, رباع, ان, خف, ا, لا, تعدل, واحدة, او, ما, ملكت, ايمان, ذالك, ادنىا, ا, لا, تعول, ءات, نساء, صدقات, نحلة, ان, طب, كم, عن, شىء, من, نفسا, كل, هنيـا, مريـا, لا, توت, سفهاء, اموال...</td>\n",
       "      <td>[0.4045318, -0.20670432, -0.37987158, 0.9627613, 0.23366275, -0.34808078, 0.7029082]</td>\n",
       "      <td>0</td>\n",
       "      <td>[-5.029392242431641, 4.7908453941345215]</td>\n",
       "      <td>بِسْمِ اللَّهِ الرَّحْمَـٰنِ الرَّحِيمِ يَا أَيُّهَا النَّاسُ اتَّقُوا رَبَّكُمُ الَّذِي خَلَقَكُم مِّن نَّفْسٍ وَاحِدَةٍ وَخَلَقَ مِنْهَا زَوْجَهَا وَبَثَّ مِنْهُمَا رِجَالًا كَثِيرًا وَنِسَاءً وَاتَّقُوا اللَّهَ الَّذِي تَسَاءَلُونَ بِهِ وَالْأَرْحَامَ إِنَّ اللَّهَ كَانَ عَلَيْكُمْ رَقِيبًا وَآتُوا الْيَتَامَىٰ أَمْوَالَهُمْ وَلَا تَتَبَدَّلُوا الْخَبِيثَ بِالطَّيِّبِ وَلَا تَأْكُلُوا أَمْوَالَهُمْ إِلَىٰ أَمْوَالِكُمْ إِنَّهُ كَانَ حُوبًا كَبِيرًا وَإِنْ خِفْتُمْ أَلَّا تُقْسِطُوا فِي ال...</td>\n",
       "      <td>Madni</td>\n",
       "    </tr>\n",
       "    <tr>\n",
       "      <th>4</th>\n",
       "      <td>5</td>\n",
       "      <td>[ايها, الذين, ءامن, اوف, عقود, احلت, كم, بهيمة, انعام, الا, ما, يتلىا, علي, غير, محلى, صيد, انتم, حرم, ان, الله, يحكم, ما, يريد, ايها, الذين, ءامن, لا, تحل, شعاير, الله, لا, شهر, حرام, لا, هدى, لا, قلايد, لا, ءامين, بيت, حرام, يبتغ, فضلا, من, رب, رضوانا, اذا, حلل, اصطاد, لا, يجرم, شنـان, قوم, ان, صد, عن, مسجد, حرام, ان, تعتد, تعاون, على, بر, تقوىا, لا, تعاون, على, اثم, عدوان, اتق, الله, ان, الله, شديد, عقاب, حرمت, علي, ميتة, دم, لحم, خنزير, ما, اهل, غير, الله, هۦ, منخنقة, موقوذة, متردية, نطي...</td>\n",
       "      <td>[0.5721107, -0.27762634, -0.35565338, 0.8727915, 0.18216681, -0.41313905, 0.655421]</td>\n",
       "      <td>0</td>\n",
       "      <td>[-4.380289077758789, 4.550591468811035]</td>\n",
       "      <td>بِسْمِ اللَّهِ الرَّحْمَـٰنِ الرَّحِيمِ يَا أَيُّهَا الَّذِينَ آمَنُوا أَوْفُوا بِالْعُقُودِ أُحِلَّتْ لَكُم بَهِيمَةُ الْأَنْعَامِ إِلَّا مَا يُتْلَىٰ عَلَيْكُمْ غَيْرَ مُحِلِّي الصَّيْدِ وَأَنتُمْ حُرُمٌ إِنَّ اللَّهَ يَحْكُمُ مَا يُرِيدُ يَا أَيُّهَا الَّذِينَ آمَنُوا لَا تُحِلُّوا شَعَائِرَ اللَّهِ وَلَا الشَّهْرَ الْحَرَامَ وَلَا الْهَدْيَ وَلَا الْقَلَائِدَ وَلَا آمِّينَ الْبَيْتَ الْحَرَامَ يَبْتَغُونَ فَضْلًا مِّن رَّبِّهِمْ وَرِضْوَانًا وَإِذَا حَلَلْتُمْ فَاصْطَادُوا وَلَا يَجْرِمَ...</td>\n",
       "      <td>Madni</td>\n",
       "    </tr>\n",
       "  </tbody>\n",
       "</table>\n",
       "</div>"
      ],
      "text/plain": [
       "   chapter  \\\n",
       "0        1   \n",
       "1        2   \n",
       "2        3   \n",
       "3        4   \n",
       "4        5   \n",
       "\n",
       "                                                                                                                                                                                                                                                                                                                                                                                                                                                                                                               content  \\\n",
       "0                                                                                                                                                                                                                                                                                                                                           [سم, الله, رحمان, رحيم, حمد, له, رب, عالمين, رحمان, رحيم, مالك, يوم, دين, اياك, نعبد, اياك, نستعين, اهد, صراط, مستقيم, صراط, الذين, انعم, علي, غير, مغضوب, علي, لا, ضالين]   \n",
       "1  [الم, ذالك, كتاب, لا, ريب, في, هدى, متقين, الذين, يومن, غيب, يقيم, صلواة, م, ما, رزق, ينفق, الذين, يومن, ما, انزل, الي, ما, انزل, من, قبل, ءاخرة, هم, يوقن, او۟لايك, علىا, هدى, من, رب, او۟لايك, هم, مفلحون, ان, الذين, كفر, سواء, علي, انذر, ام, لم, تنذر, لا, يومن, ختم, الله, علىا, قلوب, علىا, سمع, علىا, ابصار, غشاوة, هم, عذاب, عظيم, من, ناس, من, يقول, ءام, الله, يوم, ءاخر, ما, هم, مومنين, يخادع, الله, الذين, ءامن, ما, يخدع, الا, انفس, ما, يشعر, فى, قلوب, مرض, زاد, الله, مرضا, هم, عذاب, اليمۢ, م...   \n",
       "2  [الم, الله, لا, الاه, الا, هو, حى, قيوم, نزل, علي, كتاب, حق, مصدقا, ما, بين, يدي, انزل, تورىاة, انجيل, من, قبل, هدى, ناس, انزل, فرقان, ان, الذين, كفر, ـايات, الله, هم, عذاب, شديد, الله, عزيز, ذو, انتقام, ان, الله, لا, يخفىا, علي, شىء, فى, ارض, لا, فى, سماء, هو, الذى, يصور, فى, ارحام, كيف, يشاء, لا, الاه, الا, هو, عزيز, حكيم, هو, الذى, انزل, علي, كتاب, من, ءايات, محكمات, هن, ام, كتاب, اخر, متشابهات, اما, الذين, فى, قلوب, زيغ, يتبع, ما, تشابه, من, ابتغاء, فتنة, ابتغاء, تاويل, ما, يعلم, تاويل, ...   \n",
       "3  [ايها, ناس, اتق, رب, الذى, خلق, من, نفس, واحدة, خلق, من, زوج, بث, من, رجالا, كثيرا, نساء, اتق, الله, الذى, تساءل, هۦ, ارحام, ان, الله, كان, علي, رقيبا, ءات, يتامىا, اموال, لا, تتبدل, خبيث, طيب, لا, تاكل, اموال, الىا, اموال, ان, كان, حوبا, كبيرا, ان, خف, ا, لا, تقسط, فى, يتامىا, انكح, ما, طاب, كم, من, نساء, مثنىا, ثلاث, رباع, ان, خف, ا, لا, تعدل, واحدة, او, ما, ملكت, ايمان, ذالك, ادنىا, ا, لا, تعول, ءات, نساء, صدقات, نحلة, ان, طب, كم, عن, شىء, من, نفسا, كل, هنيـا, مريـا, لا, توت, سفهاء, اموال...   \n",
       "4  [ايها, الذين, ءامن, اوف, عقود, احلت, كم, بهيمة, انعام, الا, ما, يتلىا, علي, غير, محلى, صيد, انتم, حرم, ان, الله, يحكم, ما, يريد, ايها, الذين, ءامن, لا, تحل, شعاير, الله, لا, شهر, حرام, لا, هدى, لا, قلايد, لا, ءامين, بيت, حرام, يبتغ, فضلا, من, رب, رضوانا, اذا, حلل, اصطاد, لا, يجرم, شنـان, قوم, ان, صد, عن, مسجد, حرام, ان, تعتد, تعاون, على, بر, تقوىا, لا, تعاون, على, اثم, عدوان, اتق, الله, ان, الله, شديد, عقاب, حرمت, علي, ميتة, دم, لحم, خنزير, ما, اهل, غير, الله, هۦ, منخنقة, موقوذة, متردية, نطي...   \n",
       "\n",
       "                                                                                 embedding  \\\n",
       "0    [0.5425285, -0.13494344, -0.28725043, 0.72397983, -0.06351497, -1.0107628, 0.7122974]   \n",
       "1    [0.4927549, -0.16703272, -0.41970292, 0.8598129, 0.15568848, -0.46054664, 0.67191744]   \n",
       "2  [0.5474993, -0.26122734, -0.40153262, 0.87964803, 0.056816604, -0.42270672, 0.66017026]   \n",
       "3     [0.4045318, -0.20670432, -0.37987158, 0.9627613, 0.23366275, -0.34808078, 0.7029082]   \n",
       "4      [0.5721107, -0.27762634, -0.35565338, 0.8727915, 0.18216681, -0.41313905, 0.655421]   \n",
       "\n",
       "   cluster                         projected_embedding  \\\n",
       "0        1  [-6.9773359298706055, -0.6149534583091736]   \n",
       "1        0     [-4.326164245605469, 3.917346239089966]   \n",
       "2        0    [-4.0135955810546875, 3.974799156188965]   \n",
       "3        0    [-5.029392242431641, 4.7908453941345215]   \n",
       "4        0     [-4.380289077758789, 4.550591468811035]   \n",
       "\n",
       "                                                                                                                                                                                                                                                                                                                                                                                                                                                                                                                  text  \\\n",
       "0                                                                                                                                                                                                                 بِسْمِ اللَّهِ الرَّحْمَـٰنِ الرَّحِيمِ الْحَمْدُ لِلَّهِ رَبِّ الْعَالَمِينَ الرَّحْمَـٰنِ الرَّحِيمِ مَالِكِ يَوْمِ الدِّينِ إِيَّاكَ نَعْبُدُ وَإِيَّاكَ نَسْتَعِينُ اهْدِنَا الصِّرَاطَ الْمُسْتَقِيمَ صِرَاطَ الَّذِينَ أَنْعَمْتَ عَلَيْهِمْ غَيْرِ الْمَغْضُوبِ عَلَيْهِمْ وَلَا الضَّالِّينَ   \n",
       "1  بِسْمِ اللَّهِ الرَّحْمَـٰنِ الرَّحِيمِ الم ذَٰلِكَ الْكِتَابُ لَا رَيْبَ فِيهِ هُدًى لِّلْمُتَّقِينَ الَّذِينَ يُؤْمِنُونَ بِالْغَيْبِ وَيُقِيمُونَ الصَّلَاةَ وَمِمَّا رَزَقْنَاهُمْ يُنفِقُونَ وَالَّذِينَ يُؤْمِنُونَ بِمَا أُنزِلَ إِلَيْكَ وَمَا أُنزِلَ مِن قَبْلِكَ وَبِالْآخِرَةِ هُمْ يُوقِنُونَ أُولَـٰئِكَ عَلَىٰ هُدًى مِّن رَّبِّهِمْ وَأُولَـٰئِكَ هُمُ الْمُفْلِحُونَ إِنَّ الَّذِينَ كَفَرُوا سَوَاءٌ عَلَيْهِمْ أَأَنذَرْتَهُمْ أَمْ لَمْ تُنذِرْهُمْ لَا يُؤْمِنُونَ خَتَمَ اللَّهُ عَلَىٰ قُ...   \n",
       "2  بِسْمِ اللَّهِ الرَّحْمَـٰنِ الرَّحِيمِ الم اللَّهُ لَا إِلَـٰهَ إِلَّا هُوَ الْحَيُّ الْقَيُّومُ نَزَّلَ عَلَيْكَ الْكِتَابَ بِالْحَقِّ مُصَدِّقًا لِّمَا بَيْنَ يَدَيْهِ وَأَنزَلَ التَّوْرَاةَ وَالْإِنجِيلَ مِن قَبْلُ هُدًى لِّلنَّاسِ وَأَنزَلَ الْفُرْقَانَ إِنَّ الَّذِينَ كَفَرُوا بِآيَاتِ اللَّهِ لَهُمْ عَذَابٌ شَدِيدٌ وَاللَّهُ عَزِيزٌ ذُو انتِقَامٍ إِنَّ اللَّهَ لَا يَخْفَىٰ عَلَيْهِ شَيْءٌ فِي الْأَرْضِ وَلَا فِي السَّمَاءِ هُوَ الَّذِي يُصَوِّرُكُمْ فِي الْأَرْحَامِ كَيْفَ يَشَاءُ لَا...   \n",
       "3  بِسْمِ اللَّهِ الرَّحْمَـٰنِ الرَّحِيمِ يَا أَيُّهَا النَّاسُ اتَّقُوا رَبَّكُمُ الَّذِي خَلَقَكُم مِّن نَّفْسٍ وَاحِدَةٍ وَخَلَقَ مِنْهَا زَوْجَهَا وَبَثَّ مِنْهُمَا رِجَالًا كَثِيرًا وَنِسَاءً وَاتَّقُوا اللَّهَ الَّذِي تَسَاءَلُونَ بِهِ وَالْأَرْحَامَ إِنَّ اللَّهَ كَانَ عَلَيْكُمْ رَقِيبًا وَآتُوا الْيَتَامَىٰ أَمْوَالَهُمْ وَلَا تَتَبَدَّلُوا الْخَبِيثَ بِالطَّيِّبِ وَلَا تَأْكُلُوا أَمْوَالَهُمْ إِلَىٰ أَمْوَالِكُمْ إِنَّهُ كَانَ حُوبًا كَبِيرًا وَإِنْ خِفْتُمْ أَلَّا تُقْسِطُوا فِي ال...   \n",
       "4  بِسْمِ اللَّهِ الرَّحْمَـٰنِ الرَّحِيمِ يَا أَيُّهَا الَّذِينَ آمَنُوا أَوْفُوا بِالْعُقُودِ أُحِلَّتْ لَكُم بَهِيمَةُ الْأَنْعَامِ إِلَّا مَا يُتْلَىٰ عَلَيْكُمْ غَيْرَ مُحِلِّي الصَّيْدِ وَأَنتُمْ حُرُمٌ إِنَّ اللَّهَ يَحْكُمُ مَا يُرِيدُ يَا أَيُّهَا الَّذِينَ آمَنُوا لَا تُحِلُّوا شَعَائِرَ اللَّهِ وَلَا الشَّهْرَ الْحَرَامَ وَلَا الْهَدْيَ وَلَا الْقَلَائِدَ وَلَا آمِّينَ الْبَيْتَ الْحَرَامَ يَبْتَغُونَ فَضْلًا مِّن رَّبِّهِمْ وَرِضْوَانًا وَإِذَا حَلَلْتُمْ فَاصْطَادُوا وَلَا يَجْرِمَ...   \n",
       "\n",
       "   label  \n",
       "0  Makki  \n",
       "1  Madni  \n",
       "2  Madni  \n",
       "3  Madni  \n",
       "4  Madni  "
      ]
     },
     "execution_count": 35,
     "metadata": {},
     "output_type": "execute_result"
    }
   ],
   "source": [
    "def get_label(r):\n",
    "    if (res:=re.search(r'\\((.+)\\)', r)) is not None:\n",
    "        return res.group(1)\n",
    "\n",
    "makki_madani_df = df_list[0]\n",
    "labels = [get_label(x) for x in list(makki_madani_df['Chapters Name'])[0]]\n",
    "labels = ['Madni' if (x=='Madani' or x=='Madni') else 'Makki' for x in labels]\n",
    "\n",
    "final_df['label'] = pd.Series(labels)\n",
    "final_df.head()"
   ]
  },
  {
   "cell_type": "code",
   "execution_count": 36,
   "metadata": {
    "pycharm": {
     "name": "#%%\n"
    }
   },
   "outputs": [
    {
     "data": {
      "text/html": [
       "<div>\n",
       "<style scoped>\n",
       "    .dataframe tbody tr th:only-of-type {\n",
       "        vertical-align: middle;\n",
       "    }\n",
       "\n",
       "    .dataframe tbody tr th {\n",
       "        vertical-align: top;\n",
       "    }\n",
       "\n",
       "    .dataframe thead th {\n",
       "        text-align: right;\n",
       "    }\n",
       "</style>\n",
       "<table border=\"1\" class=\"dataframe\">\n",
       "  <thead>\n",
       "    <tr style=\"text-align: right;\">\n",
       "      <th></th>\n",
       "      <th>cluster</th>\n",
       "      <th>label</th>\n",
       "      <th>0</th>\n",
       "    </tr>\n",
       "  </thead>\n",
       "  <tbody>\n",
       "    <tr>\n",
       "      <th>0</th>\n",
       "      <td>0</td>\n",
       "      <td>Madni</td>\n",
       "      <td>23</td>\n",
       "    </tr>\n",
       "    <tr>\n",
       "      <th>1</th>\n",
       "      <td>0</td>\n",
       "      <td>Makki</td>\n",
       "      <td>6</td>\n",
       "    </tr>\n",
       "    <tr>\n",
       "      <th>2</th>\n",
       "      <td>1</td>\n",
       "      <td>Madni</td>\n",
       "      <td>5</td>\n",
       "    </tr>\n",
       "    <tr>\n",
       "      <th>3</th>\n",
       "      <td>1</td>\n",
       "      <td>Makki</td>\n",
       "      <td>80</td>\n",
       "    </tr>\n",
       "  </tbody>\n",
       "</table>\n",
       "</div>"
      ],
      "text/plain": [
       "   cluster  label   0\n",
       "0        0  Madni  23\n",
       "1        0  Makki   6\n",
       "2        1  Madni   5\n",
       "3        1  Makki  80"
      ]
     },
     "execution_count": 36,
     "metadata": {},
     "output_type": "execute_result"
    }
   ],
   "source": [
    "final_df.groupby(['cluster', 'label']).size().reset_index()"
   ]
  },
  {
   "cell_type": "markdown",
   "metadata": {
    "pycharm": {
     "name": "#%% md\n"
    }
   },
   "source": [
    "<div dir=\"rtl\">\n",
    "همانطور که میتوان دید میتوان گفت که تا حدی تفاوت را فهمیده است. حال معیارها را گزارش میکنیم.\n",
    "</div>"
   ]
  },
  {
   "cell_type": "code",
   "execution_count": 37,
   "metadata": {
    "collapsed": false,
    "pycharm": {
     "name": "#%%\n"
    }
   },
   "outputs": [
    {
     "name": "stdout",
     "output_type": "stream",
     "text": [
      "The RSS score is 12.274 and the silhouette score is 0.263\n"
     ]
    }
   ],
   "source": [
    "# RSS score is just the inertia_ attribute of the model\n",
    "rss_score = clustering_model.inertia_\n",
    "\n",
    "sil_score = silhouette_score(np.array(final_df.embedding.to_list()), np.array(final_df.cluster.to_list()))\n",
    "\n",
    "print('The RSS score is {:.3f} and the silhouette score is {:.3f}'.format(rss_score, sil_score))"
   ]
  },
  {
   "cell_type": "code",
   "execution_count": null,
   "metadata": {
    "collapsed": false,
    "pycharm": {
     "name": "#%%\n"
    }
   },
   "outputs": [],
   "source": []
  }
 ],
 "metadata": {
  "kernelspec": {
   "display_name": "Python 3.8.10 64-bit",
   "language": "python",
   "name": "python3"
  },
  "language_info": {
   "codemirror_mode": {
    "name": "ipython",
    "version": 3
   },
   "file_extension": ".py",
   "mimetype": "text/x-python",
   "name": "python",
   "nbconvert_exporter": "python",
   "pygments_lexer": "ipython3",
   "version": "3.8.10"
  },
  "orig_nbformat": 4,
  "vscode": {
   "interpreter": {
    "hash": "916dbcbb3f70747c44a77c7bcd40155683ae19c65e1c03b4aa3499c5328201f1"
   }
  }
 },
 "nbformat": 4,
 "nbformat_minor": 2
}
