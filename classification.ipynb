{
 "cells": [
  {
   "cell_type": "markdown",
   "metadata": {
    "collapsed": false,
    "pycharm": {
     "name": "#%% md\n"
    }
   },
   "source": [
    "# Use Fasttext embeddings."
   ]
  },
  {
   "cell_type": "code",
   "execution_count": 1,
   "metadata": {
    "collapsed": false,
    "pycharm": {
     "name": "#%%\n"
    }
   },
   "outputs": [
    {
     "name": "stderr",
     "output_type": "stream",
     "text": [
      "100%|██████████| 6236/6236 [00:00<00:00, 11546.04it/s]\n",
      "100%|██████████| 6236/6236 [00:00<00:00, 16830.76it/s]\n",
      "100%|██████████| 6236/6236 [00:00<00:00, 13399.72it/s]\n",
      "Warning : `load_model` does not return WordVectorModel or SupervisedModel any more, but a `FastText` object which is very similar.\n",
      "/Users/jarrahi_mm/Documents/Open_Projects/quran_mir/venv/lib/python3.8/site-packages/sklearn/utils/deprecation.py:87: FutureWarning: Function get_feature_names is deprecated; get_feature_names is deprecated in 1.0 and will be removed in 1.2. Please use get_feature_names_out instead.\n",
      "  warnings.warn(msg, category=FutureWarning)\n"
     ]
    }
   ],
   "source": [
    "import numpy as np\n",
    "from quran_ir import FasttextQuranIR\n",
    "\n",
    "fasttext_quran_ir = FasttextQuranIR()\n",
    "X = fasttext_quran_ir.merged_corpus_embeddings[['original_normalized']].copy()\n",
    "X['شماره سوره'] = X.index.to_series().str.split('##').apply(lambda x: int(x[0]))\n",
    "X['شماره آیه'] = X.index.to_series().str.split('##').apply(lambda x: int(x[1]))\n",
    "\n",
    "long_verses = X.groupby(['شماره سوره']).count()['شماره آیه'].sort_values(ascending=False)[:30].index\n",
    "X_long = X[X['شماره سوره'].isin(long_verses)]"
   ]
  },
  {
   "cell_type": "code",
   "execution_count": 2,
   "metadata": {
    "collapsed": false,
    "pycharm": {
     "name": "#%%\n"
    }
   },
   "outputs": [],
   "source": [
    "from sklearn.model_selection import train_test_split\n",
    "\n",
    "X_train, X_test, Y_train, Y_test = train_test_split(np.array(X_long['original_normalized'].to_list()),\n",
    "                                                    np.array(X_long['شماره سوره'].to_list()), test_size=0.2,\n",
    "                                                    random_state=1)"
   ]
  },
  {
   "cell_type": "markdown",
   "metadata": {
    "collapsed": false,
    "pycharm": {
     "name": "#%% md\n"
    }
   },
   "source": [
    "- ## LogisticRegression on Fasttext embeddings."
   ]
  },
  {
   "cell_type": "code",
   "execution_count": 3,
   "metadata": {
    "collapsed": false,
    "pycharm": {
     "name": "#%%\n"
    }
   },
   "outputs": [
    {
     "name": "stdout",
     "output_type": "stream",
     "text": [
      "accuracy_score: 0.2236842105263158\n",
      "macro f1_score: 0.18140276607912262\n",
      "micro f1_score: 0.2236842105263158\n"
     ]
    }
   ],
   "source": [
    "from sklearn.linear_model import LogisticRegression\n",
    "from sklearn.metrics import accuracy_score, f1_score\n",
    "\n",
    "clf = LogisticRegression(random_state=0, n_jobs=4).fit(X_train, Y_train)\n",
    "y_predicted = clf.predict(X_test)\n",
    "\n",
    "print(f'accuracy_score: {accuracy_score(Y_test, y_predicted)}')\n",
    "print(f'macro f1_score: {f1_score(Y_test, y_predicted, average=\"macro\")}')\n",
    "print(f'micro f1_score: {f1_score(Y_test, y_predicted, average=\"micro\")}')"
   ]
  },
  {
   "cell_type": "markdown",
   "metadata": {
    "collapsed": false,
    "pycharm": {
     "name": "#%% md\n"
    }
   },
   "source": [
    "- ## MLPClassifier on Fasttext embeddings."
   ]
  },
  {
   "cell_type": "code",
   "execution_count": 4,
   "metadata": {
    "collapsed": false,
    "pycharm": {
     "name": "#%%\n"
    }
   },
   "outputs": [
    {
     "name": "stdout",
     "output_type": "stream",
     "text": [
      "accuracy_score: 0.16842105263157894\n",
      "macro f1_score: 0.153897804672717\n",
      "micro f1_score: 0.16842105263157894\n"
     ]
    }
   ],
   "source": [
    "from sklearn.metrics import accuracy_score, f1_score\n",
    "from sklearn.neural_network import MLPClassifier\n",
    "\n",
    "clf = MLPClassifier(solver='lbfgs', alpha=1e-5, hidden_layer_sizes=(100, 60, 30), random_state=1,\n",
    "                    max_iter=10000).fit(X_train, Y_train)\n",
    "y_predicted = clf.predict(X_test)\n",
    "\n",
    "print(f'accuracy_score: {accuracy_score(Y_test, y_predicted)}')\n",
    "print(f'macro f1_score: {f1_score(Y_test, y_predicted, average=\"macro\")}')\n",
    "print(f'micro f1_score: {f1_score(Y_test, y_predicted, average=\"micro\")}')"
   ]
  },
  {
   "cell_type": "markdown",
   "metadata": {
    "collapsed": false,
    "pycharm": {
     "name": "#%% md\n"
    }
   },
   "source": [
    "# Use Tfidf embeddings."
   ]
  },
  {
   "cell_type": "code",
   "execution_count": 5,
   "metadata": {
    "collapsed": false,
    "pycharm": {
     "name": "#%%\n"
    }
   },
   "outputs": [],
   "source": [
    "from sklearn.feature_extraction.text import TfidfVectorizer\n",
    "from preprocess_quran_text import merged_quran_vec_df_nrmlz\n",
    "\n",
    "vec = TfidfVectorizer(norm='l2').fit(merged_quran_vec_df_nrmlz['original_normalized'])\n",
    "\n",
    "X = merged_quran_vec_df_nrmlz.copy()\n",
    "X['شماره سوره'] = X.index.to_series().str.split('##').apply(lambda x: int(x[0]))\n",
    "X['شماره آیه'] = X.index.to_series().str.split('##').apply(lambda x: int(x[1]))\n",
    "\n",
    "long_verses = X.groupby(['شماره سوره']).count()['شماره آیه'].sort_values(ascending=False)[:30].index\n",
    "X_long = X[X['شماره سوره'].isin(long_verses)]"
   ]
  },
  {
   "cell_type": "code",
   "execution_count": 6,
   "metadata": {
    "collapsed": false,
    "pycharm": {
     "name": "#%%\n"
    }
   },
   "outputs": [],
   "source": [
    "from sklearn.model_selection import train_test_split\n",
    "\n",
    "X_train, X_test, Y_train, Y_test = train_test_split(vec.transform(X_long['original_normalized']),\n",
    "                                                    np.array(X_long['شماره سوره'].to_list()), test_size=0.2,\n",
    "                                                    random_state=1)"
   ]
  },
  {
   "cell_type": "markdown",
   "metadata": {
    "collapsed": false,
    "pycharm": {
     "name": "#%% md\n"
    }
   },
   "source": [
    "- ## Use LogisticRegression on Tfidf embeddings."
   ]
  },
  {
   "cell_type": "code",
   "execution_count": 7,
   "metadata": {
    "collapsed": false,
    "pycharm": {
     "name": "#%%\n"
    }
   },
   "outputs": [
    {
     "name": "stdout",
     "output_type": "stream",
     "text": [
      "accuracy_score: 0.2355263157894737\n",
      "macro f1_score: 0.1617715193556161\n",
      "micro f1_score: 0.2355263157894737\n"
     ]
    }
   ],
   "source": [
    "from sklearn.linear_model import LogisticRegression\n",
    "from sklearn.metrics import accuracy_score\n",
    "\n",
    "clf = LogisticRegression(random_state=0, n_jobs=4).fit(X_train, Y_train)\n",
    "y_predicted = clf.predict(X_test)\n",
    "\n",
    "print(f'accuracy_score: {accuracy_score(Y_test, y_predicted)}')\n",
    "print(f'macro f1_score: {f1_score(Y_test, y_predicted, average=\"macro\")}')\n",
    "print(f'micro f1_score: {f1_score(Y_test, y_predicted, average=\"micro\")}')"
   ]
  },
  {
   "cell_type": "code",
   "execution_count": null,
   "metadata": {
    "collapsed": false,
    "pycharm": {
     "name": "#%%\n"
    }
   },
   "outputs": [],
   "source": []
  }
 ],
 "metadata": {
  "kernelspec": {
   "display_name": "Python 3.8.10 64-bit",
   "language": "python",
   "name": "python3"
  },
  "language_info": {
   "codemirror_mode": {
    "name": "ipython",
    "version": 2
   },
   "file_extension": ".py",
   "mimetype": "text/x-python",
   "name": "python",
   "nbconvert_exporter": "python",
   "pygments_lexer": "ipython2",
   "version": "3.8.10"
  },
  "vscode": {
   "interpreter": {
    "hash": "916dbcbb3f70747c44a77c7bcd40155683ae19c65e1c03b4aa3499c5328201f1"
   }
  }
 },
 "nbformat": 4,
 "nbformat_minor": 0
}