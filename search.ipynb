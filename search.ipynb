{
 "cells": [
  {
   "cell_type": "markdown",
   "source": [
    "# Boolean"
   ],
   "metadata": {
    "collapsed": false,
    "pycharm": {
     "name": "#%% md\n"
    }
   }
  },
  {
   "cell_type": "code",
   "execution_count": 1,
   "outputs": [
    {
     "name": "stderr",
     "output_type": "stream",
     "text": [
      "100%|██████████| 6236/6236 [00:00<00:00, 8459.64it/s]\n",
      "100%|██████████| 6236/6236 [00:00<00:00, 12380.14it/s]\n",
      "100%|██████████| 6236/6236 [00:00<00:00, 8873.18it/s]\n"
     ]
    },
    {
     "data": {
      "text/plain": "                                                    0\n0                                         q1 = \"سبیل\"\n1   وَ لَا تَقُولُوا لِمَنْ يُقْتَلُ فِي سَبِيلِ ا...\n2   وَ قَاتِلُوا فِي سَبِيلِ اللَّهِ الَّذِينَ يُق...\n3   وَ أَنْفِقُوا فِي سَبِيلِ اللَّهِ وَ لَا تُلْق...\n4   يَسْأَلُونَكَ عَنِ الشَّهْرِ الْحَرَامِ قِتَال...\n..                                                ...\n86  وَ مَا يَأْتِيهِمْ مِنْ نَبِيٍّ إِلَّا كَانُوا...\n87  وَ إِذْ قُلْتُمْ يَا مُوسَىٰ لَنْ نَصْبِرَ عَل...\n88  وَ إِذَا قِيلَ لَهُمْ آمِنُوا بِمَا أَنْزَلَ ا...\n89  قُولُوا آمَنَّا بِاللَّهِ وَ مَا أُنْزِلَ إِلَ...\n90  لَيْسَ الْبِرَّ أَنْ تُوَلُّوا وُجُوهَكُمْ قِب...\n\n[91 rows x 1 columns]",
      "text/html": "<div>\n<style scoped>\n    .dataframe tbody tr th:only-of-type {\n        vertical-align: middle;\n    }\n\n    .dataframe tbody tr th {\n        vertical-align: top;\n    }\n\n    .dataframe thead th {\n        text-align: right;\n    }\n</style>\n<table border=\"1\" class=\"dataframe\">\n  <thead>\n    <tr style=\"text-align: right;\">\n      <th></th>\n      <th>0</th>\n    </tr>\n  </thead>\n  <tbody>\n    <tr>\n      <th>0</th>\n      <td>q1 = \"سبیل\"</td>\n    </tr>\n    <tr>\n      <th>1</th>\n      <td>وَ لَا تَقُولُوا لِمَنْ يُقْتَلُ فِي سَبِيلِ ا...</td>\n    </tr>\n    <tr>\n      <th>2</th>\n      <td>وَ قَاتِلُوا فِي سَبِيلِ اللَّهِ الَّذِينَ يُق...</td>\n    </tr>\n    <tr>\n      <th>3</th>\n      <td>وَ أَنْفِقُوا فِي سَبِيلِ اللَّهِ وَ لَا تُلْق...</td>\n    </tr>\n    <tr>\n      <th>4</th>\n      <td>يَسْأَلُونَكَ عَنِ الشَّهْرِ الْحَرَامِ قِتَال...</td>\n    </tr>\n    <tr>\n      <th>...</th>\n      <td>...</td>\n    </tr>\n    <tr>\n      <th>86</th>\n      <td>وَ مَا يَأْتِيهِمْ مِنْ نَبِيٍّ إِلَّا كَانُوا...</td>\n    </tr>\n    <tr>\n      <th>87</th>\n      <td>وَ إِذْ قُلْتُمْ يَا مُوسَىٰ لَنْ نَصْبِرَ عَل...</td>\n    </tr>\n    <tr>\n      <th>88</th>\n      <td>وَ إِذَا قِيلَ لَهُمْ آمِنُوا بِمَا أَنْزَلَ ا...</td>\n    </tr>\n    <tr>\n      <th>89</th>\n      <td>قُولُوا آمَنَّا بِاللَّهِ وَ مَا أُنْزِلَ إِلَ...</td>\n    </tr>\n    <tr>\n      <th>90</th>\n      <td>لَيْسَ الْبِرَّ أَنْ تُوَلُّوا وُجُوهَكُمْ قِب...</td>\n    </tr>\n  </tbody>\n</table>\n<p>91 rows × 1 columns</p>\n</div>"
     },
     "execution_count": 1,
     "metadata": {},
     "output_type": "execute_result"
    }
   ],
   "source": [
    "# %% import section\n",
    "from boolean_retrieval.ir_system import IRSystem\n",
    "from preprocess_quran_text import verse_complete_dict_nrmlz, verse_lemma_dict_nrmlz, \\\n",
    "    verse_root_dict_nrmlz, verse_complete_dict\n",
    "import pandas as pd\n",
    "\n",
    "# %% initialize IR system\n",
    "docs, docs_complete, docs_lemma, docs_root = [*verse_complete_dict.values()], [*verse_complete_dict_nrmlz.values()], [\n",
    "    *verse_lemma_dict_nrmlz.values()], [*verse_root_dict_nrmlz.values()]\n",
    "boolean_ir_complete, boolean_ir_lemma, boolean_ir_root = IRSystem(docs_complete), IRSystem(docs_lemma), IRSystem(\n",
    "    docs_root)\n",
    "\n",
    "# %%\n",
    "k = 10\n",
    "\n",
    "with open('./queries_boolean.txt') as f:\n",
    "    queries = f.readlines()\n",
    "    queries = [q.strip().split() for q in queries]\n",
    "\n",
    "results = []\n",
    "i = 1\n",
    "for query in queries:\n",
    "    result = boolean_ir_complete.process_query(query, \"complete\")\n",
    "    results_lemma = boolean_ir_lemma.process_query(query, \"lemma\")\n",
    "    results_root = boolean_ir_root.process_query(query, \"root\")\n",
    "    result.extend([r for r in results_lemma if r not in result])\n",
    "    result.extend([r for r in results_root if r not in result])\n",
    "    result = [docs[r] for r in result]\n",
    "    results.append('q{} = \"{}\"'.format(i, ' '.join(query)))\n",
    "    results.extend(result[0:k])\n",
    "    i += 1\n",
    "\n",
    "results = pd.DataFrame(results)\n",
    "results"
   ],
   "metadata": {
    "collapsed": false,
    "pycharm": {
     "name": "#%%\n"
    }
   }
  },
  {
   "cell_type": "markdown",
   "source": [
    "# TF-IDF"
   ],
   "metadata": {
    "collapsed": false,
    "pycharm": {
     "name": "#%% md\n"
    }
   }
  },
  {
   "cell_type": "code",
   "execution_count": 2,
   "outputs": [
    {
     "name": "stderr",
     "output_type": "stream",
     "text": [
      "/Users/jarrahi_mm/Documents/Open_Projects/quran_mir/venv/lib/python3.8/site-packages/sklearn/utils/deprecation.py:87: FutureWarning: Function get_feature_names is deprecated; get_feature_names is deprecated in 1.0 and will be removed in 1.2. Please use get_feature_names_out instead.\n",
      "  warnings.warn(msg, category=FutureWarning)\n"
     ]
    },
    {
     "data": {
      "text/plain": "                Query                                                آیه  \\\n0    q1 = \"الحمد لله\"                                                NaN   \n1                 NaN              الْحَمْدُ لِلَّهِ رَبِّ الْعَالَمِينَ   \n2                 NaN           وَ الْحَمْدُ لِلَّهِ رَبِّ الْعَالَمِينَ   \n3                 NaN  الْحَمْدُ لِلَّهِ الَّذِي لَهُ مَا فِي السَّمَ...   \n4                 NaN  فَقُطِعَ دَابِرُ الْقَوْمِ الَّذِينَ ظَلَمُوا ...   \n..                ...                                                ...   \n292               NaN  وَ عَلَّمَ آدَمَ الْأَسْمَاءَ كُلَّهَا ثُمَّ ع...   \n293               NaN  وَ أَمَّا مَنْ آمَنَ وَ عَمِلَ صَالِحًا فَلَهُ...   \n294               NaN  لِلَّذِينَ أَحْسَنُوا الْحُسْنَىٰ وَ زِيَادَةٌ...   \n295               NaN  وَ يَجْعَلُونَ لِلَّهِ مَا يَكْرَهُونَ وَ تَصِ...   \n296               NaN  لِلَّذِينَ اسْتَجَابُوا لِرَبِّهِمُ الْحُسْنَى...   \n\n     شباهت  \n0      NaN  \n1    0.775  \n2    0.775  \n3    0.566  \n4    0.459  \n..     ...  \n292  0.234  \n293  0.225  \n294  0.192  \n295  0.185  \n296  0.156  \n\n[297 rows x 3 columns]",
      "text/html": "<div>\n<style scoped>\n    .dataframe tbody tr th:only-of-type {\n        vertical-align: middle;\n    }\n\n    .dataframe tbody tr th {\n        vertical-align: top;\n    }\n\n    .dataframe thead th {\n        text-align: right;\n    }\n</style>\n<table border=\"1\" class=\"dataframe\">\n  <thead>\n    <tr style=\"text-align: right;\">\n      <th></th>\n      <th>Query</th>\n      <th>آیه</th>\n      <th>شباهت</th>\n    </tr>\n  </thead>\n  <tbody>\n    <tr>\n      <th>0</th>\n      <td>q1 = \"الحمد لله\"</td>\n      <td>NaN</td>\n      <td>NaN</td>\n    </tr>\n    <tr>\n      <th>1</th>\n      <td>NaN</td>\n      <td>الْحَمْدُ لِلَّهِ رَبِّ الْعَالَمِينَ</td>\n      <td>0.775</td>\n    </tr>\n    <tr>\n      <th>2</th>\n      <td>NaN</td>\n      <td>وَ الْحَمْدُ لِلَّهِ رَبِّ الْعَالَمِينَ</td>\n      <td>0.775</td>\n    </tr>\n    <tr>\n      <th>3</th>\n      <td>NaN</td>\n      <td>الْحَمْدُ لِلَّهِ الَّذِي لَهُ مَا فِي السَّمَ...</td>\n      <td>0.566</td>\n    </tr>\n    <tr>\n      <th>4</th>\n      <td>NaN</td>\n      <td>فَقُطِعَ دَابِرُ الْقَوْمِ الَّذِينَ ظَلَمُوا ...</td>\n      <td>0.459</td>\n    </tr>\n    <tr>\n      <th>...</th>\n      <td>...</td>\n      <td>...</td>\n      <td>...</td>\n    </tr>\n    <tr>\n      <th>292</th>\n      <td>NaN</td>\n      <td>وَ عَلَّمَ آدَمَ الْأَسْمَاءَ كُلَّهَا ثُمَّ ع...</td>\n      <td>0.234</td>\n    </tr>\n    <tr>\n      <th>293</th>\n      <td>NaN</td>\n      <td>وَ أَمَّا مَنْ آمَنَ وَ عَمِلَ صَالِحًا فَلَهُ...</td>\n      <td>0.225</td>\n    </tr>\n    <tr>\n      <th>294</th>\n      <td>NaN</td>\n      <td>لِلَّذِينَ أَحْسَنُوا الْحُسْنَىٰ وَ زِيَادَةٌ...</td>\n      <td>0.192</td>\n    </tr>\n    <tr>\n      <th>295</th>\n      <td>NaN</td>\n      <td>وَ يَجْعَلُونَ لِلَّهِ مَا يَكْرَهُونَ وَ تَصِ...</td>\n      <td>0.185</td>\n    </tr>\n    <tr>\n      <th>296</th>\n      <td>NaN</td>\n      <td>لِلَّذِينَ اسْتَجَابُوا لِرَبِّهِمُ الْحُسْنَى...</td>\n      <td>0.156</td>\n    </tr>\n  </tbody>\n</table>\n<p>297 rows × 3 columns</p>\n</div>"
     },
     "execution_count": 2,
     "metadata": {},
     "output_type": "execute_result"
    }
   ],
   "source": [
    "from preprocess_quran_text import quran_series, quran_normalizer\n",
    "from tfidf_vectorizer import get_most_similars\n",
    "import pandas as pd\n",
    "\n",
    "# %%\n",
    "with open('./queries.txt') as f:\n",
    "    queries = f.readlines()\n",
    "    queries = [q.strip() for q in queries]\n",
    "\n",
    "results = []\n",
    "i = 1\n",
    "for query in queries:\n",
    "    results.append({'Query': 'q{} = \"{}\"'.format(i, query)})\n",
    "    results.extend(get_most_similars(quran_series, quran_normalizer(query), 10).to_dict('records'))\n",
    "    i += 1\n",
    "results = pd.DataFrame(results)\n",
    "results['شباهت'] = results['شباهت'].round(3, )\n",
    "results"
   ],
   "metadata": {
    "collapsed": false,
    "pycharm": {
     "name": "#%%\n"
    }
   }
  },
  {
   "cell_type": "markdown",
   "source": [
    "# Fasttext"
   ],
   "metadata": {
    "collapsed": false,
    "pycharm": {
     "name": "#%% md\n"
    }
   }
  },
  {
   "cell_type": "code",
   "execution_count": 4,
   "outputs": [
    {
     "data": {
      "text/plain": "                Query                                                آیه  \\\n0    q1 = \"الحمد لله\"                                                NaN   \n1                 NaN              الْحَمْدُ لِلَّهِ رَبِّ الْعَالَمِينَ   \n2                 NaN           وَ الْحَمْدُ لِلَّهِ رَبِّ الْعَالَمِينَ   \n3                 NaN  الْحَمْدُ لِلَّهِ الَّذِي لَهُ مَا فِي السَّمَ...   \n4                 NaN  فَلِلَّهِ الْحَمْدُ رَبِّ السَّمَاوَاتِ وَ رَب...   \n..                ...                                                ...   \n292               NaN  وَ أَمَّا مَنْ آمَنَ وَ عَمِلَ صَالِحًا فَلَهُ...   \n293               NaN  وَ يَجْعَلُونَ لِلَّهِ مَا يَكْرَهُونَ وَ تَصِ...   \n294               NaN                           وَ الذَّارِيَاتِ ذَرْوًا   \n295               NaN  يُسَبِّحُ لِلَّهِ مَا فِي السَّمَاوَاتِ وَ مَا...   \n296               NaN  إِنَّ الَّذِينَ سَبَقَتْ لَهُمْ مِنَّا الْحُسْ...   \n\n     شباهت  \n0      NaN  \n1    0.869  \n2    0.865  \n3    0.803  \n4    0.730  \n..     ...  \n292  0.627  \n293  0.624  \n294  0.618  \n295  0.608  \n296  0.605  \n\n[297 rows x 3 columns]",
      "text/html": "<div>\n<style scoped>\n    .dataframe tbody tr th:only-of-type {\n        vertical-align: middle;\n    }\n\n    .dataframe tbody tr th {\n        vertical-align: top;\n    }\n\n    .dataframe thead th {\n        text-align: right;\n    }\n</style>\n<table border=\"1\" class=\"dataframe\">\n  <thead>\n    <tr style=\"text-align: right;\">\n      <th></th>\n      <th>Query</th>\n      <th>آیه</th>\n      <th>شباهت</th>\n    </tr>\n  </thead>\n  <tbody>\n    <tr>\n      <th>0</th>\n      <td>q1 = \"الحمد لله\"</td>\n      <td>NaN</td>\n      <td>NaN</td>\n    </tr>\n    <tr>\n      <th>1</th>\n      <td>NaN</td>\n      <td>الْحَمْدُ لِلَّهِ رَبِّ الْعَالَمِينَ</td>\n      <td>0.869</td>\n    </tr>\n    <tr>\n      <th>2</th>\n      <td>NaN</td>\n      <td>وَ الْحَمْدُ لِلَّهِ رَبِّ الْعَالَمِينَ</td>\n      <td>0.865</td>\n    </tr>\n    <tr>\n      <th>3</th>\n      <td>NaN</td>\n      <td>الْحَمْدُ لِلَّهِ الَّذِي لَهُ مَا فِي السَّمَ...</td>\n      <td>0.803</td>\n    </tr>\n    <tr>\n      <th>4</th>\n      <td>NaN</td>\n      <td>فَلِلَّهِ الْحَمْدُ رَبِّ السَّمَاوَاتِ وَ رَب...</td>\n      <td>0.730</td>\n    </tr>\n    <tr>\n      <th>...</th>\n      <td>...</td>\n      <td>...</td>\n      <td>...</td>\n    </tr>\n    <tr>\n      <th>292</th>\n      <td>NaN</td>\n      <td>وَ أَمَّا مَنْ آمَنَ وَ عَمِلَ صَالِحًا فَلَهُ...</td>\n      <td>0.627</td>\n    </tr>\n    <tr>\n      <th>293</th>\n      <td>NaN</td>\n      <td>وَ يَجْعَلُونَ لِلَّهِ مَا يَكْرَهُونَ وَ تَصِ...</td>\n      <td>0.624</td>\n    </tr>\n    <tr>\n      <th>294</th>\n      <td>NaN</td>\n      <td>وَ الذَّارِيَاتِ ذَرْوًا</td>\n      <td>0.618</td>\n    </tr>\n    <tr>\n      <th>295</th>\n      <td>NaN</td>\n      <td>يُسَبِّحُ لِلَّهِ مَا فِي السَّمَاوَاتِ وَ مَا...</td>\n      <td>0.608</td>\n    </tr>\n    <tr>\n      <th>296</th>\n      <td>NaN</td>\n      <td>إِنَّ الَّذِينَ سَبَقَتْ لَهُمْ مِنَّا الْحُسْ...</td>\n      <td>0.605</td>\n    </tr>\n  </tbody>\n</table>\n<p>297 rows × 3 columns</p>\n</div>"
     },
     "execution_count": 4,
     "metadata": {},
     "output_type": "execute_result"
    }
   ],
   "source": [
    "# ! git clone https://github.com/facebookresearch/fastText.git\n",
    "# ! cd fastText\n",
    "# ! make\n",
    "# ! sudo pip install .\n",
    "\n",
    "# %%\n",
    "import pandas as pd\n",
    "from preprocess_quran_text import quran_normalizer, merged_quran_vec_df_nrmlz, quran_series\n",
    "from tools import get_most_similars\n",
    "from fasttext_vectorizer import sent_to_vec, merged_corpus_embeddings\n",
    "\n",
    "# %%\n",
    "with open('./queries.txt') as f:\n",
    "    queries = f.readlines()\n",
    "    queries = [q.strip() for q in queries]\n",
    "\n",
    "results = []\n",
    "i = 1\n",
    "for query in queries:\n",
    "    query_vec = sent_to_vec(quran_normalizer(query))\n",
    "    results.append({'Query': 'q{} = \"{}\"'.format(i, query)})\n",
    "    results.extend(get_most_similars(quran_series, merged_corpus_embeddings, query_vec, 10).to_dict('records'))\n",
    "    i += 1\n",
    "results = pd.DataFrame(results)\n",
    "results['شباهت'] = results['شباهت'].round(3, )\n",
    "results"
   ],
   "metadata": {
    "collapsed": false,
    "pycharm": {
     "name": "#%%\n"
    }
   }
  },
  {
   "cell_type": "markdown",
   "source": [
    "# Arabert"
   ],
   "metadata": {
    "collapsed": false,
    "pycharm": {
     "name": "#%% md\n"
    }
   }
  },
  {
   "cell_type": "code",
   "execution_count": 5,
   "outputs": [
    {
     "name": "stderr",
     "output_type": "stream",
     "text": [
      "[2022-07-19 07:38:39,657 - farasapy_logger - WARNING]: Be careful with large lines as they may break on interactive mode. You may switch to Standalone mode for such cases.\n",
      "Some weights of the model checkpoint at aubmindlab/bert-base-arabertv2 were not used when initializing BertModel: ['cls.predictions.decoder.weight', 'cls.predictions.transform.LayerNorm.weight', 'cls.predictions.decoder.bias', 'cls.predictions.bias', 'cls.seq_relationship.bias', 'cls.predictions.transform.dense.weight', 'cls.seq_relationship.weight', 'cls.predictions.transform.LayerNorm.bias', 'cls.predictions.transform.dense.bias']\n",
      "- This IS expected if you are initializing BertModel from the checkpoint of a model trained on another task or with another architecture (e.g. initializing a BertForSequenceClassification model from a BertForPreTraining model).\n",
      "- This IS NOT expected if you are initializing BertModel from the checkpoint of a model that you expect to be exactly identical (initializing a BertForSequenceClassification model from a BertForSequenceClassification model).\n"
     ]
    },
    {
     "name": "stdout",
     "output_type": "stream",
     "text": [
      "1000\n"
     ]
    },
    {
     "name": "stderr",
     "output_type": "stream",
     "text": [
      "\n",
      "KeyboardInterrupt\n",
      "\n"
     ]
    }
   ],
   "source": [
    "# %%\n",
    "# !pip install transformers\n",
    "# !git clone https://github.com/aub-mind/arabert\n",
    "# !pip install -r arabert/requirements.txt\n",
    "# %%\n",
    "from transformers import AutoTokenizer, AutoModel\n",
    "from arabert.preprocess import ArabertPreprocessor\n",
    "from preprocess_quran_text import quran_series, quran_normalizer, merged_quran_vec_df_nrmlz\n",
    "from tools import get_most_similars\n",
    "from tfidf_vectorizer import get_word_idf\n",
    "import numpy as np\n",
    "import pandas as pd\n",
    "\n",
    "# %%\n",
    "EMBEDDING_LEN = 768\n",
    "model_name = \"aubmindlab/bert-base-arabertv2\"\n",
    "arabert_prep = ArabertPreprocessor(model_name=model_name)\n",
    "model = AutoModel.from_pretrained(model_name)\n",
    "model.eval()\n",
    "tokenizer = AutoTokenizer.from_pretrained(model_name)\n",
    "\n",
    "# %%\n",
    "count = 0\n",
    "\n",
    "\n",
    "def sent_to_vec(sent):\n",
    "    global count\n",
    "    if sent == '':\n",
    "        return np.zeros(EMBEDDING_LEN)\n",
    "    text_preprocessed = arabert_prep.preprocess(sent)\n",
    "    arabert_input = tokenizer.encode_plus(text_preprocessed, return_tensors='pt')\n",
    "    tokens = tokenizer.convert_ids_to_tokens(arabert_input['input_ids'][0])[1:-1]\n",
    "    outputs = model(**arabert_input)\n",
    "    embeddings_text_only = outputs['last_hidden_state'][0][1:-1]\n",
    "    count += 1\n",
    "    if count % 1000 == 0:\n",
    "        print(count)\n",
    "    avg_vec = np.average(a=embeddings_text_only.detach().numpy(), weights=[get_word_idf(\n",
    "        quran_normalizer(word)) if '+' not in word else 0 for word in tokens], axis=0)\n",
    "    if np.linalg.norm(avg_vec) == 0:\n",
    "        return np.zeros(EMBEDDING_LEN)\n",
    "    return avg_vec / np.linalg.norm(avg_vec)\n",
    "\n",
    "\n",
    "# %%\n",
    "# merged_quran_df or merged_quran_vec_df_nrmlz\n",
    "merged_corpus_embeddings = merged_quran_vec_df_nrmlz.applymap(sent_to_vec)\n",
    "\n",
    "with open('./queries.txt') as f:\n",
    "    queries = f.readlines()\n",
    "    queries = [q.strip() for q in queries]\n",
    "\n",
    "results = []\n",
    "i = 1\n",
    "for query in queries:\n",
    "    query_vec = sent_to_vec(quran_normalizer(query))\n",
    "    results.append({'Query': 'q{} = \"{}\"'.format(i, query)})\n",
    "    results.extend(\n",
    "        get_most_similars(quran_series, merged_corpus_embeddings, query_vec, 10, check_moghattaeh=True).to_dict(\n",
    "            'records'))\n",
    "    i += 1\n",
    "results = pd.DataFrame(results)\n",
    "results['شباهت'] = results['شباهت'].round(3, )\n",
    "results\n",
    "\n",
    "# %%\n",
    "# query = 'وَلِلّهِ الأَسْمَاء الْحُسْنَى'\n",
    "#\n",
    "# query_vec = sent_to_vec(quran_normalizer(query))\n",
    "# r = get_most_similars(quran_series, merged_corpus_embeddings, query_vec, 10, check_moghattaeh=True)\n",
    "# print(r)"
   ],
   "metadata": {
    "collapsed": false,
    "pycharm": {
     "name": "#%%\n"
    }
   }
  },
  {
   "cell_type": "code",
   "execution_count": null,
   "outputs": [],
   "source": [],
   "metadata": {
    "collapsed": false,
    "pycharm": {
     "name": "#%%\n"
    }
   }
  }
 ],
 "metadata": {
  "kernelspec": {
   "display_name": "Python 3",
   "language": "python",
   "name": "python3"
  },
  "language_info": {
   "codemirror_mode": {
    "name": "ipython",
    "version": 2
   },
   "file_extension": ".py",
   "mimetype": "text/x-python",
   "name": "python",
   "nbconvert_exporter": "python",
   "pygments_lexer": "ipython2",
   "version": "2.7.6"
  }
 },
 "nbformat": 4,
 "nbformat_minor": 0
}