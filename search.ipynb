{
 "cells": [
  {
   "cell_type": "markdown",
   "source": [
    "# Boolean"
   ],
   "metadata": {
    "collapsed": false,
    "pycharm": {
     "name": "#%% md\n"
    }
   }
  },
  {
   "cell_type": "code",
   "execution_count": 1,
   "outputs": [
    {
     "name": "stderr",
     "output_type": "stream",
     "text": [
      "100%|██████████| 6236/6236 [00:00<00:00, 11768.32it/s]\n",
      "100%|██████████| 6236/6236 [00:00<00:00, 16505.99it/s]\n",
      "100%|██████████| 6236/6236 [00:00<00:00, 13037.82it/s]\n"
     ]
    },
    {
     "name": "stdout",
     "output_type": "stream",
     "text": [
      "CPU times: user 5.41 s, sys: 543 ms, total: 5.96 s\n",
      "Wall time: 4.25 s\n"
     ]
    }
   ],
   "source": [
    "%%time\n",
    "from quran_ir import BooleanQuranIR\n",
    "\n",
    "boolean_quran_ir = BooleanQuranIR()"
   ],
   "metadata": {
    "collapsed": false,
    "pycharm": {
     "name": "#%%\n"
    }
   }
  },
  {
   "cell_type": "code",
   "execution_count": 2,
   "outputs": [
    {
     "name": "stdout",
     "output_type": "stream",
     "text": [
      "CPU times: user 2.18 ms, sys: 108 µs, total: 2.29 ms\n",
      "Wall time: 2.27 ms\n"
     ]
    },
    {
     "data": {
      "text/plain": "                                                      آیه\n2##124  وَ إِذِ ابْتَلَىٰ إِبْرَاهِيمَ رَبُّهُ بِكَلِم...\n2##125  وَ إِذْ جَعَلْنَا الْبَيْتَ مَثَابَةً لِلنَّاس...\n2##125  وَ إِذْ جَعَلْنَا الْبَيْتَ مَثَابَةً لِلنَّاس...\n2##126  وَ إِذْ قَالَ إِبْرَاهِيمُ رَبِّ اجْعَلْ هَذَا...\n2##127  وَ إِذْ يَرْفَعُ إِبْرَاهِيمُ الْقَوَاعِدَ مِن...",
      "text/html": "<div>\n<style scoped>\n    .dataframe tbody tr th:only-of-type {\n        vertical-align: middle;\n    }\n\n    .dataframe tbody tr th {\n        vertical-align: top;\n    }\n\n    .dataframe thead th {\n        text-align: right;\n    }\n</style>\n<table border=\"1\" class=\"dataframe\">\n  <thead>\n    <tr style=\"text-align: right;\">\n      <th></th>\n      <th>آیه</th>\n    </tr>\n  </thead>\n  <tbody>\n    <tr>\n      <th>2##124</th>\n      <td>وَ إِذِ ابْتَلَىٰ إِبْرَاهِيمَ رَبُّهُ بِكَلِم...</td>\n    </tr>\n    <tr>\n      <th>2##125</th>\n      <td>وَ إِذْ جَعَلْنَا الْبَيْتَ مَثَابَةً لِلنَّاس...</td>\n    </tr>\n    <tr>\n      <th>2##125</th>\n      <td>وَ إِذْ جَعَلْنَا الْبَيْتَ مَثَابَةً لِلنَّاس...</td>\n    </tr>\n    <tr>\n      <th>2##126</th>\n      <td>وَ إِذْ قَالَ إِبْرَاهِيمُ رَبِّ اجْعَلْ هَذَا...</td>\n    </tr>\n    <tr>\n      <th>2##127</th>\n      <td>وَ إِذْ يَرْفَعُ إِبْرَاهِيمُ الْقَوَاعِدَ مِن...</td>\n    </tr>\n  </tbody>\n</table>\n</div>"
     },
     "execution_count": 2,
     "metadata": {},
     "output_type": "execute_result"
    }
   ],
   "source": [
    "%%time\n",
    "boolean_quran_ir.get_most_similars('ابراهیم OR سبیل', K=5)"
   ],
   "metadata": {
    "collapsed": false,
    "pycharm": {
     "name": "#%%\n"
    }
   }
  },
  {
   "cell_type": "code",
   "execution_count": 3,
   "outputs": [
    {
     "name": "stdout",
     "output_type": "stream",
     "text": [
      "CPU times: user 25.4 ms, sys: 2.72 ms, total: 28.1 ms\n",
      "Wall time: 26.9 ms\n"
     ]
    },
    {
     "data": {
      "text/plain": "          Query                                                آیه\n0   q1 = \"سبیل\"                                                NaN\n1           NaN  وَ لَا تَقُولُوا لِمَنْ يُقْتَلُ فِي سَبِيلِ ا...\n2           NaN  وَ قَاتِلُوا فِي سَبِيلِ اللَّهِ الَّذِينَ يُق...\n3           NaN  وَ أَنْفِقُوا فِي سَبِيلِ اللَّهِ وَ لَا تُلْق...\n4           NaN  يَسْأَلُونَكَ عَنِ الشَّهْرِ الْحَرَامِ قِتَال...\n..          ...                                                ...\n86          NaN  وَ مَا يَأْتِيهِمْ مِنْ نَبِيٍّ إِلَّا كَانُوا...\n87          NaN  وَ إِذْ قُلْتُمْ يَا مُوسَىٰ لَنْ نَصْبِرَ عَل...\n88          NaN  وَ إِذَا قِيلَ لَهُمْ آمِنُوا بِمَا أَنْزَلَ ا...\n89          NaN  قُولُوا آمَنَّا بِاللَّهِ وَ مَا أُنْزِلَ إِلَ...\n90          NaN  لَيْسَ الْبِرَّ أَنْ تُوَلُّوا وُجُوهَكُمْ قِب...\n\n[91 rows x 2 columns]",
      "text/html": "<div>\n<style scoped>\n    .dataframe tbody tr th:only-of-type {\n        vertical-align: middle;\n    }\n\n    .dataframe tbody tr th {\n        vertical-align: top;\n    }\n\n    .dataframe thead th {\n        text-align: right;\n    }\n</style>\n<table border=\"1\" class=\"dataframe\">\n  <thead>\n    <tr style=\"text-align: right;\">\n      <th></th>\n      <th>Query</th>\n      <th>آیه</th>\n    </tr>\n  </thead>\n  <tbody>\n    <tr>\n      <th>0</th>\n      <td>q1 = \"سبیل\"</td>\n      <td>NaN</td>\n    </tr>\n    <tr>\n      <th>1</th>\n      <td>NaN</td>\n      <td>وَ لَا تَقُولُوا لِمَنْ يُقْتَلُ فِي سَبِيلِ ا...</td>\n    </tr>\n    <tr>\n      <th>2</th>\n      <td>NaN</td>\n      <td>وَ قَاتِلُوا فِي سَبِيلِ اللَّهِ الَّذِينَ يُق...</td>\n    </tr>\n    <tr>\n      <th>3</th>\n      <td>NaN</td>\n      <td>وَ أَنْفِقُوا فِي سَبِيلِ اللَّهِ وَ لَا تُلْق...</td>\n    </tr>\n    <tr>\n      <th>4</th>\n      <td>NaN</td>\n      <td>يَسْأَلُونَكَ عَنِ الشَّهْرِ الْحَرَامِ قِتَال...</td>\n    </tr>\n    <tr>\n      <th>...</th>\n      <td>...</td>\n      <td>...</td>\n    </tr>\n    <tr>\n      <th>86</th>\n      <td>NaN</td>\n      <td>وَ مَا يَأْتِيهِمْ مِنْ نَبِيٍّ إِلَّا كَانُوا...</td>\n    </tr>\n    <tr>\n      <th>87</th>\n      <td>NaN</td>\n      <td>وَ إِذْ قُلْتُمْ يَا مُوسَىٰ لَنْ نَصْبِرَ عَل...</td>\n    </tr>\n    <tr>\n      <th>88</th>\n      <td>NaN</td>\n      <td>وَ إِذَا قِيلَ لَهُمْ آمِنُوا بِمَا أَنْزَلَ ا...</td>\n    </tr>\n    <tr>\n      <th>89</th>\n      <td>NaN</td>\n      <td>قُولُوا آمَنَّا بِاللَّهِ وَ مَا أُنْزِلَ إِلَ...</td>\n    </tr>\n    <tr>\n      <th>90</th>\n      <td>NaN</td>\n      <td>لَيْسَ الْبِرَّ أَنْ تُوَلُّوا وُجُوهَكُمْ قِب...</td>\n    </tr>\n  </tbody>\n</table>\n<p>91 rows × 2 columns</p>\n</div>"
     },
     "execution_count": 3,
     "metadata": {},
     "output_type": "execute_result"
    }
   ],
   "source": [
    "%%time\n",
    "boolean_quran_ir.process_queries()"
   ],
   "metadata": {
    "collapsed": false,
    "pycharm": {
     "name": "#%%\n"
    }
   }
  },
  {
   "cell_type": "markdown",
   "source": [
    "# TF-IDF"
   ],
   "metadata": {
    "collapsed": false,
    "pycharm": {
     "name": "#%% md\n"
    }
   }
  },
  {
   "cell_type": "code",
   "execution_count": 4,
   "outputs": [
    {
     "name": "stdout",
     "output_type": "stream",
     "text": [
      "CPU times: user 296 ms, sys: 7.55 ms, total: 304 ms\n",
      "Wall time: 303 ms\n"
     ]
    },
    {
     "name": "stderr",
     "output_type": "stream",
     "text": [
      "/Users/jarrahi_mm/Documents/Open_Projects/quran_mir/venv/lib/python3.8/site-packages/sklearn/utils/deprecation.py:87: FutureWarning: Function get_feature_names is deprecated; get_feature_names is deprecated in 1.0 and will be removed in 1.2. Please use get_feature_names_out instead.\n",
      "  warnings.warn(msg, category=FutureWarning)\n"
     ]
    }
   ],
   "source": [
    "%%time\n",
    "from quran_ir import TfIdfQuranIR\n",
    "\n",
    "tfidf_quran_ir = TfIdfQuranIR()"
   ],
   "metadata": {
    "collapsed": false,
    "pycharm": {
     "name": "#%%\n"
    }
   }
  },
  {
   "cell_type": "code",
   "execution_count": 5,
   "outputs": [
    {
     "name": "stdout",
     "output_type": "stream",
     "text": [
      "CPU times: user 7.36 ms, sys: 1.36 ms, total: 8.72 ms\n",
      "Wall time: 7.19 ms\n"
     ]
    },
    {
     "data": {
      "text/plain": "                                                       آیه     شباهت\n0                                                                   \n1##2                 الْحَمْدُ لِلَّهِ رَبِّ الْعَالَمِينَ  0.775275\n37##182           وَ الْحَمْدُ لِلَّهِ رَبِّ الْعَالَمِينَ  0.775275\n34##1    الْحَمْدُ لِلَّهِ الَّذِي لَهُ مَا فِي السَّمَ...  0.565975\n6##45    فَقُطِعَ دَابِرُ الْقَوْمِ الَّذِينَ ظَلَمُوا ...  0.458645\n18##1    الْحَمْدُ لِلَّهِ الَّذِي أَنْزَلَ عَلَىٰ عَبْ...  0.456043",
      "text/html": "<div>\n<style scoped>\n    .dataframe tbody tr th:only-of-type {\n        vertical-align: middle;\n    }\n\n    .dataframe tbody tr th {\n        vertical-align: top;\n    }\n\n    .dataframe thead th {\n        text-align: right;\n    }\n</style>\n<table border=\"1\" class=\"dataframe\">\n  <thead>\n    <tr style=\"text-align: right;\">\n      <th></th>\n      <th>آیه</th>\n      <th>شباهت</th>\n    </tr>\n    <tr>\n      <th>0</th>\n      <th></th>\n      <th></th>\n    </tr>\n  </thead>\n  <tbody>\n    <tr>\n      <th>1##2</th>\n      <td>الْحَمْدُ لِلَّهِ رَبِّ الْعَالَمِينَ</td>\n      <td>0.775275</td>\n    </tr>\n    <tr>\n      <th>37##182</th>\n      <td>وَ الْحَمْدُ لِلَّهِ رَبِّ الْعَالَمِينَ</td>\n      <td>0.775275</td>\n    </tr>\n    <tr>\n      <th>34##1</th>\n      <td>الْحَمْدُ لِلَّهِ الَّذِي لَهُ مَا فِي السَّمَ...</td>\n      <td>0.565975</td>\n    </tr>\n    <tr>\n      <th>6##45</th>\n      <td>فَقُطِعَ دَابِرُ الْقَوْمِ الَّذِينَ ظَلَمُوا ...</td>\n      <td>0.458645</td>\n    </tr>\n    <tr>\n      <th>18##1</th>\n      <td>الْحَمْدُ لِلَّهِ الَّذِي أَنْزَلَ عَلَىٰ عَبْ...</td>\n      <td>0.456043</td>\n    </tr>\n  </tbody>\n</table>\n</div>"
     },
     "execution_count": 5,
     "metadata": {},
     "output_type": "execute_result"
    }
   ],
   "source": [
    "%%time\n",
    "from preprocess_quran_text import quran_normalizer\n",
    "\n",
    "tfidf_quran_ir.get_most_similars(quran_normalizer('الحمد لله'), 5)"
   ],
   "metadata": {
    "collapsed": false,
    "pycharm": {
     "name": "#%%\n"
    }
   }
  },
  {
   "cell_type": "code",
   "execution_count": 6,
   "outputs": [
    {
     "name": "stdout",
     "output_type": "stream",
     "text": [
      "CPU times: user 130 ms, sys: 2.5 ms, total: 132 ms\n",
      "Wall time: 131 ms\n"
     ]
    },
    {
     "data": {
      "text/plain": "                Query                                                آیه  \\\n0    q1 = \"الحمد لله\"                                                NaN   \n1                 NaN              الْحَمْدُ لِلَّهِ رَبِّ الْعَالَمِينَ   \n2                 NaN           وَ الْحَمْدُ لِلَّهِ رَبِّ الْعَالَمِينَ   \n3                 NaN  الْحَمْدُ لِلَّهِ الَّذِي لَهُ مَا فِي السَّمَ...   \n4                 NaN  فَقُطِعَ دَابِرُ الْقَوْمِ الَّذِينَ ظَلَمُوا ...   \n..                ...                                                ...   \n292               NaN  وَ عَلَّمَ آدَمَ الْأَسْمَاءَ كُلَّهَا ثُمَّ ع...   \n293               NaN  وَ أَمَّا مَنْ آمَنَ وَ عَمِلَ صَالِحًا فَلَهُ...   \n294               NaN  لِلَّذِينَ أَحْسَنُوا الْحُسْنَىٰ وَ زِيَادَةٌ...   \n295               NaN  وَ يَجْعَلُونَ لِلَّهِ مَا يَكْرَهُونَ وَ تَصِ...   \n296               NaN  لِلَّذِينَ اسْتَجَابُوا لِرَبِّهِمُ الْحُسْنَى...   \n\n     شباهت  \n0      NaN  \n1    0.775  \n2    0.775  \n3    0.566  \n4    0.459  \n..     ...  \n292  0.234  \n293  0.225  \n294  0.192  \n295  0.185  \n296  0.156  \n\n[297 rows x 3 columns]",
      "text/html": "<div>\n<style scoped>\n    .dataframe tbody tr th:only-of-type {\n        vertical-align: middle;\n    }\n\n    .dataframe tbody tr th {\n        vertical-align: top;\n    }\n\n    .dataframe thead th {\n        text-align: right;\n    }\n</style>\n<table border=\"1\" class=\"dataframe\">\n  <thead>\n    <tr style=\"text-align: right;\">\n      <th></th>\n      <th>Query</th>\n      <th>آیه</th>\n      <th>شباهت</th>\n    </tr>\n  </thead>\n  <tbody>\n    <tr>\n      <th>0</th>\n      <td>q1 = \"الحمد لله\"</td>\n      <td>NaN</td>\n      <td>NaN</td>\n    </tr>\n    <tr>\n      <th>1</th>\n      <td>NaN</td>\n      <td>الْحَمْدُ لِلَّهِ رَبِّ الْعَالَمِينَ</td>\n      <td>0.775</td>\n    </tr>\n    <tr>\n      <th>2</th>\n      <td>NaN</td>\n      <td>وَ الْحَمْدُ لِلَّهِ رَبِّ الْعَالَمِينَ</td>\n      <td>0.775</td>\n    </tr>\n    <tr>\n      <th>3</th>\n      <td>NaN</td>\n      <td>الْحَمْدُ لِلَّهِ الَّذِي لَهُ مَا فِي السَّمَ...</td>\n      <td>0.566</td>\n    </tr>\n    <tr>\n      <th>4</th>\n      <td>NaN</td>\n      <td>فَقُطِعَ دَابِرُ الْقَوْمِ الَّذِينَ ظَلَمُوا ...</td>\n      <td>0.459</td>\n    </tr>\n    <tr>\n      <th>...</th>\n      <td>...</td>\n      <td>...</td>\n      <td>...</td>\n    </tr>\n    <tr>\n      <th>292</th>\n      <td>NaN</td>\n      <td>وَ عَلَّمَ آدَمَ الْأَسْمَاءَ كُلَّهَا ثُمَّ ع...</td>\n      <td>0.234</td>\n    </tr>\n    <tr>\n      <th>293</th>\n      <td>NaN</td>\n      <td>وَ أَمَّا مَنْ آمَنَ وَ عَمِلَ صَالِحًا فَلَهُ...</td>\n      <td>0.225</td>\n    </tr>\n    <tr>\n      <th>294</th>\n      <td>NaN</td>\n      <td>لِلَّذِينَ أَحْسَنُوا الْحُسْنَىٰ وَ زِيَادَةٌ...</td>\n      <td>0.192</td>\n    </tr>\n    <tr>\n      <th>295</th>\n      <td>NaN</td>\n      <td>وَ يَجْعَلُونَ لِلَّهِ مَا يَكْرَهُونَ وَ تَصِ...</td>\n      <td>0.185</td>\n    </tr>\n    <tr>\n      <th>296</th>\n      <td>NaN</td>\n      <td>لِلَّذِينَ اسْتَجَابُوا لِرَبِّهِمُ الْحُسْنَى...</td>\n      <td>0.156</td>\n    </tr>\n  </tbody>\n</table>\n<p>297 rows × 3 columns</p>\n</div>"
     },
     "execution_count": 6,
     "metadata": {},
     "output_type": "execute_result"
    }
   ],
   "source": [
    "%%time\n",
    "tfidf_quran_ir.process_queries()"
   ],
   "metadata": {
    "collapsed": false,
    "pycharm": {
     "name": "#%%\n"
    }
   }
  },
  {
   "cell_type": "markdown",
   "source": [
    "# Fasttext"
   ],
   "metadata": {
    "collapsed": false,
    "pycharm": {
     "name": "#%% md\n"
    }
   }
  },
  {
   "cell_type": "code",
   "execution_count": 7,
   "outputs": [
    {
     "name": "stderr",
     "output_type": "stream",
     "text": [
      "Warning : `load_model` does not return WordVectorModel or SupervisedModel any more, but a `FastText` object which is very similar.\n",
      "/Users/jarrahi_mm/Documents/Open_Projects/quran_mir/venv/lib/python3.8/site-packages/sklearn/utils/deprecation.py:87: FutureWarning: Function get_feature_names is deprecated; get_feature_names is deprecated in 1.0 and will be removed in 1.2. Please use get_feature_names_out instead.\n",
      "  warnings.warn(msg, category=FutureWarning)\n"
     ]
    },
    {
     "name": "stdout",
     "output_type": "stream",
     "text": [
      "CPU times: user 57.3 s, sys: 629 ms, total: 57.9 s\n",
      "Wall time: 58.1 s\n"
     ]
    }
   ],
   "source": [
    "%%time\n",
    "from quran_ir import FasttextQuranIR\n",
    "\n",
    "fasttext_quran_ir = FasttextQuranIR()"
   ],
   "metadata": {
    "collapsed": false,
    "pycharm": {
     "name": "#%%\n"
    }
   }
  },
  {
   "cell_type": "code",
   "execution_count": 8,
   "outputs": [
    {
     "name": "stdout",
     "output_type": "stream",
     "text": [
      "CPU times: user 152 ms, sys: 16.4 ms, total: 168 ms\n",
      "Wall time: 171 ms\n"
     ]
    },
    {
     "data": {
      "text/plain": "                                                       آیه     شباهت\nindex                                                               \n1##2                 الْحَمْدُ لِلَّهِ رَبِّ الْعَالَمِينَ  0.868633\n37##182           وَ الْحَمْدُ لِلَّهِ رَبِّ الْعَالَمِينَ  0.864833\n34##1    الْحَمْدُ لِلَّهِ الَّذِي لَهُ مَا فِي السَّمَ...  0.803087\n45##36   فَلِلَّهِ الْحَمْدُ رَبِّ السَّمَاوَاتِ وَ رَب...  0.729552\n64##1    يُسَبِّحُ لِلَّهِ مَا فِي السَّمَاوَاتِ وَ مَا...  0.729044",
      "text/html": "<div>\n<style scoped>\n    .dataframe tbody tr th:only-of-type {\n        vertical-align: middle;\n    }\n\n    .dataframe tbody tr th {\n        vertical-align: top;\n    }\n\n    .dataframe thead th {\n        text-align: right;\n    }\n</style>\n<table border=\"1\" class=\"dataframe\">\n  <thead>\n    <tr style=\"text-align: right;\">\n      <th></th>\n      <th>آیه</th>\n      <th>شباهت</th>\n    </tr>\n    <tr>\n      <th>index</th>\n      <th></th>\n      <th></th>\n    </tr>\n  </thead>\n  <tbody>\n    <tr>\n      <th>1##2</th>\n      <td>الْحَمْدُ لِلَّهِ رَبِّ الْعَالَمِينَ</td>\n      <td>0.868633</td>\n    </tr>\n    <tr>\n      <th>37##182</th>\n      <td>وَ الْحَمْدُ لِلَّهِ رَبِّ الْعَالَمِينَ</td>\n      <td>0.864833</td>\n    </tr>\n    <tr>\n      <th>34##1</th>\n      <td>الْحَمْدُ لِلَّهِ الَّذِي لَهُ مَا فِي السَّمَ...</td>\n      <td>0.803087</td>\n    </tr>\n    <tr>\n      <th>45##36</th>\n      <td>فَلِلَّهِ الْحَمْدُ رَبِّ السَّمَاوَاتِ وَ رَب...</td>\n      <td>0.729552</td>\n    </tr>\n    <tr>\n      <th>64##1</th>\n      <td>يُسَبِّحُ لِلَّهِ مَا فِي السَّمَاوَاتِ وَ مَا...</td>\n      <td>0.729044</td>\n    </tr>\n  </tbody>\n</table>\n</div>"
     },
     "execution_count": 8,
     "metadata": {},
     "output_type": "execute_result"
    }
   ],
   "source": [
    "%%time\n",
    "from preprocess_quran_text import quran_normalizer\n",
    "\n",
    "fasttext_quran_ir.get_most_similars(quran_normalizer('الحمد لله'), 5)"
   ],
   "metadata": {
    "collapsed": false,
    "pycharm": {
     "name": "#%%\n"
    }
   }
  },
  {
   "cell_type": "code",
   "execution_count": 9,
   "outputs": [
    {
     "name": "stdout",
     "output_type": "stream",
     "text": [
      "CPU times: user 887 ms, sys: 7.81 ms, total: 894 ms\n",
      "Wall time: 899 ms\n"
     ]
    },
    {
     "data": {
      "text/plain": "                Query                                                آیه  \\\n0    q1 = \"الحمد لله\"                                                NaN   \n1                 NaN              الْحَمْدُ لِلَّهِ رَبِّ الْعَالَمِينَ   \n2                 NaN           وَ الْحَمْدُ لِلَّهِ رَبِّ الْعَالَمِينَ   \n3                 NaN  الْحَمْدُ لِلَّهِ الَّذِي لَهُ مَا فِي السَّمَ...   \n4                 NaN  فَلِلَّهِ الْحَمْدُ رَبِّ السَّمَاوَاتِ وَ رَب...   \n..                ...                                                ...   \n292               NaN  وَ أَمَّا مَنْ آمَنَ وَ عَمِلَ صَالِحًا فَلَهُ...   \n293               NaN  وَ يَجْعَلُونَ لِلَّهِ مَا يَكْرَهُونَ وَ تَصِ...   \n294               NaN                           وَ الذَّارِيَاتِ ذَرْوًا   \n295               NaN  يُسَبِّحُ لِلَّهِ مَا فِي السَّمَاوَاتِ وَ مَا...   \n296               NaN  إِنَّ الَّذِينَ سَبَقَتْ لَهُمْ مِنَّا الْحُسْ...   \n\n     شباهت  \n0      NaN  \n1    0.869  \n2    0.865  \n3    0.803  \n4    0.730  \n..     ...  \n292  0.627  \n293  0.624  \n294  0.618  \n295  0.608  \n296  0.605  \n\n[297 rows x 3 columns]",
      "text/html": "<div>\n<style scoped>\n    .dataframe tbody tr th:only-of-type {\n        vertical-align: middle;\n    }\n\n    .dataframe tbody tr th {\n        vertical-align: top;\n    }\n\n    .dataframe thead th {\n        text-align: right;\n    }\n</style>\n<table border=\"1\" class=\"dataframe\">\n  <thead>\n    <tr style=\"text-align: right;\">\n      <th></th>\n      <th>Query</th>\n      <th>آیه</th>\n      <th>شباهت</th>\n    </tr>\n  </thead>\n  <tbody>\n    <tr>\n      <th>0</th>\n      <td>q1 = \"الحمد لله\"</td>\n      <td>NaN</td>\n      <td>NaN</td>\n    </tr>\n    <tr>\n      <th>1</th>\n      <td>NaN</td>\n      <td>الْحَمْدُ لِلَّهِ رَبِّ الْعَالَمِينَ</td>\n      <td>0.869</td>\n    </tr>\n    <tr>\n      <th>2</th>\n      <td>NaN</td>\n      <td>وَ الْحَمْدُ لِلَّهِ رَبِّ الْعَالَمِينَ</td>\n      <td>0.865</td>\n    </tr>\n    <tr>\n      <th>3</th>\n      <td>NaN</td>\n      <td>الْحَمْدُ لِلَّهِ الَّذِي لَهُ مَا فِي السَّمَ...</td>\n      <td>0.803</td>\n    </tr>\n    <tr>\n      <th>4</th>\n      <td>NaN</td>\n      <td>فَلِلَّهِ الْحَمْدُ رَبِّ السَّمَاوَاتِ وَ رَب...</td>\n      <td>0.730</td>\n    </tr>\n    <tr>\n      <th>...</th>\n      <td>...</td>\n      <td>...</td>\n      <td>...</td>\n    </tr>\n    <tr>\n      <th>292</th>\n      <td>NaN</td>\n      <td>وَ أَمَّا مَنْ آمَنَ وَ عَمِلَ صَالِحًا فَلَهُ...</td>\n      <td>0.627</td>\n    </tr>\n    <tr>\n      <th>293</th>\n      <td>NaN</td>\n      <td>وَ يَجْعَلُونَ لِلَّهِ مَا يَكْرَهُونَ وَ تَصِ...</td>\n      <td>0.624</td>\n    </tr>\n    <tr>\n      <th>294</th>\n      <td>NaN</td>\n      <td>وَ الذَّارِيَاتِ ذَرْوًا</td>\n      <td>0.618</td>\n    </tr>\n    <tr>\n      <th>295</th>\n      <td>NaN</td>\n      <td>يُسَبِّحُ لِلَّهِ مَا فِي السَّمَاوَاتِ وَ مَا...</td>\n      <td>0.608</td>\n    </tr>\n    <tr>\n      <th>296</th>\n      <td>NaN</td>\n      <td>إِنَّ الَّذِينَ سَبَقَتْ لَهُمْ مِنَّا الْحُسْ...</td>\n      <td>0.605</td>\n    </tr>\n  </tbody>\n</table>\n<p>297 rows × 3 columns</p>\n</div>"
     },
     "execution_count": 9,
     "metadata": {},
     "output_type": "execute_result"
    }
   ],
   "source": [
    "%%time\n",
    "fasttext_quran_ir.process_queries()"
   ],
   "metadata": {
    "collapsed": false,
    "pycharm": {
     "name": "#%%\n"
    }
   }
  },
  {
   "cell_type": "markdown",
   "source": [
    "# Arabert"
   ],
   "metadata": {
    "collapsed": false,
    "pycharm": {
     "name": "#%% md\n"
    }
   }
  },
  {
   "cell_type": "code",
   "execution_count": 7,
   "outputs": [
    {
     "name": "stderr",
     "output_type": "stream",
     "text": [
      "/Users/jarrahi_mm/Documents/Open_Projects/quran_mir/venv/lib/python3.8/site-packages/sklearn/utils/deprecation.py:87: FutureWarning: Function get_feature_names is deprecated; get_feature_names is deprecated in 1.0 and will be removed in 1.2. Please use get_feature_names_out instead.\n",
      "  warnings.warn(msg, category=FutureWarning)\n",
      "[2022-07-25 14:41:39,155 - farasapy_logger - WARNING]: Be careful with large lines as they may break on interactive mode. You may switch to Standalone mode for such cases.\n",
      "Some weights of the model checkpoint at aubmindlab/bert-base-arabertv2 were not used when initializing BertModel: ['cls.predictions.decoder.weight', 'cls.predictions.transform.LayerNorm.bias', 'cls.predictions.transform.dense.bias', 'cls.predictions.decoder.bias', 'cls.predictions.bias', 'cls.seq_relationship.weight', 'cls.predictions.transform.dense.weight', 'cls.seq_relationship.bias', 'cls.predictions.transform.LayerNorm.weight']\n",
      "- This IS expected if you are initializing BertModel from the checkpoint of a model trained on another task or with another architecture (e.g. initializing a BertForSequenceClassification model from a BertForPreTraining model).\n",
      "- This IS NOT expected if you are initializing BertModel from the checkpoint of a model that you expect to be exactly identical (initializing a BertForSequenceClassification model from a BertForSequenceClassification model).\n"
     ]
    },
    {
     "name": "stdout",
     "output_type": "stream",
     "text": [
      "1000\n",
      "2000\n",
      "3000\n",
      "4000\n",
      "5000\n",
      "6000\n",
      "7000\n",
      "8000\n",
      "9000\n",
      "10000\n",
      "11000\n",
      "12000\n",
      "13000\n",
      "14000\n",
      "15000\n",
      "16000\n",
      "17000\n",
      "18000\n"
     ]
    }
   ],
   "source": [
    "from quran_ir import ArabertQuranIR\n",
    "\n",
    "arabert_quran_ir = ArabertQuranIR()"
   ],
   "metadata": {
    "collapsed": false,
    "pycharm": {
     "name": "#%%\n"
    }
   }
  },
  {
   "cell_type": "code",
   "execution_count": 8,
   "outputs": [
    {
     "data": {
      "text/plain": "                                                       آیه     شباهت\n1##2                 الْحَمْدُ لِلَّهِ رَبِّ الْعَالَمِينَ  0.706059\n37##182           وَ الْحَمْدُ لِلَّهِ رَبِّ الْعَالَمِينَ  0.683773\n6##45    فَقُطِعَ دَابِرُ الْقَوْمِ الَّذِينَ ظَلَمُوا ...  0.623493\n37##109                        سَلَامٌ عَلَىٰ إِبْرَاهِيمَ  0.617376\n41##2                تَنْزِيلٌ مِنَ الرَّحْمَنِ الرَّحِيمِ  0.601270",
      "text/html": "<div>\n<style scoped>\n    .dataframe tbody tr th:only-of-type {\n        vertical-align: middle;\n    }\n\n    .dataframe tbody tr th {\n        vertical-align: top;\n    }\n\n    .dataframe thead th {\n        text-align: right;\n    }\n</style>\n<table border=\"1\" class=\"dataframe\">\n  <thead>\n    <tr style=\"text-align: right;\">\n      <th></th>\n      <th>آیه</th>\n      <th>شباهت</th>\n    </tr>\n  </thead>\n  <tbody>\n    <tr>\n      <th>1##2</th>\n      <td>الْحَمْدُ لِلَّهِ رَبِّ الْعَالَمِينَ</td>\n      <td>0.706059</td>\n    </tr>\n    <tr>\n      <th>37##182</th>\n      <td>وَ الْحَمْدُ لِلَّهِ رَبِّ الْعَالَمِينَ</td>\n      <td>0.683773</td>\n    </tr>\n    <tr>\n      <th>6##45</th>\n      <td>فَقُطِعَ دَابِرُ الْقَوْمِ الَّذِينَ ظَلَمُوا ...</td>\n      <td>0.623493</td>\n    </tr>\n    <tr>\n      <th>37##109</th>\n      <td>سَلَامٌ عَلَىٰ إِبْرَاهِيمَ</td>\n      <td>0.617376</td>\n    </tr>\n    <tr>\n      <th>41##2</th>\n      <td>تَنْزِيلٌ مِنَ الرَّحْمَنِ الرَّحِيمِ</td>\n      <td>0.601270</td>\n    </tr>\n  </tbody>\n</table>\n</div>"
     },
     "execution_count": 8,
     "metadata": {},
     "output_type": "execute_result"
    }
   ],
   "source": [
    "from preprocess_quran_text import quran_normalizer\n",
    "\n",
    "arabert_quran_ir.get_most_similars(quran_normalizer('الحمد لله'), 5)"
   ],
   "metadata": {
    "collapsed": false,
    "pycharm": {
     "name": "#%%\n"
    }
   }
  },
  {
   "cell_type": "code",
   "execution_count": 9,
   "outputs": [
    {
     "data": {
      "text/plain": "                Query                                                آیه  \\\n0    q1 = \"الحمد لله\"                                                NaN   \n1                 NaN              الْحَمْدُ لِلَّهِ رَبِّ الْعَالَمِينَ   \n2                 NaN           وَ الْحَمْدُ لِلَّهِ رَبِّ الْعَالَمِينَ   \n3                 NaN  فَقُطِعَ دَابِرُ الْقَوْمِ الَّذِينَ ظَلَمُوا ...   \n4                 NaN                        سَلَامٌ عَلَىٰ إِبْرَاهِيمَ   \n..                ...                                                ...   \n292               NaN  تَبَارَكَ اسْمُ رَبِّكَ ذِي الْجَلَالِ وَ الْإ...   \n293               NaN  هُوَ الْحَيُّ لَا إِلَهَ إِلَّا هُوَ فَادْعُوه...   \n294               NaN                   إِنَّ إِلَىٰ رَبِّكَ الرُّجْعَىٰ   \n295               NaN                      مِنَ اللَّهِ ذِي الْمَعَارِجِ   \n296               NaN  وَ لِلَّهِ الْأَسْمَاءُ الْحُسْنَىٰ فَادْعُوهُ...   \n\n     شباهت  \n0      NaN  \n1    0.706  \n2    0.684  \n3    0.623  \n4    0.617  \n..     ...  \n292  0.575  \n293  0.562  \n294  0.561  \n295  0.553  \n296  0.551  \n\n[297 rows x 3 columns]",
      "text/html": "<div>\n<style scoped>\n    .dataframe tbody tr th:only-of-type {\n        vertical-align: middle;\n    }\n\n    .dataframe tbody tr th {\n        vertical-align: top;\n    }\n\n    .dataframe thead th {\n        text-align: right;\n    }\n</style>\n<table border=\"1\" class=\"dataframe\">\n  <thead>\n    <tr style=\"text-align: right;\">\n      <th></th>\n      <th>Query</th>\n      <th>آیه</th>\n      <th>شباهت</th>\n    </tr>\n  </thead>\n  <tbody>\n    <tr>\n      <th>0</th>\n      <td>q1 = \"الحمد لله\"</td>\n      <td>NaN</td>\n      <td>NaN</td>\n    </tr>\n    <tr>\n      <th>1</th>\n      <td>NaN</td>\n      <td>الْحَمْدُ لِلَّهِ رَبِّ الْعَالَمِينَ</td>\n      <td>0.706</td>\n    </tr>\n    <tr>\n      <th>2</th>\n      <td>NaN</td>\n      <td>وَ الْحَمْدُ لِلَّهِ رَبِّ الْعَالَمِينَ</td>\n      <td>0.684</td>\n    </tr>\n    <tr>\n      <th>3</th>\n      <td>NaN</td>\n      <td>فَقُطِعَ دَابِرُ الْقَوْمِ الَّذِينَ ظَلَمُوا ...</td>\n      <td>0.623</td>\n    </tr>\n    <tr>\n      <th>4</th>\n      <td>NaN</td>\n      <td>سَلَامٌ عَلَىٰ إِبْرَاهِيمَ</td>\n      <td>0.617</td>\n    </tr>\n    <tr>\n      <th>...</th>\n      <td>...</td>\n      <td>...</td>\n      <td>...</td>\n    </tr>\n    <tr>\n      <th>292</th>\n      <td>NaN</td>\n      <td>تَبَارَكَ اسْمُ رَبِّكَ ذِي الْجَلَالِ وَ الْإ...</td>\n      <td>0.575</td>\n    </tr>\n    <tr>\n      <th>293</th>\n      <td>NaN</td>\n      <td>هُوَ الْحَيُّ لَا إِلَهَ إِلَّا هُوَ فَادْعُوه...</td>\n      <td>0.562</td>\n    </tr>\n    <tr>\n      <th>294</th>\n      <td>NaN</td>\n      <td>إِنَّ إِلَىٰ رَبِّكَ الرُّجْعَىٰ</td>\n      <td>0.561</td>\n    </tr>\n    <tr>\n      <th>295</th>\n      <td>NaN</td>\n      <td>مِنَ اللَّهِ ذِي الْمَعَارِجِ</td>\n      <td>0.553</td>\n    </tr>\n    <tr>\n      <th>296</th>\n      <td>NaN</td>\n      <td>وَ لِلَّهِ الْأَسْمَاءُ الْحُسْنَىٰ فَادْعُوهُ...</td>\n      <td>0.551</td>\n    </tr>\n  </tbody>\n</table>\n<p>297 rows × 3 columns</p>\n</div>"
     },
     "execution_count": 9,
     "metadata": {},
     "output_type": "execute_result"
    }
   ],
   "source": [
    "arabert_quran_ir.process_queries()"
   ],
   "metadata": {
    "collapsed": false,
    "pycharm": {
     "name": "#%%\n"
    }
   }
  },
  {
   "cell_type": "code",
   "execution_count": 2,
   "outputs": [
    {
     "name": "stdout",
     "output_type": "stream",
     "text": [
      "جنات تجري من الانهار تحتها عيون\n",
      "تكذبان ربكما فباي الا\n",
      "CPU times: user 1.07 s, sys: 13.2 ms, total: 1.08 s\n",
      "Wall time: 1.09 s\n"
     ]
    }
   ],
   "source": [
    "%%time\n",
    "from Query_expansion import QueryExpansion\n",
    "query_expansion = QueryExpansion()\n",
    "print(query_expansion.expand_query('جنات تجری من'))\n",
    "print(query_expansion.expand_query('ربکما تکذبان'))"
   ],
   "metadata": {
    "collapsed": false,
    "pycharm": {
     "name": "#%%\n"
    }
   }
  },
  {
   "cell_type": "code",
   "execution_count": null,
   "outputs": [],
   "source": [],
   "metadata": {
    "collapsed": false,
    "pycharm": {
     "name": "#%%\n"
    }
   }
  }
 ],
 "metadata": {
  "kernelspec": {
   "display_name": "Python 3",
   "language": "python",
   "name": "python3"
  },
  "language_info": {
   "codemirror_mode": {
    "name": "ipython",
    "version": 2
   },
   "file_extension": ".py",
   "mimetype": "text/x-python",
   "name": "python",
   "nbconvert_exporter": "python",
   "pygments_lexer": "ipython2",
   "version": "2.7.6"
  }
 },
 "nbformat": 4,
 "nbformat_minor": 0
}