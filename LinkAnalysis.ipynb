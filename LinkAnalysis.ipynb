{
 "cells": [
  {
   "cell_type": "markdown",
   "source": [
    "<div style=\"direction:rtl\">\n",
    "<div>\n",
    "<center>\n",
    "<p style=\"font-size:30px; color:blue\">\n",
    "<strong>\n",
    "به نام خدا\n",
    "<br>\n",
    "محمدمهدی جراحی، نگین جعفری، محمدامین قاسم‌زاده\n",
    "<br>\n",
    "تمرین پنجم درس بازیابی پیشرفته‌ی اطلاعات\n",
    "</strong>\n",
    "</p>\n",
    "</center>\n",
    "</div>\n",
    "</div>"
   ],
   "metadata": {
    "collapsed": false,
    "pycharm": {
     "name": "#%% md\n"
    }
   }
  },
  {
   "cell_type": "markdown",
   "source": [
    "<div style=\"direction:rtl\">\n",
    "<div style=\"color:black;\">\n",
    "<center>\n",
    "<p style=\"font-size:30px;color:blue;\">\n",
    "<strong>\n",
    "توضیحات کلی راجع به تمرین\n",
    "</strong>\n",
    "</p>\n",
    "</center>\n",
    "در این تمرین، قصد داریم الگوریتم‌های تحلیل لینک را برای داده‌های قرانی اجرا کنیم.\n",
    "<br>\n",
    "سناریوی مورد نظر ما، سناریوی پیشنهادی اول است.\n",
    "<br>\n",
    "این سناریو به شرح زیر است:«هر آیه در حکم یک گره در نظر گرفته شده و در صورتی که دو ایه به هم شبیه بوده به یکدیگر متصل شوند. سپس با الگوریتم تحلیل لینک محوری‌ترین ایه‌ها را بیابید.»\n",
    "<br>\n",
    "نکات مهم: برای امبدینگ کلمات در این تمرین از fasttext استفاده کرده‌ایم، مدل مربوط به این تمرین همان مدل تمرین سوم است که از لینک زیر می‌توانید آن را دانلود کنید و در درون پوشه‌ی fasttext_model قرار دهید.\n",
    "https://drive.google.com/file/d/1yUYer7JXXSIkkleE3cEQlklEAdvo3aeo/view?usp=sharing\n",
    "<br>\n",
    "نکته‌ی انتهایی آنکه گزارش کتبی که در صورت سوال خواسته شده بود، در همین نوتبوک به صورت بخش بخش بعد از هر cellنوشته شده که به فهم آسان‌تر کمک می‌کند.\n",
    "</div>\n",
    "</div>"
   ],
   "metadata": {
    "collapsed": false,
    "pycharm": {
     "name": "#%% md\n"
    }
   }
  },
  {
   "cell_type": "code",
   "execution_count": null,
   "outputs": [],
   "source": [
    "# !pip install camel-tools==1.4.1\n",
    "# !pip install fasttext\n",
    "\n",
    "import matplotlib.pyplot as plt\n",
    "import pandas as pd\n",
    "from preprocess_quran_text import merged_quran_vec_df_nrmlz, quran_series\n",
    "from fasttext_vectorizer import sent_to_vec\n",
    "import networkx as nx\n",
    "import numpy as np\n",
    "from sklearn.preprocessing import normalize\n",
    "import warnings\n",
    "import tqdm\n",
    "\n",
    "warnings.filterwarnings(\"ignore\")"
   ],
   "metadata": {
    "collapsed": false,
    "pycharm": {
     "name": "#%%\n"
    }
   }
  },
  {
   "cell_type": "markdown",
   "source": [],
   "metadata": {
    "collapsed": false,
    "pycharm": {
     "name": "#%% md\n"
    }
   }
  },
  {
   "cell_type": "markdown",
   "source": [
    "<div dir=\"rtl\">\n",
    "خواندن نام سوره‌های قران و شماره‌ی آن‌ها از فایل\n",
    "<div>"
   ],
   "metadata": {
    "collapsed": false,
    "pycharm": {
     "name": "#%% md\n"
    }
   }
  },
  {
   "cell_type": "code",
   "execution_count": null,
   "outputs": [],
   "source": [
    "verse_names = pd.read_csv('data/verse_names.csv')\n",
    "verse_names.set_index(verse_names['ردیف'], inplace=True)\n",
    "verse_names"
   ],
   "metadata": {
    "collapsed": false,
    "pycharm": {
     "name": "#%%\n"
    }
   }
  },
  {
   "cell_type": "markdown",
   "source": [
    "<div dir=\"rtl\">\n",
    "محاسبه‌ی بردار امبدینگ برای آیات قرآن\n",
    "<div>"
   ],
   "metadata": {
    "collapsed": false,
    "pycharm": {
     "name": "#%% md\n"
    }
   }
  },
  {
   "cell_type": "code",
   "execution_count": null,
   "outputs": [],
   "source": [
    "merged_corpus_embeddings = merged_quran_vec_df_nrmlz.applymap(sent_to_vec)\n"
   ],
   "metadata": {
    "collapsed": false,
    "pycharm": {
     "name": "#%%\n"
    }
   }
  },
  {
   "cell_type": "markdown",
   "source": [
    "<div dir=\"rtl\">\n",
    "اضافه کردن ستون شماره‌ی سوره به دیتافریم\n",
    "<div>"
   ],
   "metadata": {
    "collapsed": false,
    "pycharm": {
     "name": "#%% md\n"
    }
   }
  },
  {
   "cell_type": "code",
   "execution_count": null,
   "outputs": [],
   "source": [
    "X = merged_corpus_embeddings[['original_normalized']]\n",
    "X['شماره سوره'] = X.index.to_series().str.split('##').apply(lambda x: int(x[0]))\n",
    "X"
   ],
   "metadata": {
    "collapsed": false,
    "pycharm": {
     "name": "#%%\n"
    }
   }
  },
  {
   "cell_type": "markdown",
   "source": [
    "<div dir=\"rtl\">\n",
    "جدا کردن دیتافریم هر سوره و لیست کردن آن‌ها پشت سرهم\n",
    "<div>"
   ],
   "metadata": {
    "collapsed": false,
    "pycharm": {
     "name": "#%% md\n"
    }
   }
  },
  {
   "cell_type": "code",
   "execution_count": null,
   "outputs": [],
   "source": [
    "list_of_verse_embeddings = [x for _, x in X.groupby(['شماره سوره'])]\n",
    "list_of_verse_embeddings"
   ],
   "metadata": {
    "collapsed": false,
    "pycharm": {
     "name": "#%%\n"
    }
   }
  },
  {
   "cell_type": "markdown",
   "source": [
    "<div dir=\"rtl\">\n",
    "نمایش گراف ساخته شده از روی ماتریس مجاورت وزنی، یال با بیشترین وزن به رنگ مشکی و سایر یال‌ها قرمز هستند. شماره‌ی نود‌ها نیز شماره‌ی آیه در سوره است.\n",
    "<div>"
   ],
   "metadata": {
    "collapsed": false,
    "pycharm": {
     "name": "#%% md\n"
    }
   }
  },
  {
   "cell_type": "code",
   "execution_count": null,
   "outputs": [],
   "source": [
    "def plot_graph(G):\n",
    "    max_d = np.max([d[\"weight\"] for (u, v, d) in G.edges(data=True)])\n",
    "    elarge = [(u, v) for (u, v, d) in G.edges(data=True) if d[\"weight\"] == max_d]\n",
    "    esmall = [(u, v) for (u, v, d) in G.edges(data=True) if d[\"weight\"] != max_d]\n",
    "\n",
    "    pos = nx.spring_layout(G, seed=7)  # positions for all nodes - seed for reproducibility\n",
    "\n",
    "    # nodes\n",
    "    nx.draw_networkx_nodes(G, pos, node_size=700)\n",
    "\n",
    "    # edges\n",
    "    nx.draw_networkx_edges(G, pos, edgelist=elarge, width=5)\n",
    "    nx.draw_networkx_edges(\n",
    "        G, pos, edgelist=esmall, width=3, alpha=0.5, edge_color=\"r\", style=\"dashed\"\n",
    "    )\n",
    "\n",
    "    # node labels\n",
    "    nx.draw_networkx_labels(G, pos, font_size=20, font_family=\"sans-serif\")\n",
    "\n",
    "    ax = plt.gca()\n",
    "    ax.margins(0.08)\n",
    "    plt.axis(\"off\")\n",
    "    plt.tight_layout()\n",
    "    plt.show()"
   ],
   "metadata": {
    "collapsed": false,
    "pycharm": {
     "name": "#%%\n"
    }
   }
  },
  {
   "cell_type": "markdown",
   "source": [
    "<div dir=\"rtl\">\n",
    "تابع find_pivot_aye دو پارامتر می‌گیرد. پارامتر verse_name نام سوره‌ای ست که می‌خواهیم برای آن ایه‌ی محوری را پیدا کنیم. همچنین draw_graph نیز مشخص می‌کند که شکل گراف رسم شود یا نه.\n",
    "<br>\n",
    "نکته: اگر خواستید نام سوره‌ای را سرچ کنید، حتما نامی از آن را سرچ کنید که در فایل verse_names موجود است.\n",
    "در این تابع ابتدا امبدینگ‌های آیه‌های مربوط به سوره‌ی مورد نظر را پیدا می‌کنیم.\n",
    "<br>\n",
    "برای آنکه بتوانیم میزان شباهت آیه‌های آن سوره را با هم بسنجیم، ماتریس امبدینگ‌ها را در ترانهاده‌ی خودش ضرب می‌کنیم.   امبدینگ‌ها نرمال یکه شده‌بودند و با ضرب داخلی آن‌ها کسینوس زاویه‌ی بینشان را محاسبه کردیم.\n",
    "<br>\n",
    "خروجی که ماتریس P است، دارای قطر اصلی برابر یک است و متقارن نیز هست. در این کاربرد، اینکه یک آیه شبیه خودش باشد، برای ما مهم نیست، لذا قطر اصلی این ماتریس را صفر می‌کنیم.  پس از آن ماتریس را نرمالایز می‌کنیم. دقت کنید که ماتریس P_norm دیگر الزاما متقارن نیست. چرا که این نرمالایز کردن به طریقی صورت می‌گیرد، که جمع هر سطر ماتریس برابر یک شود.\n",
    "<br>\n",
    "باتوجه به این اکنون گرافی که از روی ماتریس مجاورت ساخته شود، جهت دار است.\n",
    "<br>\n",
    "به این ترتیب با استفاده از الگوریتم page rank و hits آیه‌های محوری را می‌یابیم.\n",
    "<div>"
   ],
   "metadata": {
    "collapsed": false,
    "pycharm": {
     "name": "#%% md\n"
    }
   }
  },
  {
   "cell_type": "code",
   "execution_count": null,
   "outputs": [],
   "source": [
    "def find_pivot_aye(verse_name, draw_graph=False):\n",
    "    verse_number = verse_names.loc[verse_names['نام سوره'] == verse_name]['ردیف'].tolist()[0]\n",
    "    df = list_of_verse_embeddings[verse_number - 1]\n",
    "    verse_matrix = np.array(df['original_normalized'].values.tolist())\n",
    "\n",
    "    P = verse_matrix.dot(verse_matrix.T)\n",
    "    np.fill_diagonal(P, 0)\n",
    "    P_norm = normalize(P, norm='l1')\n",
    "    G = nx.from_numpy_matrix(P_norm, create_using=nx.MultiDiGraph())\n",
    "    pr = nx.pagerank(G, alpha=0.9)\n",
    "    h, a = nx.hits(G)\n",
    "\n",
    "    if draw_graph:\n",
    "        plot_graph(G)\n",
    "    pivot_aye_pr = quran_series[df.index[np.argmax(list(pr.values()))]]\n",
    "    pivot_aye_a = quran_series[df.index[np.argmax(list(a.values()))]]\n",
    "    pivot_aye_h = quran_series[df.index[np.argmax(list(h.values()))]]\n",
    "    return pd.DataFrame(\n",
    "        {'verse_name': verse_name, 'pivot_aye_pr': pivot_aye_pr, 'pivot_aye_a': pivot_aye_a,\n",
    "         'pivot_aye_h': pivot_aye_h},\n",
    "        index=[df['شماره سوره'][0]])"
   ],
   "metadata": {
    "collapsed": false,
    "pycharm": {
     "name": "#%%\n"
    }
   }
  },
  {
   "cell_type": "markdown",
   "source": [
    "<div dir=\"rtl\">\n",
    "در سوره‌ی کوثر همانطور که مشخص است آیه‌ی محوری توسط الگوریتم pr و همچنین پر امتیازترین نود a نیز آیه‌ی انا اعطیناک الکوثر است که کاملا منطقی است، پر امتیاز ترین نود هاب نیز آیه‌ی بعدی است.\n",
    "<div>"
   ],
   "metadata": {
    "collapsed": false,
    "pycharm": {
     "name": "#%% md\n"
    }
   }
  },
  {
   "cell_type": "code",
   "execution_count": null,
   "outputs": [],
   "source": [
    "find_pivot_aye('کوثر', draw_graph=True)"
   ],
   "metadata": {
    "collapsed": false,
    "pycharm": {
     "name": "#%%\n"
    }
   }
  },
  {
   "cell_type": "markdown",
   "source": [
    "<div dir=\"rtl\">\n",
    "در سوره‌ی حمد آیه‌ی محوری بر اساس pr و هم‌چنین پرامتیازترین نود a نیز آیه‌ی  بسم الله الرحمن الرحیم است. هم‌چنین پر امتیاز ترین نود هاب نیز الرحمن الرحیم است. سنگین ترین یال نیز مربوط به شباهت الرحمن الرحیم به بسم الله الرحمن الرحیم است.\n",
    "<div>"
   ],
   "metadata": {
    "collapsed": false,
    "pycharm": {
     "name": "#%% md\n"
    }
   }
  },
  {
   "cell_type": "code",
   "execution_count": null,
   "outputs": [],
   "source": [
    "find_pivot_aye('فاتحه', draw_graph=True)"
   ],
   "metadata": {
    "collapsed": false,
    "pycharm": {
     "name": "#%%\n"
    }
   }
  },
  {
   "cell_type": "markdown",
   "source": [
    "<div dir=\"rtl\">\n",
    "در سوره‌ی قدر نیز آیه‌ی انا انزلناه فی لیله القدر محوری انتخاب شده‌است که خیلی منطقی است.\n",
    "<div>"
   ],
   "metadata": {
    "collapsed": false,
    "pycharm": {
     "name": "#%% md\n"
    }
   }
  },
  {
   "cell_type": "code",
   "execution_count": null,
   "outputs": [],
   "source": [
    "find_pivot_aye('قدر', draw_graph=True)"
   ],
   "metadata": {
    "collapsed": false,
    "pycharm": {
     "name": "#%%\n"
    }
   }
  },
  {
   "cell_type": "code",
   "execution_count": null,
   "outputs": [],
   "source": [
    "find_pivot_aye('ناس' , draw_graph=True)"
   ],
   "metadata": {
    "collapsed": false,
    "pycharm": {
     "name": "#%%\n"
    }
   }
  },
  {
   "cell_type": "code",
   "execution_count": null,
   "outputs": [],
   "source": [
    "find_pivot_aye('کافرون')"
   ],
   "metadata": {
    "collapsed": false,
    "pycharm": {
     "name": "#%%\n"
    }
   }
  },
  {
   "cell_type": "code",
   "execution_count": null,
   "outputs": [],
   "source": [
    "find_pivot_aye('فلق')"
   ],
   "metadata": {
    "collapsed": false,
    "pycharm": {
     "name": "#%%\n"
    }
   }
  },
  {
   "cell_type": "code",
   "execution_count": null,
   "outputs": [],
   "source": [
    "find_pivot_aye('شمس')"
   ],
   "metadata": {
    "collapsed": false,
    "pycharm": {
     "name": "#%%\n"
    }
   }
  },
  {
   "cell_type": "markdown",
   "source": [
    "<div dir=\"rtl\">\n",
    "در بالا مثالهایی از سوره‌هایی از قران که ساده‌تر هستند، دیدیم. در زیر برای تمام سوره‌ها آیه‌ی محوری محاسبه شده‌است.\n",
    "<div>"
   ],
   "metadata": {
    "collapsed": false,
    "pycharm": {
     "name": "#%% md\n"
    }
   }
  },
  {
   "cell_type": "code",
   "execution_count": null,
   "outputs": [],
   "source": [
    "pivot_aye = pd.DataFrame()\n",
    "for index, row in tqdm.tqdm(list(verse_names.iterrows())):\n",
    "    pivot_aye = pd.concat([pivot_aye, find_pivot_aye(row['نام سوره'])])\n",
    "pivot_aye"
   ],
   "metadata": {
    "collapsed": false,
    "pycharm": {
     "name": "#%%\n"
    }
   }
  },
  {
   "cell_type": "code",
   "execution_count": null,
   "outputs": [],
   "source": [
    "print(pivot_aye['pivot_aye_a'].equals(pivot_aye['pivot_aye_h']))\n",
    "print(pivot_aye['pivot_aye_a'].equals(pivot_aye['pivot_aye_pr']))"
   ],
   "metadata": {
    "collapsed": false,
    "pycharm": {
     "name": "#%%\n"
    }
   }
  },
  {
   "cell_type": "markdown",
   "source": [
    "<div dir=\"rtl\">\n",
    "سوره‌هایی که در آن‌ها نتایج الگوریتم page rank با پرامتیاز ترین نود a متفاوت است را مشاهده می‌کنید. همانطور که مشخص است، تنها در ۶ سوره از قران این نتایج متفاوت هستند..\n",
    "<div>"
   ],
   "metadata": {
    "collapsed": false,
    "pycharm": {
     "name": "#%% md\n"
    }
   }
  },
  {
   "cell_type": "code",
   "execution_count": null,
   "outputs": [],
   "source": [
    "pivot_aye.loc[pivot_aye['pivot_aye_a'] != pivot_aye['pivot_aye_pr']]"
   ],
   "metadata": {
    "collapsed": false,
    "pycharm": {
     "name": "#%%\n"
    }
   }
  },
  {
   "cell_type": "markdown",
   "source": [
    "<div dir=\"rtl\">\n",
    "در سوره‌ی الرحمن، هم خروجی pr و پر امتیازترین نود a با هم یکی هستند. هم تنها سوره‌ای است که در آن آیه‌ی محوری پرامتیاز ترین نود هاب نیز هست. آیه نیز کاملا آیه‌ی پرتکراری در این سوره است. اگر با سوره‌ی الرحمن آشنا باشید، متوجه می‌شوید این ایه چندین بار در طول سوره تکرار می‌شود.\n",
    "<div>"
   ],
   "metadata": {
    "collapsed": false,
    "pycharm": {
     "name": "#%% md\n"
    }
   }
  },
  {
   "cell_type": "code",
   "execution_count": null,
   "outputs": [],
   "source": [
    "pivot_aye.loc[pivot_aye['pivot_aye_a'] == pivot_aye['pivot_aye_h']]"
   ],
   "metadata": {
    "collapsed": false,
    "pycharm": {
     "name": "#%%\n"
    }
   }
  },
  {
   "cell_type": "code",
   "execution_count": null,
   "outputs": [],
   "source": [
    "pivot_aye.loc[pivot_aye['pivot_aye_h'] == pivot_aye['pivot_aye_pr']]"
   ],
   "metadata": {
    "collapsed": false,
    "pycharm": {
     "name": "#%%\n"
    }
   }
  },
  {
   "cell_type": "markdown",
   "source": [
    "<div dir=\"rtl\">\n",
    "همانطور که در نتایج بالا مشخص بود، برای سوره‌هایی که دیدیم و کوتاه‌تر هستند و تسلط بیشتری بر آنان داشتیم، ایات معقول و درستی به عنوان آیات محوری خروجی داده شده بود. همچنین خروجی الگوریتم پیج رنک و هم‌چنین پرامتیاز ترین نود authority که درواقع نودی است که توسط هاب‌های خوبی به‌آن اشاره شده، تقریبا یکسان هستند.\n",
    "<div>"
   ],
   "metadata": {
    "collapsed": false,
    "pycharm": {
     "name": "#%% md\n"
    }
   }
  },
  {
   "cell_type": "code",
   "execution_count": null,
   "outputs": [],
   "source": [],
   "metadata": {
    "collapsed": false,
    "pycharm": {
     "name": "#%%\n"
    }
   }
  },
  {
   "cell_type": "markdown",
   "source": [
    "<div dir=\"rtl\">\n",
    "نمایش گراف ساخته شده از روی ماتریس مجاورت وزنی، یال با بیشترین وزن به رنگ مشکی و سایر یال‌ها قرمز هستند. شماره‌ی نود‌ها نیز شماره‌ی آیه در سوره است.\n",
    "<div>"
   ],
   "metadata": {
    "collapsed": false,
    "pycharm": {
     "name": "#%% md\n"
    }
   }
  },
  {
   "cell_type": "code",
   "execution_count": 19,
   "outputs": [],
   "source": [
    "def plot_graph(G):\n",
    "    max_d = np.max([d[\"weight\"] for (u, v, d) in G.edges(data=True)])\n",
    "    elarge = [(u, v) for (u, v, d) in G.edges(data=True) if d[\"weight\"] == max_d]\n",
    "    esmall = [(u, v) for (u, v, d) in G.edges(data=True) if d[\"weight\"] != max_d]\n",
    "\n",
    "    pos = nx.spring_layout(G, seed=7)  # positions for all nodes - seed for reproducibility\n",
    "\n",
    "    # nodes\n",
    "    nx.draw_networkx_nodes(G, pos, node_size=700)\n",
    "\n",
    "    # edges\n",
    "    nx.draw_networkx_edges(G, pos, edgelist=elarge, width=5)\n",
    "    nx.draw_networkx_edges(\n",
    "        G, pos, edgelist=esmall, width=3, alpha=0.5, edge_color=\"r\", style=\"dashed\"\n",
    "    )\n",
    "\n",
    "    # node labels\n",
    "    nx.draw_networkx_labels(G, pos, font_size=20, font_family=\"sans-serif\")\n",
    "\n",
    "    ax = plt.gca()\n",
    "    ax.margins(0.08)\n",
    "    plt.axis(\"off\")\n",
    "    plt.tight_layout()\n",
    "    plt.show()"
   ],
   "metadata": {
    "collapsed": false,
    "pycharm": {
     "name": "#%%\n"
    }
   }
  },
  {
   "cell_type": "markdown",
   "source": [
    "<div dir=\"rtl\">\n",
    "تابع find_pivot_aye دو پارامتر می‌گیرد. پارامتر verse_name نام سوره‌ای ست که می‌خواهیم برای آن ایه‌ی محوری را پیدا کنیم. همچنین draw_graph نیز مشخص می‌کند که شکل گراف رسم شود یا نه.\n",
    "<br>\n",
    "نکته: اگر خواستید نام سوره‌ای را سرچ کنید، حتما نامی از آن را سرچ کنید که در فایل verse_names موجود است.\n",
    "در این تابع ابتدا امبدینگ‌های آیه‌های مربوط به سوره‌ی مورد نظر را پیدا می‌کنیم.\n",
    "<br>\n",
    "برای آنکه بتوانیم میزان شباهت آیه‌های آن سوره را با هم بسنجیم، ماتریس امبدینگ‌ها را در ترانهاده‌ی خودش ضرب می‌کنیم.   امبدینگ‌ها نرمال یکه شده‌بودند و با ضرب داخلی آن‌ها کسینوس زاویه‌ی بینشان را محاسبه کردیم.\n",
    "<br>\n",
    "خروجی که ماتریس P است، دارای قطر اصلی برابر یک است و متقارن نیز هست. در این کاربرد، اینکه یک آیه شبیه خودش باشد، برای ما مهم نیست، لذا قطر اصلی این ماتریس را صفر می‌کنیم.  پس از آن ماتریس را نرمالایز می‌کنیم. دقت کنید که ماتریس P_norm دیگر الزاما متقارن نیست. چرا که این نرمالایز کردن به طریقی صورت می‌گیرد، که جمع هر سطر ماتریس برابر یک شود.\n",
    "<br>\n",
    "باتوجه به این اکنون گرافی که از روی ماتریس مجاورت ساخته شود، جهت دار است.\n",
    "<br>\n",
    "به این ترتیب با استفاده از الگوریتم page rank و hits آیه‌های محوری را می‌یابیم.\n",
    "<div>"
   ],
   "metadata": {
    "collapsed": false,
    "pycharm": {
     "name": "#%% md\n"
    }
   }
  },
  {
   "cell_type": "code",
   "execution_count": 20,
   "outputs": [],
   "source": [
    "def find_pivot_aye(verse_name, draw_graph=False):\n",
    "    verse_number = verse_names.loc[verse_names['نام سوره'] == verse_name]['ردیف'].tolist()[0]\n",
    "    df = list_of_verse_embeddings[verse_number - 1]\n",
    "    verse_matrix = np.array(df['original_normalized'].values.tolist())\n",
    "\n",
    "    P = verse_matrix.dot(verse_matrix.T)\n",
    "    np.fill_diagonal(P, 0)\n",
    "    P_norm = normalize(P, norm='l1')\n",
    "    G = nx.from_numpy_matrix(P_norm, create_using=nx.MultiDiGraph())\n",
    "    pr = nx.pagerank(G, alpha=0.9)\n",
    "    h, a = nx.hits(G)\n",
    "\n",
    "    if draw_graph:\n",
    "        plot_graph(G)\n",
    "    pivot_aye_pr = quran_series[df.index[np.argmax(list(pr.values()))]]\n",
    "    pivot_aye_a = quran_series[df.index[np.argmax(list(a.values()))]]\n",
    "    pivot_aye_h = quran_series[df.index[np.argmax(list(h.values()))]]\n",
    "    return pd.DataFrame(\n",
    "        {'verse_name': verse_name, 'pivot_aye_pr': pivot_aye_pr, 'pivot_aye_a': pivot_aye_a,\n",
    "         'pivot_aye_h': pivot_aye_h},\n",
    "        index=[df['شماره سوره'][0]])"
   ],
   "metadata": {
    "collapsed": false,
    "pycharm": {
     "name": "#%%\n"
    }
   }
  },
  {
   "cell_type": "markdown",
   "source": [
    "<div dir=\"rtl\">\n",
    "در سوره‌ی کوثر همانطور که مشخص است آیه‌ی محوری توسط الگوریتم pr و همچنین پر امتیازترین نود a نیز آیه‌ی انا اعطیناک الکوثر است که کاملا منطقی است، پر امتیاز ترین نود هاب نیز آیه‌ی بعدی است.\n",
    "<div>"
   ],
   "metadata": {
    "collapsed": false,
    "pycharm": {
     "name": "#%% md\n"
    }
   }
  },
  {
   "cell_type": "code",
   "execution_count": 21,
   "outputs": [
    {
     "data": {
      "text/plain": "<Figure size 432x288 with 1 Axes>",
      "image/png": "[encoded data removed]"
     },
     "metadata": {},
     "output_type": "display_data"
    },
    {
     "data": {
      "text/plain": "    verse_name                      pivot_aye_pr  \\\n108       کوثر  إِنَّا أَعْطَيْنَاكَ الْكَوْثَرَ   \n\n                          pivot_aye_a                   pivot_aye_h  \n108  إِنَّا أَعْطَيْنَاكَ الْكَوْثَرَ  فَصَلِّ لِرَبِّكَ وَ انْحَرْ  ",
      "text/html": "<div>\n<style scoped>\n    .dataframe tbody tr th:only-of-type {\n        vertical-align: middle;\n    }\n\n    .dataframe tbody tr th {\n        vertical-align: top;\n    }\n\n    .dataframe thead th {\n        text-align: right;\n    }\n</style>\n<table border=\"1\" class=\"dataframe\">\n  <thead>\n    <tr style=\"text-align: right;\">\n      <th></th>\n      <th>verse_name</th>\n      <th>pivot_aye_pr</th>\n      <th>pivot_aye_a</th>\n      <th>pivot_aye_h</th>\n    </tr>\n  </thead>\n  <tbody>\n    <tr>\n      <th>108</th>\n      <td>کوثر</td>\n      <td>إِنَّا أَعْطَيْنَاكَ الْكَوْثَرَ</td>\n      <td>إِنَّا أَعْطَيْنَاكَ الْكَوْثَرَ</td>\n      <td>فَصَلِّ لِرَبِّكَ وَ انْحَرْ</td>\n    </tr>\n  </tbody>\n</table>\n</div>"
     },
     "execution_count": 21,
     "metadata": {},
     "output_type": "execute_result"
    }
   ],
   "source": [
    "find_pivot_aye('کوثر', draw_graph=True)"
   ],
   "metadata": {
    "collapsed": false,
    "pycharm": {
     "name": "#%%\n"
    }
   }
  },
  {
   "cell_type": "markdown",
   "source": [
    "<div dir=\"rtl\">\n",
    "در سوره‌ی حمد آیه‌ی محوری بر اساس pr و هم‌چنین پرامتیازترین نود a نیز آیه‌ی  بسم الله الرحمن الرحیم است. هم‌چنین پر امتیاز ترین نود هاب نیز الرحمن الرحیم است. سنگین ترین یال نیز مربوط به شباهت الرحمن الرحیم به بسم الله الرحمن الرحیم است.\n",
    "<div>"
   ],
   "metadata": {
    "collapsed": false,
    "pycharm": {
     "name": "#%% md\n"
    }
   }
  },
  {
   "cell_type": "code",
   "execution_count": 22,
   "outputs": [
    {
     "data": {
      "text/plain": "<Figure size 432x288 with 1 Axes>",
      "image/png": "[encoded data removed]"
     },
     "metadata": {},
     "output_type": "display_data"
    },
    {
     "data": {
      "text/plain": "  verse_name                           pivot_aye_pr  \\\n1      فاتحه  بِسْمِ اللَّهِ الرَّحْمَنِ الرَّحِيمِ   \n\n                             pivot_aye_a             pivot_aye_h  \n1  بِسْمِ اللَّهِ الرَّحْمَنِ الرَّحِيمِ  الرَّحْمَنِ الرَّحِيمِ  ",
      "text/html": "<div>\n<style scoped>\n    .dataframe tbody tr th:only-of-type {\n        vertical-align: middle;\n    }\n\n    .dataframe tbody tr th {\n        vertical-align: top;\n    }\n\n    .dataframe thead th {\n        text-align: right;\n    }\n</style>\n<table border=\"1\" class=\"dataframe\">\n  <thead>\n    <tr style=\"text-align: right;\">\n      <th></th>\n      <th>verse_name</th>\n      <th>pivot_aye_pr</th>\n      <th>pivot_aye_a</th>\n      <th>pivot_aye_h</th>\n    </tr>\n  </thead>\n  <tbody>\n    <tr>\n      <th>1</th>\n      <td>فاتحه</td>\n      <td>بِسْمِ اللَّهِ الرَّحْمَنِ الرَّحِيمِ</td>\n      <td>بِسْمِ اللَّهِ الرَّحْمَنِ الرَّحِيمِ</td>\n      <td>الرَّحْمَنِ الرَّحِيمِ</td>\n    </tr>\n  </tbody>\n</table>\n</div>"
     },
     "execution_count": 22,
     "metadata": {},
     "output_type": "execute_result"
    }
   ],
   "source": [
    "find_pivot_aye('فاتحه', draw_graph=True)"
   ],
   "metadata": {
    "collapsed": false,
    "pycharm": {
     "name": "#%%\n"
    }
   }
  },
  {
   "cell_type": "markdown",
   "source": [
    "<div dir=\"rtl\">\n",
    "در سوره‌ی قدر نیز آیه‌ی انا انزلناه فی لیله القدر محوری انتخاب شده‌است که خیلی منطقی است.\n",
    "<div>"
   ],
   "metadata": {
    "collapsed": false,
    "pycharm": {
     "name": "#%% md\n"
    }
   }
  },
  {
   "cell_type": "code",
   "execution_count": 23,
   "outputs": [
    {
     "data": {
      "text/plain": "<Figure size 432x288 with 1 Axes>",
      "image/png": "[encoded data removed]"
     },
     "metadata": {},
     "output_type": "display_data"
    },
    {
     "data": {
      "text/plain": "   verse_name                                 pivot_aye_pr  \\\n97        قدر  إِنَّا أَنْزَلْنَاهُ فِي لَيْلَةِ الْقَدْرِ   \n\n                                    pivot_aye_a  \\\n97  إِنَّا أَنْزَلْنَاهُ فِي لَيْلَةِ الْقَدْرِ   \n\n                                          pivot_aye_h  \n97  تَنَزَّلُ الْمَلَائِكَةُ وَ الرُّوحُ فِيهَا بِ...  ",
      "text/html": "<div>\n<style scoped>\n    .dataframe tbody tr th:only-of-type {\n        vertical-align: middle;\n    }\n\n    .dataframe tbody tr th {\n        vertical-align: top;\n    }\n\n    .dataframe thead th {\n        text-align: right;\n    }\n</style>\n<table border=\"1\" class=\"dataframe\">\n  <thead>\n    <tr style=\"text-align: right;\">\n      <th></th>\n      <th>verse_name</th>\n      <th>pivot_aye_pr</th>\n      <th>pivot_aye_a</th>\n      <th>pivot_aye_h</th>\n    </tr>\n  </thead>\n  <tbody>\n    <tr>\n      <th>97</th>\n      <td>قدر</td>\n      <td>إِنَّا أَنْزَلْنَاهُ فِي لَيْلَةِ الْقَدْرِ</td>\n      <td>إِنَّا أَنْزَلْنَاهُ فِي لَيْلَةِ الْقَدْرِ</td>\n      <td>تَنَزَّلُ الْمَلَائِكَةُ وَ الرُّوحُ فِيهَا بِ...</td>\n    </tr>\n  </tbody>\n</table>\n</div>"
     },
     "execution_count": 23,
     "metadata": {},
     "output_type": "execute_result"
    }
   ],
   "source": [
    "find_pivot_aye('قدر', draw_graph=True)"
   ],
   "metadata": {
    "collapsed": false,
    "pycharm": {
     "name": "#%%\n"
    }
   }
  },
  {
   "cell_type": "code",
   "execution_count": 24,
   "outputs": [
    {
     "data": {
      "text/plain": "<Figure size 432x288 with 1 Axes>",
      "image/png": "[encoded data removed]"
     },
     "metadata": {},
     "output_type": "display_data"
    },
    {
     "data": {
      "text/plain": "    verse_name     pivot_aye_pr      pivot_aye_a  \\\n114        ناس  إِلَهِ النَّاسِ  إِلَهِ النَّاسِ   \n\n                             pivot_aye_h  \n114  مِنْ شَرِّ الْوَسْوَاسِ الْخَنَّاسِ  ",
      "text/html": "<div>\n<style scoped>\n    .dataframe tbody tr th:only-of-type {\n        vertical-align: middle;\n    }\n\n    .dataframe tbody tr th {\n        vertical-align: top;\n    }\n\n    .dataframe thead th {\n        text-align: right;\n    }\n</style>\n<table border=\"1\" class=\"dataframe\">\n  <thead>\n    <tr style=\"text-align: right;\">\n      <th></th>\n      <th>verse_name</th>\n      <th>pivot_aye_pr</th>\n      <th>pivot_aye_a</th>\n      <th>pivot_aye_h</th>\n    </tr>\n  </thead>\n  <tbody>\n    <tr>\n      <th>114</th>\n      <td>ناس</td>\n      <td>إِلَهِ النَّاسِ</td>\n      <td>إِلَهِ النَّاسِ</td>\n      <td>مِنْ شَرِّ الْوَسْوَاسِ الْخَنَّاسِ</td>\n    </tr>\n  </tbody>\n</table>\n</div>"
     },
     "execution_count": 24,
     "metadata": {},
     "output_type": "execute_result"
    }
   ],
   "source": [
    "find_pivot_aye('ناس' , draw_graph=True)"
   ],
   "metadata": {
    "collapsed": false,
    "pycharm": {
     "name": "#%%\n"
    }
   }
  },
  {
   "cell_type": "code",
   "execution_count": 25,
   "outputs": [
    {
     "data": {
      "text/plain": "    verse_name                             pivot_aye_pr  \\\n109     کافرون  وَ لَا أَنْتُمْ عَابِدُونَ مَا أَعْبُدُ   \n\n                                 pivot_aye_a                     pivot_aye_h  \n109  وَ لَا أَنْتُمْ عَابِدُونَ مَا أَعْبُدُ  لَكُمْ دِينُكُمْ وَ لِيَ دِينِ  ",
      "text/html": "<div>\n<style scoped>\n    .dataframe tbody tr th:only-of-type {\n        vertical-align: middle;\n    }\n\n    .dataframe tbody tr th {\n        vertical-align: top;\n    }\n\n    .dataframe thead th {\n        text-align: right;\n    }\n</style>\n<table border=\"1\" class=\"dataframe\">\n  <thead>\n    <tr style=\"text-align: right;\">\n      <th></th>\n      <th>verse_name</th>\n      <th>pivot_aye_pr</th>\n      <th>pivot_aye_a</th>\n      <th>pivot_aye_h</th>\n    </tr>\n  </thead>\n  <tbody>\n    <tr>\n      <th>109</th>\n      <td>کافرون</td>\n      <td>وَ لَا أَنْتُمْ عَابِدُونَ مَا أَعْبُدُ</td>\n      <td>وَ لَا أَنْتُمْ عَابِدُونَ مَا أَعْبُدُ</td>\n      <td>لَكُمْ دِينُكُمْ وَ لِيَ دِينِ</td>\n    </tr>\n  </tbody>\n</table>\n</div>"
     },
     "execution_count": 25,
     "metadata": {},
     "output_type": "execute_result"
    }
   ],
   "source": [
    "find_pivot_aye('کافرون')"
   ],
   "metadata": {
    "collapsed": false,
    "pycharm": {
     "name": "#%%\n"
    }
   }
  },
  {
   "cell_type": "code",
   "execution_count": 26,
   "outputs": [
    {
     "data": {
      "text/plain": "    verse_name                        pivot_aye_pr  \\\n113        فلق  وَ مِنْ شَرِّ غَاسِقٍ إِذَا وَقَبَ   \n\n                            pivot_aye_a                     pivot_aye_h  \n113  وَ مِنْ شَرِّ غَاسِقٍ إِذَا وَقَبَ  قُلْ أَعُوذُ بِرَبِّ الْفَلَقِ  ",
      "text/html": "<div>\n<style scoped>\n    .dataframe tbody tr th:only-of-type {\n        vertical-align: middle;\n    }\n\n    .dataframe tbody tr th {\n        vertical-align: top;\n    }\n\n    .dataframe thead th {\n        text-align: right;\n    }\n</style>\n<table border=\"1\" class=\"dataframe\">\n  <thead>\n    <tr style=\"text-align: right;\">\n      <th></th>\n      <th>verse_name</th>\n      <th>pivot_aye_pr</th>\n      <th>pivot_aye_a</th>\n      <th>pivot_aye_h</th>\n    </tr>\n  </thead>\n  <tbody>\n    <tr>\n      <th>113</th>\n      <td>فلق</td>\n      <td>وَ مِنْ شَرِّ غَاسِقٍ إِذَا وَقَبَ</td>\n      <td>وَ مِنْ شَرِّ غَاسِقٍ إِذَا وَقَبَ</td>\n      <td>قُلْ أَعُوذُ بِرَبِّ الْفَلَقِ</td>\n    </tr>\n  </tbody>\n</table>\n</div>"
     },
     "execution_count": 26,
     "metadata": {},
     "output_type": "execute_result"
    }
   ],
   "source": [
    "find_pivot_aye('فلق')"
   ],
   "metadata": {
    "collapsed": false,
    "pycharm": {
     "name": "#%%\n"
    }
   }
  },
  {
   "cell_type": "code",
   "execution_count": 27,
   "outputs": [
    {
     "data": {
      "text/plain": "   verse_name                            pivot_aye_pr  \\\n91        شمس  فَأَلْهَمَهَا فُجُورَهَا وَ تَقْوَاهَا   \n\n                               pivot_aye_a               pivot_aye_h  \n91  فَأَلْهَمَهَا فُجُورَهَا وَ تَقْوَاهَا  وَ الشَّمْسِ وَ ضُحَاهَا  ",
      "text/html": "<div>\n<style scoped>\n    .dataframe tbody tr th:only-of-type {\n        vertical-align: middle;\n    }\n\n    .dataframe tbody tr th {\n        vertical-align: top;\n    }\n\n    .dataframe thead th {\n        text-align: right;\n    }\n</style>\n<table border=\"1\" class=\"dataframe\">\n  <thead>\n    <tr style=\"text-align: right;\">\n      <th></th>\n      <th>verse_name</th>\n      <th>pivot_aye_pr</th>\n      <th>pivot_aye_a</th>\n      <th>pivot_aye_h</th>\n    </tr>\n  </thead>\n  <tbody>\n    <tr>\n      <th>91</th>\n      <td>شمس</td>\n      <td>فَأَلْهَمَهَا فُجُورَهَا وَ تَقْوَاهَا</td>\n      <td>فَأَلْهَمَهَا فُجُورَهَا وَ تَقْوَاهَا</td>\n      <td>وَ الشَّمْسِ وَ ضُحَاهَا</td>\n    </tr>\n  </tbody>\n</table>\n</div>"
     },
     "execution_count": 27,
     "metadata": {},
     "output_type": "execute_result"
    }
   ],
   "source": [
    "find_pivot_aye('شمس')"
   ],
   "metadata": {
    "collapsed": false,
    "pycharm": {
     "name": "#%%\n"
    }
   }
  },
  {
   "cell_type": "markdown",
   "source": [
    "<div dir=\"rtl\">\n",
    "در بالا مثالهایی از سوره‌هایی از قران که ساده‌تر هستند، دیدیم. در زیر برای تمام سوره‌ها آیه‌ی محوری محاسبه شده‌است.\n",
    "<div>"
   ],
   "metadata": {
    "collapsed": false,
    "pycharm": {
     "name": "#%% md\n"
    }
   }
  },
  {
   "cell_type": "code",
   "execution_count": 29,
   "outputs": [
    {
     "name": "stderr",
     "output_type": "stream",
     "text": [
      "100%|██████████| 114/114 [00:08<00:00, 13.34it/s]\n"
     ]
    },
    {
     "data": {
      "text/plain": "    verse_name                                       pivot_aye_pr  \\\n1        فاتحه              بِسْمِ اللَّهِ الرَّحْمَنِ الرَّحِيمِ   \n2         بقره  وَ إِذْ قَالَ إِبْرَاهِيمُ رَبِّ اجْعَلْ هَذَا...   \n3     آل عمران  وَ لَقَدْ صَدَقَكُمُ اللَّهُ وَعْدَهُ إِذْ تَح...   \n4         نساء  لَكِنِ الرَّاسِخُونَ فِي الْعِلْمِ مِنْهُمْ وَ...   \n5        مائده  وَ حَسِبُوا أَلَّا تَكُونَ فِتْنَةٌ فَعَمُوا و...   \n..         ...                                                ...   \n110        نصر  وَ رَأَيْتَ النَّاسَ يَدْخُلُونَ فِي دِينِ الل...   \n111        مسد                وَ امْرَأَتُهُ حَمَّالَةَ الْحَطَبِ   \n112      اخلاص                 وَ لَمْ يَكُنْ لَهُ كُفُوًا أَحَدٌ   \n113        فلق                 وَ مِنْ شَرِّ غَاسِقٍ إِذَا وَقَبَ   \n114        ناس                                    إِلَهِ النَّاسِ   \n\n                                           pivot_aye_a  \\\n1                بِسْمِ اللَّهِ الرَّحْمَنِ الرَّحِيمِ   \n2    وَ إِذْ قَالَ إِبْرَاهِيمُ رَبِّ اجْعَلْ هَذَا...   \n3    وَ لَقَدْ صَدَقَكُمُ اللَّهُ وَعْدَهُ إِذْ تَح...   \n4    لَكِنِ الرَّاسِخُونَ فِي الْعِلْمِ مِنْهُمْ وَ...   \n5    وَ حَسِبُوا أَلَّا تَكُونَ فِتْنَةٌ فَعَمُوا و...   \n..                                                 ...   \n110  وَ رَأَيْتَ النَّاسَ يَدْخُلُونَ فِي دِينِ الل...   \n111                وَ امْرَأَتُهُ حَمَّالَةَ الْحَطَبِ   \n112                 وَ لَمْ يَكُنْ لَهُ كُفُوًا أَحَدٌ   \n113                 وَ مِنْ شَرِّ غَاسِقٍ إِذَا وَقَبَ   \n114                                    إِلَهِ النَّاسِ   \n\n                                           pivot_aye_h  \n1                               الرَّحْمَنِ الرَّحِيمِ  \n2    وَ قَاتِلُوا فِي سَبِيلِ اللَّهِ وَ اعْلَمُوا ...  \n3    يَا أَيُّهَا الَّذِينَ آمَنُوا إِنْ تُطِيعُوا ...  \n4    يَا أَيُّهَا الَّذِينَ آمَنُوا خُذُوا حِذْرَكُ...  \n5    أُحِلَّ لَكُمْ صَيْدُ الْبَحْرِ وَ طَعَامُهُ م...  \n..                                                 ...  \n110            إِذَا جَاءَ نَصْرُ اللَّهِ وَ الْفَتْحُ  \n111          مَا أَغْنَىٰ عَنْهُ مَالُهُ وَ مَا كَسَبَ  \n112                           قُلْ هُوَ اللَّهُ أَحَدٌ  \n113                     قُلْ أَعُوذُ بِرَبِّ الْفَلَقِ  \n114                مِنْ شَرِّ الْوَسْوَاسِ الْخَنَّاسِ  \n\n[114 rows x 4 columns]",
      "text/html": "<div>\n<style scoped>\n    .dataframe tbody tr th:only-of-type {\n        vertical-align: middle;\n    }\n\n    .dataframe tbody tr th {\n        vertical-align: top;\n    }\n\n    .dataframe thead th {\n        text-align: right;\n    }\n</style>\n<table border=\"1\" class=\"dataframe\">\n  <thead>\n    <tr style=\"text-align: right;\">\n      <th></th>\n      <th>verse_name</th>\n      <th>pivot_aye_pr</th>\n      <th>pivot_aye_a</th>\n      <th>pivot_aye_h</th>\n    </tr>\n  </thead>\n  <tbody>\n    <tr>\n      <th>1</th>\n      <td>فاتحه</td>\n      <td>بِسْمِ اللَّهِ الرَّحْمَنِ الرَّحِيمِ</td>\n      <td>بِسْمِ اللَّهِ الرَّحْمَنِ الرَّحِيمِ</td>\n      <td>الرَّحْمَنِ الرَّحِيمِ</td>\n    </tr>\n    <tr>\n      <th>2</th>\n      <td>بقره</td>\n      <td>وَ إِذْ قَالَ إِبْرَاهِيمُ رَبِّ اجْعَلْ هَذَا...</td>\n      <td>وَ إِذْ قَالَ إِبْرَاهِيمُ رَبِّ اجْعَلْ هَذَا...</td>\n      <td>وَ قَاتِلُوا فِي سَبِيلِ اللَّهِ وَ اعْلَمُوا ...</td>\n    </tr>\n    <tr>\n      <th>3</th>\n      <td>آل عمران</td>\n      <td>وَ لَقَدْ صَدَقَكُمُ اللَّهُ وَعْدَهُ إِذْ تَح...</td>\n      <td>وَ لَقَدْ صَدَقَكُمُ اللَّهُ وَعْدَهُ إِذْ تَح...</td>\n      <td>يَا أَيُّهَا الَّذِينَ آمَنُوا إِنْ تُطِيعُوا ...</td>\n    </tr>\n    <tr>\n      <th>4</th>\n      <td>نساء</td>\n      <td>لَكِنِ الرَّاسِخُونَ فِي الْعِلْمِ مِنْهُمْ وَ...</td>\n      <td>لَكِنِ الرَّاسِخُونَ فِي الْعِلْمِ مِنْهُمْ وَ...</td>\n      <td>يَا أَيُّهَا الَّذِينَ آمَنُوا خُذُوا حِذْرَكُ...</td>\n    </tr>\n    <tr>\n      <th>5</th>\n      <td>مائده</td>\n      <td>وَ حَسِبُوا أَلَّا تَكُونَ فِتْنَةٌ فَعَمُوا و...</td>\n      <td>وَ حَسِبُوا أَلَّا تَكُونَ فِتْنَةٌ فَعَمُوا و...</td>\n      <td>أُحِلَّ لَكُمْ صَيْدُ الْبَحْرِ وَ طَعَامُهُ م...</td>\n    </tr>\n    <tr>\n      <th>...</th>\n      <td>...</td>\n      <td>...</td>\n      <td>...</td>\n      <td>...</td>\n    </tr>\n    <tr>\n      <th>110</th>\n      <td>نصر</td>\n      <td>وَ رَأَيْتَ النَّاسَ يَدْخُلُونَ فِي دِينِ الل...</td>\n      <td>وَ رَأَيْتَ النَّاسَ يَدْخُلُونَ فِي دِينِ الل...</td>\n      <td>إِذَا جَاءَ نَصْرُ اللَّهِ وَ الْفَتْحُ</td>\n    </tr>\n    <tr>\n      <th>111</th>\n      <td>مسد</td>\n      <td>وَ امْرَأَتُهُ حَمَّالَةَ الْحَطَبِ</td>\n      <td>وَ امْرَأَتُهُ حَمَّالَةَ الْحَطَبِ</td>\n      <td>مَا أَغْنَىٰ عَنْهُ مَالُهُ وَ مَا كَسَبَ</td>\n    </tr>\n    <tr>\n      <th>112</th>\n      <td>اخلاص</td>\n      <td>وَ لَمْ يَكُنْ لَهُ كُفُوًا أَحَدٌ</td>\n      <td>وَ لَمْ يَكُنْ لَهُ كُفُوًا أَحَدٌ</td>\n      <td>قُلْ هُوَ اللَّهُ أَحَدٌ</td>\n    </tr>\n    <tr>\n      <th>113</th>\n      <td>فلق</td>\n      <td>وَ مِنْ شَرِّ غَاسِقٍ إِذَا وَقَبَ</td>\n      <td>وَ مِنْ شَرِّ غَاسِقٍ إِذَا وَقَبَ</td>\n      <td>قُلْ أَعُوذُ بِرَبِّ الْفَلَقِ</td>\n    </tr>\n    <tr>\n      <th>114</th>\n      <td>ناس</td>\n      <td>إِلَهِ النَّاسِ</td>\n      <td>إِلَهِ النَّاسِ</td>\n      <td>مِنْ شَرِّ الْوَسْوَاسِ الْخَنَّاسِ</td>\n    </tr>\n  </tbody>\n</table>\n<p>114 rows × 4 columns</p>\n</div>"
     },
     "execution_count": 29,
     "metadata": {},
     "output_type": "execute_result"
    }
   ],
   "source": [
    "pivot_aye = pd.DataFrame()\n",
    "for index, row in tqdm.tqdm(list(verse_names.iterrows())):\n",
    "    pivot_aye = pd.concat([pivot_aye, find_pivot_aye(row['نام سوره'])])\n",
    "pivot_aye"
   ],
   "metadata": {
    "collapsed": false,
    "pycharm": {
     "name": "#%%\n"
    }
   }
  },
  {
   "cell_type": "code",
   "execution_count": 30,
   "outputs": [
    {
     "name": "stdout",
     "output_type": "stream",
     "text": [
      "False\n",
      "False\n"
     ]
    }
   ],
   "source": [
    "print(pivot_aye['pivot_aye_a'].equals(pivot_aye['pivot_aye_h']))\n",
    "print(pivot_aye['pivot_aye_a'].equals(pivot_aye['pivot_aye_pr']))"
   ],
   "metadata": {
    "collapsed": false,
    "pycharm": {
     "name": "#%%\n"
    }
   }
  },
  {
   "cell_type": "markdown",
   "source": [
    "<div dir=\"rtl\">\n",
    "سوره‌هایی که در آن‌ها نتایج الگوریتم page rank با پرامتیاز ترین نود a متفاوت است را مشاهده می‌کنید. همانطور که مشخص است، تنها در ۶ سوره از قران این نتایج متفاوت هستند..\n",
    "<div>"
   ],
   "metadata": {
    "collapsed": false,
    "pycharm": {
     "name": "#%% md\n"
    }
   }
  },
  {
   "cell_type": "code",
   "execution_count": 31,
   "outputs": [
    {
     "data": {
      "text/plain": "   verse_name                                       pivot_aye_pr  \\\n32       سجدة  وَ لَوْ تَرَىٰ إِذِ الْمُجْرِمُونَ نَاكِسُو رُ...   \n81      تکویر                       وَ إِذَا الْوُحُوشُ حُشِرَتْ   \n99      زلزله   وَ مَنْ يَعْمَلْ مِثْقَالَ ذَرَّةٍ شَرًّا يَرَهُ   \n\n                                          pivot_aye_a  \\\n32  أَ وَ لَمْ يَرَوْا أَنَّا نَسُوقُ الْمَاءَ إِل...   \n81                               فَأَيْنَ تَذْهَبُونَ   \n99               وَ أَخْرَجَتِ الْأَرْضُ أَثْقَالَهَا   \n\n                       pivot_aye_h  \n32                             الم  \n81   وَ إِذَا الْجِبَالُ سُيِّرَتْ  \n99  بِأَنَّ رَبَّكَ أَوْحَىٰ لَهَا  ",
      "text/html": "<div>\n<style scoped>\n    .dataframe tbody tr th:only-of-type {\n        vertical-align: middle;\n    }\n\n    .dataframe tbody tr th {\n        vertical-align: top;\n    }\n\n    .dataframe thead th {\n        text-align: right;\n    }\n</style>\n<table border=\"1\" class=\"dataframe\">\n  <thead>\n    <tr style=\"text-align: right;\">\n      <th></th>\n      <th>verse_name</th>\n      <th>pivot_aye_pr</th>\n      <th>pivot_aye_a</th>\n      <th>pivot_aye_h</th>\n    </tr>\n  </thead>\n  <tbody>\n    <tr>\n      <th>32</th>\n      <td>سجدة</td>\n      <td>وَ لَوْ تَرَىٰ إِذِ الْمُجْرِمُونَ نَاكِسُو رُ...</td>\n      <td>أَ وَ لَمْ يَرَوْا أَنَّا نَسُوقُ الْمَاءَ إِل...</td>\n      <td>الم</td>\n    </tr>\n    <tr>\n      <th>81</th>\n      <td>تکویر</td>\n      <td>وَ إِذَا الْوُحُوشُ حُشِرَتْ</td>\n      <td>فَأَيْنَ تَذْهَبُونَ</td>\n      <td>وَ إِذَا الْجِبَالُ سُيِّرَتْ</td>\n    </tr>\n    <tr>\n      <th>99</th>\n      <td>زلزله</td>\n      <td>وَ مَنْ يَعْمَلْ مِثْقَالَ ذَرَّةٍ شَرًّا يَرَهُ</td>\n      <td>وَ أَخْرَجَتِ الْأَرْضُ أَثْقَالَهَا</td>\n      <td>بِأَنَّ رَبَّكَ أَوْحَىٰ لَهَا</td>\n    </tr>\n  </tbody>\n</table>\n</div>"
     },
     "execution_count": 31,
     "metadata": {},
     "output_type": "execute_result"
    }
   ],
   "source": [
    "pivot_aye.loc[pivot_aye['pivot_aye_a'] != pivot_aye['pivot_aye_pr']]"
   ],
   "metadata": {
    "collapsed": false,
    "pycharm": {
     "name": "#%%\n"
    }
   }
  },
  {
   "cell_type": "markdown",
   "source": [
    "<div dir=\"rtl\">\n",
    "در سوره‌ی الرحمن، هم خروجی pr و پر امتیازترین نود a با هم یکی هستند. هم تنها سوره‌ای است که در آن آیه‌ی محوری پرامتیاز ترین نود هاب نیز هست. آیه نیز کاملا آیه‌ی پرتکراری در این سوره است. اگر با سوره‌ی الرحمن آشنا باشید، متوجه می‌شوید این ایه چندین بار در طول سوره تکرار می‌شود.\n",
    "<div>"
   ],
   "metadata": {
    "collapsed": false,
    "pycharm": {
     "name": "#%% md\n"
    }
   }
  },
  {
   "cell_type": "code",
   "execution_count": 32,
   "outputs": [
    {
     "data": {
      "text/plain": "   verse_name                              pivot_aye_pr  \\\n55     الرحمن  فَبِأَيِّ آلَاءِ رَبِّكُمَا تُكَذِّبَانِ   \n\n                                 pivot_aye_a  \\\n55  فَبِأَيِّ آلَاءِ رَبِّكُمَا تُكَذِّبَانِ   \n\n                                 pivot_aye_h  \n55  فَبِأَيِّ آلَاءِ رَبِّكُمَا تُكَذِّبَانِ  ",
      "text/html": "<div>\n<style scoped>\n    .dataframe tbody tr th:only-of-type {\n        vertical-align: middle;\n    }\n\n    .dataframe tbody tr th {\n        vertical-align: top;\n    }\n\n    .dataframe thead th {\n        text-align: right;\n    }\n</style>\n<table border=\"1\" class=\"dataframe\">\n  <thead>\n    <tr style=\"text-align: right;\">\n      <th></th>\n      <th>verse_name</th>\n      <th>pivot_aye_pr</th>\n      <th>pivot_aye_a</th>\n      <th>pivot_aye_h</th>\n    </tr>\n  </thead>\n  <tbody>\n    <tr>\n      <th>55</th>\n      <td>الرحمن</td>\n      <td>فَبِأَيِّ آلَاءِ رَبِّكُمَا تُكَذِّبَانِ</td>\n      <td>فَبِأَيِّ آلَاءِ رَبِّكُمَا تُكَذِّبَانِ</td>\n      <td>فَبِأَيِّ آلَاءِ رَبِّكُمَا تُكَذِّبَانِ</td>\n    </tr>\n  </tbody>\n</table>\n</div>"
     },
     "execution_count": 32,
     "metadata": {},
     "output_type": "execute_result"
    }
   ],
   "source": [
    "pivot_aye.loc[pivot_aye['pivot_aye_a'] == pivot_aye['pivot_aye_h']]"
   ],
   "metadata": {
    "collapsed": false,
    "pycharm": {
     "name": "#%%\n"
    }
   }
  },
  {
   "cell_type": "code",
   "execution_count": 33,
   "outputs": [
    {
     "data": {
      "text/plain": "   verse_name                              pivot_aye_pr  \\\n55     الرحمن  فَبِأَيِّ آلَاءِ رَبِّكُمَا تُكَذِّبَانِ   \n\n                                 pivot_aye_a  \\\n55  فَبِأَيِّ آلَاءِ رَبِّكُمَا تُكَذِّبَانِ   \n\n                                 pivot_aye_h  \n55  فَبِأَيِّ آلَاءِ رَبِّكُمَا تُكَذِّبَانِ  ",
      "text/html": "<div>\n<style scoped>\n    .dataframe tbody tr th:only-of-type {\n        vertical-align: middle;\n    }\n\n    .dataframe tbody tr th {\n        vertical-align: top;\n    }\n\n    .dataframe thead th {\n        text-align: right;\n    }\n</style>\n<table border=\"1\" class=\"dataframe\">\n  <thead>\n    <tr style=\"text-align: right;\">\n      <th></th>\n      <th>verse_name</th>\n      <th>pivot_aye_pr</th>\n      <th>pivot_aye_a</th>\n      <th>pivot_aye_h</th>\n    </tr>\n  </thead>\n  <tbody>\n    <tr>\n      <th>55</th>\n      <td>الرحمن</td>\n      <td>فَبِأَيِّ آلَاءِ رَبِّكُمَا تُكَذِّبَانِ</td>\n      <td>فَبِأَيِّ آلَاءِ رَبِّكُمَا تُكَذِّبَانِ</td>\n      <td>فَبِأَيِّ آلَاءِ رَبِّكُمَا تُكَذِّبَانِ</td>\n    </tr>\n  </tbody>\n</table>\n</div>"
     },
     "execution_count": 33,
     "metadata": {},
     "output_type": "execute_result"
    }
   ],
   "source": [
    "pivot_aye.loc[pivot_aye['pivot_aye_h'] == pivot_aye['pivot_aye_pr']]"
   ],
   "metadata": {
    "collapsed": false,
    "pycharm": {
     "name": "#%%\n"
    }
   }
  },
  {
   "cell_type": "markdown",
   "source": [
    "<div dir=\"rtl\">\n",
    "همانطور که در نتایج بالا مشخص بود، برای سوره‌هایی که دیدیم و کوتاه‌تر هستند و تسلط بیشتری بر آنان داشتیم، ایات معقول و درستی به عنوان آیات محوری خروجی داده شده بود. همچنین خروجی الگوریتم پیج رنک و هم‌چنین پرامتیاز ترین نود authority که درواقع نودی است که توسط هاب‌های خوبی به‌آن اشاره شده، تقریبا یکسان هستند.\n",
    "<div>"
   ],
   "metadata": {
    "collapsed": false,
    "pycharm": {
     "name": "#%% md\n"
    }
   }
  },
  {
   "cell_type": "code",
   "execution_count": null,
   "outputs": [],
   "source": [],
   "metadata": {
    "collapsed": false,
    "pycharm": {
     "name": "#%%\n"
    }
   }
  }
 ],
 "metadata": {
  "kernelspec": {
   "display_name": "Python 3",
   "language": "python",
   "name": "python3"
  },
  "language_info": {
   "codemirror_mode": {
    "name": "ipython",
    "version": 2
   },
   "file_extension": ".py",
   "mimetype": "text/x-python",
   "name": "python",
   "nbconvert_exporter": "python",
   "pygments_lexer": "ipython2",
   "version": "2.7.6"
  }
 },
 "nbformat": 4,
 "nbformat_minor": 0
}