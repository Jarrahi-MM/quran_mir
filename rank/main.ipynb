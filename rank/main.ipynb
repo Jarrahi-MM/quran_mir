{
 "cells": [
  {
   "cell_type": "code",
   "execution_count": 1,
   "metadata": {},
   "outputs": [],
   "source": [
    "import numpy as np\n",
    "import pandas as pd\n"
   ]
  },
  {
   "cell_type": "markdown",
   "metadata": {},
   "source": [
    "<div dir=\"rtl\">\n",
    "\n",
    "به منظور حاصل آمدن هر چه دقیق‌تر نتایج، پس از به دست آمدن نتایج یکبار آنها را مرتب‌سازی می‌کنیم. این مرتب‌سازی بر اساس نتایج حاصله از الگوریتم HITS که در تمرین پنج استفاده شده است انجام ‌میشود. معیار مرتبط سازی امتیازی Authority هر آیه است. به منظور سرعت در جستوجو صرفا از نتایج حاصل از اجرای الگوریتم به صورت آفلاین استفاده می‌کنیم.\n",
    "\n",
    "یک چالش در حل این مساله حفظ ارتباط نتایج به پرسمان اصلی است. به عنوان مثال فرض کنید که نتیجه 10ام جستوجو امتیازی Authority بسیار بالایی دارد و در نتیجه پس از جستوجو به رتبه‌های اول صعور می‌کند اما ممکن است که این آیه ارتباط زیادی با پرسمان اصلی نداشته باشد. به این منظور ابتدا آیات مورد نظر را به پاره لیست‌هایی با اندازه‌های مساوی تقسیم می‌کنیم و سپس هر پاره لیست را جداگانه مرتبط می‌کنیم.\n",
    "\n",
    "</div>"
   ]
  },
  {
   "cell_type": "code",
   "execution_count": 2,
   "metadata": {},
   "outputs": [
    {
     "data": {
      "text/html": [
       "<div>\n",
       "<style scoped>\n",
       "    .dataframe tbody tr th:only-of-type {\n",
       "        vertical-align: middle;\n",
       "    }\n",
       "\n",
       "    .dataframe tbody tr th {\n",
       "        vertical-align: top;\n",
       "    }\n",
       "\n",
       "    .dataframe thead th {\n",
       "        text-align: right;\n",
       "    }\n",
       "</style>\n",
       "<table border=\"1\" class=\"dataframe\">\n",
       "  <thead>\n",
       "    <tr style=\"text-align: right;\">\n",
       "      <th></th>\n",
       "      <th>rank</th>\n",
       "      <th>index</th>\n",
       "      <th>chapter</th>\n",
       "      <th>verse</th>\n",
       "      <th>text</th>\n",
       "    </tr>\n",
       "  </thead>\n",
       "  <tbody>\n",
       "    <tr>\n",
       "      <th>0</th>\n",
       "      <td>0</td>\n",
       "      <td>288</td>\n",
       "      <td>2</td>\n",
       "      <td>282</td>\n",
       "      <td>يَا أَيُّهَا الَّذِينَ آمَنُوا إِذَا تَدَايَنت...</td>\n",
       "    </tr>\n",
       "    <tr>\n",
       "      <th>1</th>\n",
       "      <td>1</td>\n",
       "      <td>446</td>\n",
       "      <td>3</td>\n",
       "      <td>154</td>\n",
       "      <td>ثُمَّ أَنزَلَ عَلَيْكُم مِّن بَعْدِ الْغَمِّ أ...</td>\n",
       "    </tr>\n",
       "    <tr>\n",
       "      <th>2</th>\n",
       "      <td>2</td>\n",
       "      <td>5150</td>\n",
       "      <td>60</td>\n",
       "      <td>1</td>\n",
       "      <td>بِسْمِ اللَّهِ الرَّحْمَـٰنِ الرَّحِيمِ يَا أَ...</td>\n",
       "    </tr>\n",
       "    <tr>\n",
       "      <th>3</th>\n",
       "      <td>3</td>\n",
       "      <td>1122</td>\n",
       "      <td>7</td>\n",
       "      <td>169</td>\n",
       "      <td>فَخَلَفَ مِن بَعْدِهِمْ خَلْفٌ وَرِثُوا الْكِت...</td>\n",
       "    </tr>\n",
       "    <tr>\n",
       "      <th>4</th>\n",
       "      <td>4</td>\n",
       "      <td>5153</td>\n",
       "      <td>60</td>\n",
       "      <td>4</td>\n",
       "      <td>قَدْ كَانَتْ لَكُمْ أُسْوَةٌ حَسَنَةٌ فِي إِبْ...</td>\n",
       "    </tr>\n",
       "    <tr>\n",
       "      <th>5</th>\n",
       "      <td>5</td>\n",
       "      <td>586</td>\n",
       "      <td>4</td>\n",
       "      <td>94</td>\n",
       "      <td>يَا أَيُّهَا الَّذِينَ آمَنُوا إِذَا ضَرَبْتُم...</td>\n",
       "    </tr>\n",
       "    <tr>\n",
       "      <th>6</th>\n",
       "      <td>6</td>\n",
       "      <td>671</td>\n",
       "      <td>5</td>\n",
       "      <td>3</td>\n",
       "      <td>حُرِّمَتْ عَلَيْكُمُ الْمَيْتَةُ وَالدَّمُ وَل...</td>\n",
       "    </tr>\n",
       "    <tr>\n",
       "      <th>7</th>\n",
       "      <td>7</td>\n",
       "      <td>515</td>\n",
       "      <td>4</td>\n",
       "      <td>23</td>\n",
       "      <td>حُرِّمَتْ عَلَيْكُمْ أُمَّهَاتُكُمْ وَبَنَاتُك...</td>\n",
       "    </tr>\n",
       "    <tr>\n",
       "      <th>8</th>\n",
       "      <td>8</td>\n",
       "      <td>5110</td>\n",
       "      <td>58</td>\n",
       "      <td>7</td>\n",
       "      <td>أَلَمْ تَرَ أَنَّ اللَّهَ يَعْلَمُ مَا فِي الس...</td>\n",
       "    </tr>\n",
       "    <tr>\n",
       "      <th>9</th>\n",
       "      <td>9</td>\n",
       "      <td>685</td>\n",
       "      <td>5</td>\n",
       "      <td>17</td>\n",
       "      <td>لَّقَدْ كَفَرَ الَّذِينَ قَالُوا إِنَّ اللَّهَ...</td>\n",
       "    </tr>\n",
       "    <tr>\n",
       "      <th>10</th>\n",
       "      <td>10</td>\n",
       "      <td>3585</td>\n",
       "      <td>33</td>\n",
       "      <td>53</td>\n",
       "      <td>يَا أَيُّهَا الَّذِينَ آمَنُوا لَا تَدْخُلُوا ...</td>\n",
       "    </tr>\n",
       "    <tr>\n",
       "      <th>11</th>\n",
       "      <td>11</td>\n",
       "      <td>1758</td>\n",
       "      <td>14</td>\n",
       "      <td>9</td>\n",
       "      <td>أَلَمْ يَأْتِكُمْ نَبَأُ الَّذِينَ مِن قَبْلِك...</td>\n",
       "    </tr>\n",
       "    <tr>\n",
       "      <th>12</th>\n",
       "      <td>12</td>\n",
       "      <td>367</td>\n",
       "      <td>3</td>\n",
       "      <td>75</td>\n",
       "      <td>وَمِنْ أَهْلِ الْكِتَابِ مَنْ إِن تَأْمَنْهُ ب...</td>\n",
       "    </tr>\n",
       "    <tr>\n",
       "      <th>13</th>\n",
       "      <td>13</td>\n",
       "      <td>1352</td>\n",
       "      <td>9</td>\n",
       "      <td>118</td>\n",
       "      <td>وَعَلَى الثَّلَاثَةِ الَّذِينَ خُلِّفُوا حَتَّ...</td>\n",
       "    </tr>\n",
       "    <tr>\n",
       "      <th>14</th>\n",
       "      <td>14</td>\n",
       "      <td>1308</td>\n",
       "      <td>9</td>\n",
       "      <td>74</td>\n",
       "      <td>يَحْلِفُونَ بِاللَّهِ مَا قَالُوا وَلَقَدْ قَا...</td>\n",
       "    </tr>\n",
       "    <tr>\n",
       "      <th>15</th>\n",
       "      <td>15</td>\n",
       "      <td>709</td>\n",
       "      <td>5</td>\n",
       "      <td>41</td>\n",
       "      <td>يَا أَيُّهَا الرَّسُولُ لَا يَحْزُنكَ الَّذِين...</td>\n",
       "    </tr>\n",
       "    <tr>\n",
       "      <th>16</th>\n",
       "      <td>16</td>\n",
       "      <td>5494</td>\n",
       "      <td>73</td>\n",
       "      <td>20</td>\n",
       "      <td>إِنَّ رَبَّكَ يَعْلَمُ أَنَّكَ تَقُومُ أَدْنَى...</td>\n",
       "    </tr>\n",
       "    <tr>\n",
       "      <th>17</th>\n",
       "      <td>17</td>\n",
       "      <td>1038</td>\n",
       "      <td>7</td>\n",
       "      <td>85</td>\n",
       "      <td>وَإِلَىٰ مَدْيَنَ أَخَاهُمْ شُعَيْبًا قَالَ يَ...</td>\n",
       "    </tr>\n",
       "    <tr>\n",
       "      <th>18</th>\n",
       "      <td>18</td>\n",
       "      <td>535</td>\n",
       "      <td>4</td>\n",
       "      <td>43</td>\n",
       "      <td>يَا أَيُّهَا الَّذِينَ آمَنُوا لَا تَقْرَبُوا ...</td>\n",
       "    </tr>\n",
       "    <tr>\n",
       "      <th>19</th>\n",
       "      <td>19</td>\n",
       "      <td>712</td>\n",
       "      <td>5</td>\n",
       "      <td>44</td>\n",
       "      <td>إِنَّا أَنزَلْنَا التَّوْرَاةَ فِيهَا هُدًى وَ...</td>\n",
       "    </tr>\n",
       "  </tbody>\n",
       "</table>\n",
       "</div>"
      ],
      "text/plain": [
       "    rank  index  chapter  verse  \\\n",
       "0      0    288        2    282   \n",
       "1      1    446        3    154   \n",
       "2      2   5150       60      1   \n",
       "3      3   1122        7    169   \n",
       "4      4   5153       60      4   \n",
       "5      5    586        4     94   \n",
       "6      6    671        5      3   \n",
       "7      7    515        4     23   \n",
       "8      8   5110       58      7   \n",
       "9      9    685        5     17   \n",
       "10    10   3585       33     53   \n",
       "11    11   1758       14      9   \n",
       "12    12    367        3     75   \n",
       "13    13   1352        9    118   \n",
       "14    14   1308        9     74   \n",
       "15    15    709        5     41   \n",
       "16    16   5494       73     20   \n",
       "17    17   1038        7     85   \n",
       "18    18    535        4     43   \n",
       "19    19    712        5     44   \n",
       "\n",
       "                                                 text  \n",
       "0   يَا أَيُّهَا الَّذِينَ آمَنُوا إِذَا تَدَايَنت...  \n",
       "1   ثُمَّ أَنزَلَ عَلَيْكُم مِّن بَعْدِ الْغَمِّ أ...  \n",
       "2   بِسْمِ اللَّهِ الرَّحْمَـٰنِ الرَّحِيمِ يَا أَ...  \n",
       "3   فَخَلَفَ مِن بَعْدِهِمْ خَلْفٌ وَرِثُوا الْكِت...  \n",
       "4   قَدْ كَانَتْ لَكُمْ أُسْوَةٌ حَسَنَةٌ فِي إِبْ...  \n",
       "5   يَا أَيُّهَا الَّذِينَ آمَنُوا إِذَا ضَرَبْتُم...  \n",
       "6   حُرِّمَتْ عَلَيْكُمُ الْمَيْتَةُ وَالدَّمُ وَل...  \n",
       "7   حُرِّمَتْ عَلَيْكُمْ أُمَّهَاتُكُمْ وَبَنَاتُك...  \n",
       "8   أَلَمْ تَرَ أَنَّ اللَّهَ يَعْلَمُ مَا فِي الس...  \n",
       "9   لَّقَدْ كَفَرَ الَّذِينَ قَالُوا إِنَّ اللَّهَ...  \n",
       "10  يَا أَيُّهَا الَّذِينَ آمَنُوا لَا تَدْخُلُوا ...  \n",
       "11  أَلَمْ يَأْتِكُمْ نَبَأُ الَّذِينَ مِن قَبْلِك...  \n",
       "12  وَمِنْ أَهْلِ الْكِتَابِ مَنْ إِن تَأْمَنْهُ ب...  \n",
       "13  وَعَلَى الثَّلَاثَةِ الَّذِينَ خُلِّفُوا حَتَّ...  \n",
       "14  يَحْلِفُونَ بِاللَّهِ مَا قَالُوا وَلَقَدْ قَا...  \n",
       "15  يَا أَيُّهَا الرَّسُولُ لَا يَحْزُنكَ الَّذِين...  \n",
       "16  إِنَّ رَبَّكَ يَعْلَمُ أَنَّكَ تَقُومُ أَدْنَى...  \n",
       "17  وَإِلَىٰ مَدْيَنَ أَخَاهُمْ شُعَيْبًا قَالَ يَ...  \n",
       "18  يَا أَيُّهَا الَّذِينَ آمَنُوا لَا تَقْرَبُوا ...  \n",
       "19  إِنَّا أَنزَلْنَا التَّوْرَاةَ فِيهَا هُدًى وَ...  "
      ]
     },
     "execution_count": 2,
     "metadata": {},
     "output_type": "execute_result"
    }
   ],
   "source": [
    "ranks = pd.read_csv('ranks.csv')\n",
    "ranks.head(20)"
   ]
  },
  {
   "cell_type": "code",
   "execution_count": 3,
   "metadata": {},
   "outputs": [],
   "source": [
    "def get_rank(surah_number, verse_number):\n",
    "    try:\n",
    "        return ranks[(ranks['chapter'] == surah_number) & (ranks['verse'] == verse_number)].iloc[0]['rank']\n",
    "    except:\n",
    "        return float('inf')\n"
   ]
  },
  {
   "cell_type": "code",
   "execution_count": 4,
   "metadata": {},
   "outputs": [],
   "source": [
    "test = [\n",
    "    {\n",
    "        'surah_number': 5,\n",
    "        'verse_number': 17,\n",
    "    },\n",
    "    {\n",
    "        'surah_number': 9,\n",
    "        'verse_number': 118,\n",
    "    },\n",
    "    {\n",
    "        'surah_number': 14,\n",
    "        'verse_number': 9,\n",
    "    },\n",
    "        {\n",
    "        'surah_number': 2,\n",
    "        'verse_number': 282,\n",
    "    },\n",
    "]"
   ]
  },
  {
   "cell_type": "code",
   "execution_count": 5,
   "metadata": {},
   "outputs": [],
   "source": [
    "def sort_batch(batch):\n",
    "    return sorted(batch, key=lambda o: get_rank(o['surah_number'], o['verse_number']))\n"
   ]
  },
  {
   "cell_type": "code",
   "execution_count": 6,
   "metadata": {},
   "outputs": [
    {
     "data": {
      "text/plain": [
       "9"
      ]
     },
     "execution_count": 6,
     "metadata": {},
     "output_type": "execute_result"
    }
   ],
   "source": [
    "get_rank(test[0]['surah_number'], test[0]['verse_number'])"
   ]
  },
  {
   "cell_type": "code",
   "execution_count": 7,
   "metadata": {},
   "outputs": [
    {
     "data": {
      "text/plain": [
       "[{'surah_number': 2, 'verse_number': 282},\n",
       " {'surah_number': 5, 'verse_number': 17},\n",
       " {'surah_number': 14, 'verse_number': 9},\n",
       " {'surah_number': 9, 'verse_number': 118}]"
      ]
     },
     "execution_count": 7,
     "metadata": {},
     "output_type": "execute_result"
    }
   ],
   "source": [
    "sort_batch(test)"
   ]
  },
  {
   "cell_type": "code",
   "execution_count": 19,
   "metadata": {},
   "outputs": [],
   "source": [
    "def sort_verses(verses, batch_size):\n",
    "    index = batch_size\n",
    "    sorted_verses = []\n",
    "    while index <= len(verses):\n",
    "        sorted_verses.extend(sort_batch(verses[index - batch_size: index]))\n",
    "        index += batch_size\n",
    "    sorted_verses.extend(verses[index - batch_size:])\n",
    "    index -= batch_size\n",
    "    return sorted_verses\n"
   ]
  },
  {
   "cell_type": "code",
   "execution_count": 21,
   "metadata": {},
   "outputs": [
    {
     "data": {
      "text/plain": [
       "[{'surah_number': 5, 'verse_number': 17},\n",
       " {'surah_number': 14, 'verse_number': 9},\n",
       " {'surah_number': 9, 'verse_number': 118},\n",
       " {'surah_number': 2, 'verse_number': 282}]"
      ]
     },
     "execution_count": 21,
     "metadata": {},
     "output_type": "execute_result"
    }
   ],
   "source": [
    "sort_verses(test, 3)"
   ]
  },
  {
   "cell_type": "code",
   "execution_count": null,
   "metadata": {},
   "outputs": [],
   "source": []
  }
 ],
 "metadata": {
  "kernelspec": {
   "display_name": "Python 3.10.5 64-bit",
   "language": "python",
   "name": "python3"
  },
  "language_info": {
   "codemirror_mode": {
    "name": "ipython",
    "version": 3
   },
   "file_extension": ".py",
   "mimetype": "text/x-python",
   "name": "python",
   "nbconvert_exporter": "python",
   "pygments_lexer": "ipython3",
   "version": "3.10.5"
  },
  "orig_nbformat": 4,
  "vscode": {
   "interpreter": {
    "hash": "287ee184d78959fade4213e06aa8453c71d17316fcbc60aa682b94ecd5afe758"
   }
  }
 },
 "nbformat": 4,
 "nbformat_minor": 2
}
